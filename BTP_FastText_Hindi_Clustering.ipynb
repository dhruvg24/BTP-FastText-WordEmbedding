{
  "cells": [
    {
      "cell_type": "markdown",
      "metadata": {
        "id": "Av5UIKTpwwU_"
      },
      "source": [
        "Text clustering with fasttext"
      ]
    },
    {
      "cell_type": "code",
      "execution_count": null,
      "metadata": {
        "colab": {
          "base_uri": "https://localhost:8080/"
        },
        "id": "FWMKiroOa34a",
        "outputId": "300744d8-14b3-40f5-faa7-c8dc52e0a63d"
      },
      "outputs": [
        {
          "output_type": "stream",
          "name": "stdout",
          "text": [
            "Mounted at /content/drive\n"
          ]
        }
      ],
      "source": [
        "from google.colab import drive\n",
        "drive.mount('/content/drive')"
      ]
    },
    {
      "cell_type": "code",
      "execution_count": null,
      "metadata": {
        "id": "7hMxCHJZQRSw"
      },
      "outputs": [],
      "source": [
        "from ast import literal_eval\n",
        "# from hazm import *\n",
        "# from hazm import stopwords_list\n",
        "from gensim.models import Word2Vec\n",
        "from gensim.models.fasttext import FastText\n",
        "from gensim.models.keyedvectors import KeyedVectors\n",
        "from functools import lru_cache\n",
        "# from matplotlib import pyplot as plt\n",
        "# from mpl_toolkits.mplot3d import Axes3d\n",
        "import matplotlib.pyplot as plt\n",
        "from mpl_toolkits.mplot3d import Axes3D\n",
        "from operator import itemgetter\n",
        "import pickle\n",
        "import pandas as pd\n",
        "import numpy as np\n",
        "import re\n",
        "from sklearn.feature_extraction.text import CountVectorizer\n",
        "from sklearn.cluster import MiniBatchKMeans\n",
        "from sklearn.decomposition import PCA\n",
        "from sklearn.metrics import silhouette_samples , silhouette_score\n",
        "from sklearn.cluster import KMeans\n",
        "from sklearn.feature_extraction.text import TfidfVectorizer\n",
        "from tqdm import tqdm\n",
        "tqdm.pandas()"
      ]
    },
    {
      "cell_type": "code",
      "execution_count": null,
      "metadata": {
        "colab": {
          "base_uri": "https://localhost:8080/"
        },
        "id": "HL311Hq9QUDR",
        "outputId": "a35f1fca-c0d3-4c44-bd83-59f897c549b2"
      },
      "outputs": [
        {
          "output_type": "stream",
          "name": "stdout",
          "text": [
            "          0                                                  1\n",
            "0     india  मेट्रो की इस लाइन के चलने से दक्षिणी दिल्ली से...\n",
            "1  pakistan  नेटिजन यानि इंटरनेट पर सक्रिय नागरिक अब ट्विटर...\n",
            "2      news  इसमें एक फ़्लाइट एटेनडेंट की मदद की गुहार है औ...\n",
            "3     india  प्रतीक खुलेपन का, आज़ाद ख्याली का और भीड़ से अ...\n",
            "4     india  ख़ासकर पिछले 10 साल तक प्रधानमंत्री रहे मनमोहन...\n",
            "['मैं', 'मुझको', 'मेरा', 'अपने आप को', 'हमने', 'हमारा', 'अपना', 'हम', 'आप', 'आपका', 'तुम्हारा', 'अपने आप', 'स्वयं', 'वह', 'इसे', 'उसके', 'खुद को', 'कि वह', 'उसकी', 'उसका', 'खुद ही', 'यह', 'इसके', 'उन्होने', 'अपने', 'क्या', 'जो', 'किसे', 'किसको', 'कि', 'ये', 'हूँ', 'होता है', 'रहे', 'थी', 'थे', 'होना', 'गया', 'किया जा रहा है', 'किया है', 'है', 'पडा', 'होने', 'करना', 'करता है', 'किया', 'रही', 'एक', 'लेकिन', 'अगर', 'या', 'क्यूंकि', 'जैसा', 'जब तक', 'जबकि', 'की', 'पर', 'द्वारा', 'के लिए', 'साथ', 'के बारे में', 'खिलाफ', 'बीच', 'में', 'के माध्यम से', 'दौरान', 'से पहले', 'के बाद', 'ऊपर', 'नीचे', 'को', 'से', 'तक', 'से नीचे', 'करने में', 'निकल', 'बंद', 'से अधिक', 'तहत', 'दुबारा', 'आगे', 'फिर', 'एक बार', 'यहाँ', 'वहाँ', 'कब', 'कहाँ', 'क्यों', 'कैसे', 'सारे', 'किसी', 'दोनो', 'प्रत्येक', 'ज्यादा', 'अधिकांश', 'अन्य', 'में कुछ', 'ऐसा', 'में कोई', 'मात्र', 'खुद', 'समान', 'इसलिए', 'बहुत', 'सकता', 'जायेंगे', 'जरा', 'चाहिए', 'अभी', 'और', 'कर दिया', 'रखें', 'का', 'हैं', 'इस', 'होता', 'करने', 'ने', 'बनी', 'तो', 'ही', 'हो', 'इसका', 'था', 'हुआ', 'वाले', 'बाद', 'लिए', 'सकते', 'इसमें', 'दो', 'वे', 'करते', 'कहा', 'वर्ग', 'कई', 'करें', 'होती', 'अपनी', 'उनके', 'यदि', 'हुई', 'जा', 'कहते', 'जब', 'होते', 'कोई', 'हुए', 'व', 'जैसे', 'सभी', 'करता', 'उनकी', 'तरह', 'उस', 'आदि', 'इसकी', 'उनका', 'इसी', 'पे', 'तथा', 'भी', 'परंतु', 'इन', 'कम', 'दूर', 'पूरे', 'गये', 'तुम', 'मै', 'यहां', 'हुये', 'कभी', 'अथवा', 'गयी', 'प्रति', 'जाता', 'इन्हें', 'गई', 'अब', 'जिसमें', 'लिया', 'बड़ा', 'जाती', 'तब', 'उसे', 'जाते', 'लेकर', 'बड़े', 'दूसरे', 'जाने', 'बाहर', 'स्थान', 'उन्हें', 'गए', 'ऐसे', 'जिससे', 'समय', 'दोनों', 'किए', 'रहती', 'इनके', 'इनका', 'इनकी', 'सकती', 'आज', 'कल', 'जिन्हें', 'जिन्हों', 'तिन्हें', 'तिन्हों', 'किन्हों', 'किन्हें', 'इत्यादि', 'इन्हों', 'उन्हों', 'बिलकुल', 'निहायत', 'इन्हीं', 'उन्हीं', 'जितना', 'दूसरा', 'कितना', 'साबुत', 'वग़ैरह', 'कौनसा', 'लिये', 'दिया', 'जिसे', 'तिसे', 'काफ़ी', 'पहले', 'बाला', 'मानो', 'अंदर', 'भीतर', 'पूरा', 'सारा', 'उनको', 'वहीं', 'जहाँ', 'जीधर', '\\ufeffके', 'एवं', 'कुछ', 'कुल', 'रहा', 'जिस', 'जिन', 'तिस', 'तिन', 'कौन', 'किस', 'संग', 'यही', 'बही', 'उसी', 'मगर', 'कर', 'मे', 'एस', 'उन', 'सो', 'अत', '.', ',', '?', '/', '<', '>', ';', ':', \"''\", '\"\"', \"'\", '[', '}', ']', '{', '\\\\', '|', '\\\\\\\\', '||', '+', '=', '-', '_', ')', '(', '*', '&', '^', '%', '$', '#', '@', '!', '``', '~', '`']\n"
          ]
        }
      ],
      "source": [
        "import csv\n",
        "## Loading Data and stopwords\n",
        "# path = r'\\hindi-test.csv'\n",
        "path = r'/content/drive/MyDrive/Hindi-Dataset-BTP/hindi-train.csv'\n",
        "\n",
        "\n",
        "# with open(path) as f:\n",
        "#     dialect = csv.Sniffer().sniff(f.read(1024))\n",
        "#     delimiter = dialect.delimiter\n",
        "\n",
        "data = pd.read_csv(path, sep=\"\\t\", encoding='utf-8', header=None)\n",
        "# data = pd.read_csv(path, delimiter ='\"')\n",
        "# print(delimiter)\n",
        "print(data.head())\n",
        "# sw_path = '\\final_stopwords'\n",
        "\n",
        "stopwords_file_path = '/content/drive/MyDrive/Hindi-Dataset-BTP/final_stopwords.txt'\n",
        "\n",
        "def read_stopwords(file_path):\n",
        "    with open(file_path, 'r', encoding='utf-8') as file:\n",
        "        stopwords_list = [line.strip() for line in file]\n",
        "    return stopwords_list\n",
        "\n",
        "# Read stopwords from the file\n",
        "stopwords = read_stopwords(stopwords_file_path)\n",
        "\n",
        "# Print the stopwords list\n",
        "print(stopwords)\n",
        "# stopwords = [\"ही\", \"है\", \"हूँ\", \"हैं\", \"यह\", \"ये\", \"वह\", \"वे\", \"मैं\", \"हम\", \"तुम\", \"आप\", \"से\", \"को\", \"में\",\"पर\", \"जैसे\", \"इस\", \"उस\", \"इसका\", \"उसकी\", \"इन\", \"उनका\", \"उनके\", \"से\", \"में\", \"पर\", \"के\", \"को\", \"से\", \"जैसे\", \"इस\", \"उस\", \"इसका\", \"उसकी\", \"इन\", \"उनका\", \"उनके\"]\n",
        "\n",
        "# with open(sw_path) as f:\n",
        "#     stopwords = pickle.load(f)"
      ]
    },
    {
      "cell_type": "code",
      "execution_count": null,
      "metadata": {
        "id": "GxxISVQjy8Oo",
        "colab": {
          "base_uri": "https://localhost:8080/"
        },
        "outputId": "734b367a-fa57-40b1-fae6-6bd284a08876"
      },
      "outputs": [
        {
          "output_type": "stream",
          "name": "stderr",
          "text": [
            "[nltk_data] Downloading package wordnet to /root/nltk_data...\n",
            "[nltk_data]   Package wordnet is already up-to-date!\n",
            "[nltk_data] Downloading package punkt to /root/nltk_data...\n",
            "[nltk_data]   Package punkt is already up-to-date!\n"
          ]
        },
        {
          "output_type": "stream",
          "name": "stdout",
          "text": [
            "0    india|मेट्रो की इस लाइन के चलने से दक्षिणी दिल...\n",
            "1    pakistan|नेटिजन यानि इंटरनेट पर सक्रिय नागरिक ...\n",
            "2    news|इसमें एक फ़्लाइट एटेनडेंट की मदद की गुहार...\n",
            "3    india|प्रतीक खुलेपन का, आज़ाद ख्याली का और भीड...\n",
            "4    india|ख़ासकर पिछले 10 साल तक प्रधानमंत्री रहे ...\n",
            "Name: Final, dtype: object\n"
          ]
        },
        {
          "output_type": "stream",
          "name": "stderr",
          "text": [
            "100%|██████████| 3458/3458 [00:19<00:00, 175.40it/s]"
          ]
        },
        {
          "output_type": "stream",
          "name": "stdout",
          "text": [
            "['news|इसमें', 'फ़्लाइट', 'एटेनडेंट', 'मदद', 'गुहार', 'डिक', 'चेनी', 'के', 'निर्देश', 'ज़िक्र', 'उन्होंने', 'विमानों', 'मार', 'गिराने', 'बात', 'अपहरणकर्ता', 'मोहम्मद', 'अता', 'धमकियाँ', 'सुनी', 'ऑडियो', 'आयोग', 'के', 'तैयार', 'ज़्यादातर', 'बातें', 'लिखित', 'रूप', 'प्रकाशित', 'चुकी', 'रिकॉर्डिंग', 'अमेरिकन', 'एयरलाइन्स', 'के', 'फ़्लाइट', 'नंबर', 'फ़्लाइट', 'एटेनडेंट', 'बेटी', 'फ़ोन', 'कॉल', 'बोल', 'बिज़नस', 'श्रेणी', 'स्टैब', 'पता', 'नहीं', 'लगता', 'अपहरण', 'अपहरणकर्ता', 'मोहम्मद', 'अता', 'बोलते', 'सना', 'हिलेगा', 'नहीं', 'सब', 'ठीक', 'रहेगा', 'कोशिश', 'आपको', 'नुकसान', 'विमान', 'चुपचाप', 'बैठे', 'रहें', 'ज़्यादातर', 'रिकॉर्डिंग', 'फ़ेडरल', 'एविएशन', 'एडमिनिस्ट्रेशन', 'विमान', 'वर्ल्ड', 'ट्रेड', 'सेंटर', 'टकरा', 'चुका', 'ऑडियो', 'सुना', 'कन्ट्रोलर', 'विमान', 'बात', 'मैनहेटन', 'ऑडियो', 'आवाज़', 'बोल', 'विमान', 'अभी-अभी', 'वर्ल्ड', 'ट्रेड', 'सेंटर', 'टकराया', 'कहता', 'पूरी', 'इमारत', 'बिखर', 'अफ़रा-तफ़री', 'के', 'आलम', 'फ़ाइटर', 'जेट', 'पूर्व', 'ओर', 'उड़ान', 'भरते', 'सैन्य', 'कमांडर', 'जल्द', 'जल्द', 'वाशिंगटन', 'आने', 'आदेश', 'देते', 'सुने', 'आख़िरी', 'विमान', 'यूनाइटेड', 'के', 'पेनसल्वेनिया', 'गिरने', 'मेजर', 'केविन', 'सुने', 'मुझे', 'बात', 'परवाह', 'नहीं', 'कितनी', 'खिड़कियाँ', 'तोड़', 'देते']\n"
          ]
        },
        {
          "output_type": "stream",
          "name": "stderr",
          "text": [
            "\n"
          ]
        }
      ],
      "source": [
        "import nltk\n",
        "import re\n",
        "nltk.download('wordnet')\n",
        "# nltk.download('')\n",
        "from nltk.tokenize import word_tokenize\n",
        "from nltk.stem import WordNetLemmatizer\n",
        "from functools import lru_cache\n",
        "from tqdm import tqdm\n",
        "\n",
        "# Download the punkt tokenizer if not already downloaded\n",
        "nltk.download('punkt')\n",
        "\n",
        "# Assuming stopwords is defined somewhere in your code\n",
        "\n",
        "# Create a lemmatizer object\n",
        "lemmatizer = nltk.stem.WordNetLemmatizer()\n",
        "\n",
        "# Apply lru_cache to the lemmatizer function\n",
        "lemmatize = lru_cache(maxsize=500000)(lemmatizer.lemmatize)\n",
        "\n",
        "def clean(text, stopwords):\n",
        "\n",
        "    text = re.sub(r'\\s+', ' ', text).strip()\n",
        "    # Remove Hindi numbers\n",
        "    text = re.sub(r'[०-९]+', '', text)\n",
        "    hindi_sentence = re.compile('(बीबीसी हिन्दी के एंड्रॉएड ऐप के लिए यहां क्लिक करें. आप हमें फ़ेसबुक और ट्विटर पर भी फ़ॉलो कर सकते हैं.)')\n",
        "    # text = re.sub(re.escape(hindi_sentence), '', text)\n",
        "    text = re.sub(hindi_sentence, '', text)\n",
        "\n",
        "    text = re.sub(r'\\d+(\\.\\d+)?', '', text)\n",
        "    # Remove unnecessary commas, dots, and s\n",
        "    cleaned_text = re.sub(r'[`.,?\\s]+', ' ', text)\n",
        "\n",
        "    # Remove alphanumeric items\n",
        "    text = re.sub(r'\\b[0-9a-zA-Z]+\\b', '', text)\n",
        "\n",
        "    # Remove the specified line\n",
        "    cleaned_text = re.sub(r'\\(बीबीसी हिन्दी के.*\\)','', cleaned_text).strip()\n",
        "\n",
        "    # Tokenize and remove stopwords\n",
        "    tokens = [lemmatize(i) for i in word_tokenize(cleaned_text) if i not in stopwords]\n",
        "\n",
        "    return tokens\n",
        "\n",
        "data.columns = ['title', 'desc']\n",
        "\n",
        "\n",
        "\n",
        "data.drop_duplicates(subset='desc', inplace=True)\n",
        "data.dropna(inplace=True)\n",
        "\n",
        "data['Final'] = data['title'].str.cat(data['desc'], sep='|')\n",
        "\n",
        "print(data['Final'].head())\n",
        "data['clean'] = data['Final'].progress_apply(lambda x: clean(x, stopwords))\n",
        "\n",
        "print(data['clean'].iloc[2])\n",
        "\n"
      ]
    },
    {
      "cell_type": "code",
      "source": [
        "data = data.loc[data['title'].isin(['india','international', 'news','science','sport','entertainment'])]\n",
        "print(len(data))"
      ],
      "metadata": {
        "colab": {
          "base_uri": "https://localhost:8080/"
        },
        "id": "jjwtrTd68cTi",
        "outputId": "3999068f-48e5-4946-b92c-057dc0763db9"
      },
      "execution_count": null,
      "outputs": [
        {
          "output_type": "stream",
          "name": "stdout",
          "text": [
            "3255\n"
          ]
        }
      ]
    },
    {
      "cell_type": "code",
      "execution_count": null,
      "metadata": {
        "colab": {
          "base_uri": "https://localhost:8080/"
        },
        "id": "-sPSSMtmQdXY",
        "outputId": "e8d11c6f-32e2-4e75-ea06-1f4b241bf65c"
      },
      "outputs": [
        {
          "output_type": "stream",
          "name": "stderr",
          "text": [
            "3254it [00:00, 19825.35it/s]\n"
          ]
        }
      ],
      "source": [
        "#Remove duplicated values after preprocessing\n",
        "\n",
        "_,idx = np.unique(data['clean'],return_index = True)\n",
        "data = data.iloc[idx,:]\n",
        "\n",
        "# Remove values with less than 50 words (commercial or incomplete news)\n",
        "# this may be changed as per the need\n",
        "df=data.loc[data.Final.map(lambda x :len(x) > 0),['Final','clean']]\n",
        "\n",
        "\n",
        "mylist = list()\n",
        "for i,j in tqdm(df.iterrows()):\n",
        "    sent = j['clean']\n",
        "    mylist.append(sent)\n",
        "\n"
      ]
    },
    {
      "cell_type": "code",
      "execution_count": null,
      "metadata": {
        "colab": {
          "base_uri": "https://localhost:8080/"
        },
        "id": "Cnl033dmQf9A",
        "outputId": "9454e871-8c25-4de4-8b5e-e9bc8fc40f21"
      },
      "outputs": [
        {
          "output_type": "stream",
          "name": "stdout",
          "text": [
            "Collecting fasttext\n",
            "  Downloading fasttext-0.9.2.tar.gz (68 kB)\n",
            "\u001b[?25l     \u001b[90m━━━━━━━━━━━━━━━━━━━━━━━━━━━━━━━━━━━━━━━━\u001b[0m \u001b[32m0.0/68.8 kB\u001b[0m \u001b[31m?\u001b[0m eta \u001b[36m-:--:--\u001b[0m\r\u001b[2K     \u001b[90m━━━━━━━━━━━━━━━━━━━━━━━━━━━━━━━━━━━━━━━━\u001b[0m \u001b[32m68.8/68.8 kB\u001b[0m \u001b[31m1.9 MB/s\u001b[0m eta \u001b[36m0:00:00\u001b[0m\n",
            "\u001b[?25h  Preparing metadata (setup.py) ... \u001b[?25l\u001b[?25hdone\n",
            "Collecting pybind11>=2.2 (from fasttext)\n",
            "  Using cached pybind11-2.11.1-py3-none-any.whl (227 kB)\n",
            "Requirement already satisfied: setuptools>=0.7.0 in /usr/local/lib/python3.10/dist-packages (from fasttext) (67.7.2)\n",
            "Requirement already satisfied: numpy in /usr/local/lib/python3.10/dist-packages (from fasttext) (1.23.5)\n",
            "Building wheels for collected packages: fasttext\n",
            "  Building wheel for fasttext (setup.py) ... \u001b[?25l\u001b[?25hdone\n",
            "  Created wheel for fasttext: filename=fasttext-0.9.2-cp310-cp310-linux_x86_64.whl size=4199773 sha256=df73561daf6f7e521e91153ab14078623799365d7b4e98d09e896b51adeb0810\n",
            "  Stored in directory: /root/.cache/pip/wheels/a5/13/75/f811c84a8ab36eedbaef977a6a58a98990e8e0f1967f98f394\n",
            "Successfully built fasttext\n",
            "Installing collected packages: pybind11, fasttext\n",
            "Successfully installed fasttext-0.9.2 pybind11-2.11.1\n"
          ]
        }
      ],
      "source": [
        "#Loading Fasttext pretrained word2vec model\n",
        "# pip install fasttext\n",
        "# import fasttext\n",
        "!pip install fasttext\n"
      ]
    },
    {
      "cell_type": "markdown",
      "source": [],
      "metadata": {
        "id": "zeZ-ZltRgl8G"
      }
    },
    {
      "cell_type": "code",
      "source": [
        "import fasttext.util\n",
        "import fasttext"
      ],
      "metadata": {
        "id": "Mu05gLJndt94"
      },
      "execution_count": null,
      "outputs": []
    },
    {
      "cell_type": "code",
      "source": [
        "# fasttext.util.download_model('hi', if_exists='ignore')  # For hindi"
      ],
      "metadata": {
        "colab": {
          "base_uri": "https://localhost:8080/"
        },
        "id": "xqXLDl-Mdy-r",
        "outputId": "dd54639f-b4cc-4aa2-c24b-a6ca9ff99c9f"
      },
      "execution_count": null,
      "outputs": [
        {
          "output_type": "stream",
          "name": "stdout",
          "text": [
            "Downloading https://dl.fbaipublicfiles.com/fasttext/vectors-crawl/cc.hi.300.bin.gz\n"
          ]
        }
      ]
    },
    {
      "cell_type": "code",
      "source": [
        "\n",
        "#Loading Fasttext pretrained in vectorised format\n",
        "model_path = r'/content/drive/MyDrive/Hindi-Dataset-BTP/cc.hi.300.vec'\n",
        "model = KeyedVectors.load_word2vec_format(model_path)\n"
      ],
      "metadata": {
        "id": "sfbKqEn6d0uI"
      },
      "execution_count": null,
      "outputs": []
    },
    {
      "cell_type": "code",
      "source": [
        "#Testing model by giving words\n",
        "model.most_similar('भारत')"
      ],
      "metadata": {
        "colab": {
          "base_uri": "https://localhost:8080/"
        },
        "id": "4-OWC29EN7BW",
        "outputId": "ff921f20-3a5f-46d0-b8fb-f1208ac87c30"
      },
      "execution_count": null,
      "outputs": [
        {
          "output_type": "execute_result",
          "data": {
            "text/plain": [
              "[('देश', 0.6862446069717407),\n",
              " ('भारतीय', 0.6340397596359253),\n",
              " ('पाकिस्तान', 0.6237473487854004),\n",
              " ('राज्य', 0.6183289289474487),\n",
              " ('विश्व', 0.5960472822189331),\n",
              " ('चीन', 0.5896427035331726),\n",
              " ('प्रदेश', 0.5875652432441711),\n",
              " ('अमेरिका', 0.5864876508712769),\n",
              " ('ब्रिटिश', 0.5656977295875549),\n",
              " ('दक्षिण', 0.5627919435501099)]"
            ]
          },
          "metadata": {},
          "execution_count": 70
        }
      ]
    },
    {
      "cell_type": "code",
      "execution_count": null,
      "metadata": {
        "id": "e49KdM5hQiqs"
      },
      "outputs": [],
      "source": [
        "\n",
        "#Generating Vectors for list of documents (list of cleaned tokens)\n",
        "def vectorize(list_of_docs, model):\n",
        "\n",
        "    features = []\n",
        "\n",
        "    for tokens in list_of_docs:\n",
        "        zero_vector = np.zeros(model.vector_size)\n",
        "        vectors = []\n",
        "        for token in tokens:\n",
        "            if token in model:\n",
        "                try:\n",
        "                    vectors.append(model[token])\n",
        "                except KeyError:\n",
        "                    continue\n",
        "        if vectors:\n",
        "            vectors = np.asarray(vectors)\n",
        "            avg_vec = vectors.mean(axis=0)\n",
        "            features.append(avg_vec)\n",
        "        else:\n",
        "            features.append(zero_vector)\n",
        "    return features\n",
        "\n"
      ]
    },
    {
      "cell_type": "code",
      "source": [
        "\n",
        "# for k = 2\n",
        "#Generating clusters and sillhouete score by kmeans alg (MiniBatchKMeans could be used too)\n",
        "def kmeans_clusters(\n",
        "\tX,\n",
        "    k,\n",
        "    print_silhouette_values,\n",
        "):\n",
        "\n",
        "    km = KMeans(init='k-means++',max_iter =10000,n_clusters=k).fit(X)\n",
        "    print(f\"For n_clusters = {k}\")\n",
        "    print(f\"Silhouette coefficient: {silhouette_score(X, km.labels_):0.2f}\")\n",
        "    print(f\"Inertia:{km.inertia_}\")\n",
        "\n",
        "    if print_silhouette_values:\n",
        "        sample_silhouette_values = silhouette_samples(X, km.labels_)\n",
        "        print(\"Silhouette values:\")\n",
        "        silhouette_values = []\n",
        "        for i in range(k):\n",
        "            cluster_silhouette_values = sample_silhouette_values[km.labels_ == i]\n",
        "            silhouette_values.append(\n",
        "                (\n",
        "                    i,\n",
        "                    cluster_silhouette_values.shape[0],\n",
        "                    cluster_silhouette_values.mean(),\n",
        "                    cluster_silhouette_values.min(),\n",
        "                    cluster_silhouette_values.max(),\n",
        "                )\n",
        "            )\n",
        "        silhouette_values = sorted(\n",
        "            silhouette_values, key=lambda tup: tup[2], reverse=True\n",
        "        )\n",
        "        for s in silhouette_values:\n",
        "            print(\n",
        "                f\"    Cluster {s[0]}: Size:{s[1]} | Avg:{s[2]:.2f} | Min:{s[3]:.2f} | Max: {s[4]:.2f}\"\n",
        "            )\n",
        "    return km, km.labels_\n",
        "\n",
        "vectorized_docs = vectorize(mylist, model=model)\n",
        "#choosing right number of clusters w.r.t scores\n",
        "\n",
        "clustering, cluster_labels = kmeans_clusters(\n",
        "\tX=vectorized_docs,\n",
        "    k=2,\n",
        "    print_silhouette_values=True,\n",
        ")\n"
      ],
      "metadata": {
        "colab": {
          "base_uri": "https://localhost:8080/"
        },
        "outputId": "c08f84d8-8116-4a2c-8ea2-8e386953228d",
        "id": "XVRnzkTNwZLB"
      },
      "execution_count": null,
      "outputs": [
        {
          "output_type": "stream",
          "name": "stderr",
          "text": [
            "/usr/local/lib/python3.10/dist-packages/sklearn/cluster/_kmeans.py:870: FutureWarning: The default value of `n_init` will change from 10 to 'auto' in 1.4. Set the value of `n_init` explicitly to suppress the warning\n",
            "  warnings.warn(\n"
          ]
        },
        {
          "output_type": "stream",
          "name": "stdout",
          "text": [
            "For n_clusters = 2\n",
            "Silhouette coefficient: 0.35\n",
            "Inertia:93.27217286274487\n",
            "Silhouette values:\n",
            "    Cluster 1: Size:3138 | Avg:0.36 | Min:0.05 | Max: 0.46\n",
            "    Cluster 0: Size:116 | Avg:0.21 | Min:-0.06 | Max: 0.41\n"
          ]
        }
      ]
    },
    {
      "cell_type": "code",
      "source": [
        "\n",
        "#FOR k = 6\n",
        "\n",
        "\n",
        "#Generating clusters and sillhouete score by kmeans alg (MiniBatchKMeans could be used too)\n",
        "def kmeans_clusters(\n",
        "\tX,\n",
        "    k,\n",
        "    print_silhouette_values,\n",
        "):\n",
        "\n",
        "    km = KMeans(init='k-means++',max_iter =10000,n_clusters=k).fit(X)\n",
        "    print(f\"For n_clusters = {k}\")\n",
        "    print(f\"Silhouette coefficient: {silhouette_score(X, km.labels_):0.2f}\")\n",
        "    print(f\"Inertia:{km.inertia_}\")\n",
        "\n",
        "    if print_silhouette_values:\n",
        "        sample_silhouette_values = silhouette_samples(X, km.labels_)\n",
        "        print(\"Silhouette values:\")\n",
        "        silhouette_values = []\n",
        "        for i in range(k):\n",
        "            cluster_silhouette_values = sample_silhouette_values[km.labels_ == i]\n",
        "            silhouette_values.append(\n",
        "                (\n",
        "                    i,\n",
        "                    cluster_silhouette_values.shape[0],\n",
        "                    cluster_silhouette_values.mean(),\n",
        "                    cluster_silhouette_values.min(),\n",
        "                    cluster_silhouette_values.max(),\n",
        "                )\n",
        "            )\n",
        "        silhouette_values = sorted(\n",
        "            silhouette_values, key=lambda tup: tup[2], reverse=True\n",
        "        )\n",
        "        for s in silhouette_values:\n",
        "            print(\n",
        "                f\"    Cluster {s[0]}: Size:{s[1]} | Avg:{s[2]:.2f} | Min:{s[3]:.2f} | Max: {s[4]:.2f}\"\n",
        "            )\n",
        "    return km, km.labels_\n",
        "\n",
        "vectorized_docs = vectorize(mylist, model=model)\n",
        "#choosing right number of clusters w.r.t scores\n",
        "\n",
        "clustering, cluster_labels = kmeans_clusters(\n",
        "\tX=vectorized_docs,\n",
        "    k=6,\n",
        "    print_silhouette_values=True,\n",
        ")\n"
      ],
      "metadata": {
        "colab": {
          "base_uri": "https://localhost:8080/"
        },
        "id": "KmYqQrYsVq0r",
        "outputId": "a0b4241e-b30e-44c0-c6af-03adbb7a2683"
      },
      "execution_count": null,
      "outputs": [
        {
          "output_type": "stream",
          "name": "stderr",
          "text": [
            "/usr/local/lib/python3.10/dist-packages/sklearn/cluster/_kmeans.py:870: FutureWarning: The default value of `n_init` will change from 10 to 'auto' in 1.4. Set the value of `n_init` explicitly to suppress the warning\n",
            "  warnings.warn(\n"
          ]
        },
        {
          "output_type": "stream",
          "name": "stdout",
          "text": [
            "For n_clusters = 6\n",
            "Silhouette coefficient: 0.06\n",
            "Inertia:78.41760766033242\n",
            "Silhouette values:\n",
            "    Cluster 5: Size:56 | Avg:0.37 | Min:0.01 | Max: 0.52\n",
            "    Cluster 2: Size:570 | Avg:0.11 | Min:0.02 | Max: 0.25\n",
            "    Cluster 1: Size:748 | Avg:0.07 | Min:-0.06 | Max: 0.21\n",
            "    Cluster 4: Size:168 | Avg:0.05 | Min:-0.10 | Max: 0.20\n",
            "    Cluster 0: Size:809 | Avg:0.05 | Min:-0.05 | Max: 0.16\n",
            "    Cluster 3: Size:903 | Avg:0.03 | Min:-0.05 | Max: 0.14\n"
          ]
        }
      ]
    },
    {
      "cell_type": "code",
      "execution_count": null,
      "metadata": {
        "id": "3_0RqRfhQ5Ha"
      },
      "outputs": [],
      "source": [
        "\n"
      ]
    },
    {
      "cell_type": "code",
      "source": [
        "\n",
        "k=6\n",
        "\n",
        "### Printing Most representative terms per cluster based on kmeans centeroid\n",
        "for i in range(k):\n",
        "    tokens_per_cluster = \"\"\n",
        "    most_representative = model.most_similar(positive=[clustering.cluster_centers_[i]], topn=50)\n",
        "    # print(clustering.cluster_centers_[i])\n",
        "    for t in most_representative:\n",
        "        tokens_per_cluster += f\"{t[0]} \"\n",
        "    print(f\"Cluster {i}: {tokens_per_cluster}\")\n"
      ],
      "metadata": {
        "colab": {
          "base_uri": "https://localhost:8080/"
        },
        "id": "WDs9yx7QWAVe",
        "outputId": "68d812d9-0750-4386-b7e6-168f08b37042"
      },
      "execution_count": null,
      "outputs": [
        {
          "output_type": "stream",
          "name": "stdout",
          "text": [
            "Cluster 0: में लिए साथ उनके पहले अपने कुछ बाद फिर नहीं आने 01BH049800 01BH045819 उसके 01BH049400 ऐसे ago25 01BH043500 काम 01BH044422 01BH045817 लेकर करने 01BH050500 लोगों 01BH051200 01BH044213 01BH045812 01BH049700 01BH045814 किसी लेकिन होने 01BH049600 01BH045612 01BH045616 01BH044429 वाले उन्हें 01BH044412 कोई 01BH044414 01BH043600 काफी 01BH045611 ७०१७ 01BH046900 01BH045017 01BH051300 निहीं \n",
            "Cluster 1: फिर में उनके नहीं कुछ लेकिन अपने साथ पहले लिए उन्हें 01BH051200 बाद 01BH049800 उसके ऐसा 01BH045819 01BH044422 01BH049400 ऐसे 01BH044213 01BH044429 01BH045817 01BH045616 01BH045812 01BH049600 01BH045612 01BH045814 01BH044412 01BH044433 01BH045611 शायद 01BH050500 कोई 01BH044414 01BH043500 ही 01BH045614 खुद भी 01BH044413 01BH043600 अगर 01BH046523 काम 01BH049700 ७०१७ उसे 01BH046900 आने \n",
            "Cluster 2: में लिए उनके अपने साथ पहले बाद फिर नहीं कुछ ७०१७ उन्हें ago25 लेकिन लेकर 01BH045819 01BH049800 01BH051200 कोई 01BH044429 उसके 01BH045817 किसी 01BH050500 01BH044422 आने 01BH044213 01BH043500 01BH049400 01BH045812 01BH049700 01BH045814 ऐसे 01BH045017 01BH044412 01BH045616 01BH046523 01BH046900 01BH049600 मामले Ansumang 01BH044413 लोगों 01BH045611 करने 01BH044414 01BH045612 उन्होंने 01BH044433 01BH044416 \n",
            "Cluster 3: में लिए उनके बाद साथ अपने पहले के उसके कुछ फिर 01BH049800 लोगों 01BH050500 ७०१७ 01BH045819 उन्हें ago25 लेकर आने 01BH045817 01BH051200 01BH045812 मामले दौरान 01BH044422 01BH044429 01BH045814 01BH044213 01BH043500 01BH049400 पास 01BH046900 Ansumang 01BH045616 01BH045611 01BH044412 01BH049700 करने 01BH044414 01BH043600 01BH045017 होने किसी 01BH046523 वहां वाले 01BH045612 लेकिन 01BH044413 \n",
            "Cluster 4: में पहले लिए साथ बाद उनके अपने फिर 01BH050500 Ansumang 211.2 दूसरे ७०१७ 01BH049800 ago25 01BH051500 आर्ह्स 01BH045819 उन्हें रुखते लिलकर 01BH049400 01BH044429 01BH044422 दौरान 01BH045814 कुछ 01BH051200 01BH050600 01BH045812 01BH045817 01BH045015 लेकिन 01BH051600 01BH044213 01BH044414 01BH039800 01BH044412 मैच 218.8 01BH046523 01BH044416 01BH046900 उसके पूरे 01BH045616 01BH045612 25.43 01BH045611 लेकर \n",
            "Cluster 5: रन विकेट 16.18 ओपनरों फालोआन मैच रनआउट नॉटआउट रायडू नाटआउट 18x18px 250वां इशांक डिसमसल गेंदो 18426 ओपनर्स 43.49 42.53 218.8 रनों पारी कुमिंस आेवर 211.2 आलराऊंडर आतान KXIPvsKKR 33.41 ऑलआउट बोलरों बैट्समैन 10,662 25.93 42.84 200वां चटकाए में 30.5अंक 58.27 छक्‍कों 102.84 रेनशा सुपरओवर रनो डिसमिसल्स रनं इनिंग चटकाये 25.73 \n"
          ]
        }
      ]
    },
    {
      "cell_type": "code",
      "execution_count": null,
      "metadata": {
        "id": "LsZm7Kc3wtQU",
        "colab": {
          "base_uri": "https://localhost:8080/"
        },
        "outputId": "3c96a558-fd59-4c06-991d-05d9d13b04e3"
      },
      "outputs": [
        {
          "output_type": "stream",
          "name": "stdout",
          "text": [
            "k:2\n",
            "**************************************************\n"
          ]
        },
        {
          "output_type": "stream",
          "name": "stderr",
          "text": [
            "/usr/local/lib/python3.10/dist-packages/sklearn/cluster/_kmeans.py:870: FutureWarning: The default value of `n_init` will change from 10 to 'auto' in 1.4. Set the value of `n_init` explicitly to suppress the warning\n",
            "  warnings.warn(\n"
          ]
        },
        {
          "output_type": "stream",
          "name": "stdout",
          "text": [
            "For n_clusters = 2\n",
            "Silhouette coefficient: 0.71\n",
            "Inertia:13.66152036122105\n",
            "Silhouette values:\n",
            "    Cluster 0: Size:3144 | Avg:0.72 | Min:-0.03 | Max: 0.81\n",
            "    Cluster 1: Size:110 | Avg:0.50 | Min:-0.03 | Max: 0.68\n",
            "k:3\n",
            "**************************************************\n",
            "For n_clusters = 3\n"
          ]
        },
        {
          "output_type": "stream",
          "name": "stderr",
          "text": [
            "/usr/local/lib/python3.10/dist-packages/sklearn/cluster/_kmeans.py:870: FutureWarning: The default value of `n_init` will change from 10 to 'auto' in 1.4. Set the value of `n_init` explicitly to suppress the warning\n",
            "  warnings.warn(\n"
          ]
        },
        {
          "output_type": "stream",
          "name": "stdout",
          "text": [
            "Silhouette coefficient: 0.50\n",
            "Inertia:6.672118401338548\n",
            "Silhouette values:\n",
            "    Cluster 0: Size:2062 | Avg:0.53 | Min:0.01 | Max: 0.69\n",
            "    Cluster 2: Size:108 | Avg:0.50 | Min:-0.03 | Max: 0.69\n",
            "    Cluster 1: Size:1084 | Avg:0.43 | Min:-0.02 | Max: 0.62\n",
            "k:4\n",
            "**************************************************\n",
            "For n_clusters = 4\n"
          ]
        },
        {
          "output_type": "stream",
          "name": "stderr",
          "text": [
            "/usr/local/lib/python3.10/dist-packages/sklearn/cluster/_kmeans.py:870: FutureWarning: The default value of `n_init` will change from 10 to 'auto' in 1.4. Set the value of `n_init` explicitly to suppress the warning\n",
            "  warnings.warn(\n"
          ]
        },
        {
          "output_type": "stream",
          "name": "stdout",
          "text": [
            "Silhouette coefficient: 0.41\n",
            "Inertia:4.908183182886628\n",
            "Silhouette values:\n",
            "    Cluster 2: Size:108 | Avg:0.49 | Min:-0.05 | Max: 0.68\n",
            "    Cluster 1: Size:1229 | Avg:0.46 | Min:0.01 | Max: 0.63\n",
            "    Cluster 0: Size:594 | Avg:0.41 | Min:-0.02 | Max: 0.61\n",
            "    Cluster 3: Size:1323 | Avg:0.35 | Min:-0.04 | Max: 0.61\n",
            "k:5\n",
            "**************************************************\n",
            "For n_clusters = 5\n"
          ]
        },
        {
          "output_type": "stream",
          "name": "stderr",
          "text": [
            "/usr/local/lib/python3.10/dist-packages/sklearn/cluster/_kmeans.py:870: FutureWarning: The default value of `n_init` will change from 10 to 'auto' in 1.4. Set the value of `n_init` explicitly to suppress the warning\n",
            "  warnings.warn(\n"
          ]
        },
        {
          "output_type": "stream",
          "name": "stdout",
          "text": [
            "Silhouette coefficient: 0.43\n",
            "Inertia:3.5715837271429502\n",
            "Silhouette values:\n",
            "    Cluster 3: Size:56 | Avg:0.64 | Min:0.16 | Max: 0.77\n",
            "    Cluster 0: Size:1197 | Avg:0.47 | Min:0.01 | Max: 0.65\n",
            "    Cluster 1: Size:576 | Avg:0.42 | Min:-0.04 | Max: 0.62\n",
            "    Cluster 2: Size:1272 | Avg:0.39 | Min:-0.02 | Max: 0.64\n",
            "    Cluster 4: Size:153 | Avg:0.34 | Min:-0.10 | Max: 0.62\n",
            "k:6\n",
            "**************************************************\n",
            "For n_clusters = 6\n"
          ]
        },
        {
          "output_type": "stream",
          "name": "stderr",
          "text": [
            "/usr/local/lib/python3.10/dist-packages/sklearn/cluster/_kmeans.py:870: FutureWarning: The default value of `n_init` will change from 10 to 'auto' in 1.4. Set the value of `n_init` explicitly to suppress the warning\n",
            "  warnings.warn(\n"
          ]
        },
        {
          "output_type": "stream",
          "name": "stdout",
          "text": [
            "Silhouette coefficient: 0.39\n",
            "Inertia:2.8472892858891057\n",
            "Silhouette values:\n",
            "    Cluster 4: Size:56 | Avg:0.64 | Min:0.16 | Max: 0.77\n",
            "    Cluster 5: Size:349 | Avg:0.41 | Min:-0.03 | Max: 0.61\n",
            "    Cluster 0: Size:880 | Avg:0.41 | Min:-0.01 | Max: 0.60\n",
            "    Cluster 1: Size:1081 | Avg:0.38 | Min:0.02 | Max: 0.63\n",
            "    Cluster 2: Size:735 | Avg:0.37 | Min:-0.02 | Max: 0.62\n",
            "    Cluster 3: Size:153 | Avg:0.34 | Min:-0.11 | Max: 0.62\n",
            "k:7\n",
            "**************************************************\n",
            "For n_clusters = 7\n"
          ]
        },
        {
          "output_type": "stream",
          "name": "stderr",
          "text": [
            "/usr/local/lib/python3.10/dist-packages/sklearn/cluster/_kmeans.py:870: FutureWarning: The default value of `n_init` will change from 10 to 'auto' in 1.4. Set the value of `n_init` explicitly to suppress the warning\n",
            "  warnings.warn(\n"
          ]
        },
        {
          "output_type": "stream",
          "name": "stdout",
          "text": [
            "Silhouette coefficient: 0.40\n",
            "Inertia:2.4917240428728977\n",
            "Silhouette values:\n",
            "    Cluster 4: Size:50 | Avg:0.63 | Min:0.18 | Max: 0.75\n",
            "    Cluster 3: Size:853 | Avg:0.42 | Min:-0.03 | Max: 0.61\n",
            "    Cluster 1: Size:1009 | Avg:0.42 | Min:0.03 | Max: 0.66\n",
            "    Cluster 5: Size:350 | Avg:0.40 | Min:-0.05 | Max: 0.60\n",
            "    Cluster 2: Size:82 | Avg:0.39 | Min:0.02 | Max: 0.62\n",
            "    Cluster 0: Size:719 | Avg:0.38 | Min:-0.04 | Max: 0.63\n",
            "    Cluster 6: Size:191 | Avg:0.23 | Min:-0.15 | Max: 0.53\n",
            "k:8\n",
            "**************************************************\n",
            "For n_clusters = 8\n"
          ]
        },
        {
          "output_type": "stream",
          "name": "stderr",
          "text": [
            "/usr/local/lib/python3.10/dist-packages/sklearn/cluster/_kmeans.py:870: FutureWarning: The default value of `n_init` will change from 10 to 'auto' in 1.4. Set the value of `n_init` explicitly to suppress the warning\n",
            "  warnings.warn(\n"
          ]
        },
        {
          "output_type": "stream",
          "name": "stdout",
          "text": [
            "Silhouette coefficient: 0.35\n",
            "Inertia:2.180464722683363\n",
            "Silhouette values:\n",
            "    Cluster 3: Size:50 | Avg:0.62 | Min:0.16 | Max: 0.75\n",
            "    Cluster 2: Size:273 | Avg:0.39 | Min:-0.04 | Max: 0.60\n",
            "    Cluster 6: Size:79 | Avg:0.38 | Min:0.01 | Max: 0.61\n",
            "    Cluster 4: Size:744 | Avg:0.36 | Min:-0.01 | Max: 0.61\n",
            "    Cluster 5: Size:537 | Avg:0.36 | Min:-0.02 | Max: 0.56\n",
            "    Cluster 7: Size:538 | Avg:0.35 | Min:-0.06 | Max: 0.60\n",
            "    Cluster 0: Size:860 | Avg:0.34 | Min:0.00 | Max: 0.60\n",
            "    Cluster 1: Size:173 | Avg:0.22 | Min:-0.16 | Max: 0.54\n",
            "k:9\n",
            "**************************************************\n",
            "For n_clusters = 9\n"
          ]
        },
        {
          "output_type": "stream",
          "name": "stderr",
          "text": [
            "/usr/local/lib/python3.10/dist-packages/sklearn/cluster/_kmeans.py:870: FutureWarning: The default value of `n_init` will change from 10 to 'auto' in 1.4. Set the value of `n_init` explicitly to suppress the warning\n",
            "  warnings.warn(\n"
          ]
        },
        {
          "output_type": "stream",
          "name": "stdout",
          "text": [
            "Silhouette coefficient: 0.33\n",
            "Inertia:1.9803107565505087\n",
            "Silhouette values:\n",
            "    Cluster 3: Size:50 | Avg:0.62 | Min:0.15 | Max: 0.75\n",
            "    Cluster 7: Size:76 | Avg:0.38 | Min:-0.01 | Max: 0.61\n",
            "    Cluster 1: Size:204 | Avg:0.37 | Min:-0.06 | Max: 0.58\n",
            "    Cluster 0: Size:733 | Avg:0.33 | Min:-0.01 | Max: 0.58\n",
            "    Cluster 8: Size:560 | Avg:0.33 | Min:-0.02 | Max: 0.59\n",
            "    Cluster 4: Size:712 | Avg:0.32 | Min:-0.01 | Max: 0.57\n",
            "    Cluster 6: Size:382 | Avg:0.31 | Min:-0.07 | Max: 0.57\n",
            "    Cluster 5: Size:377 | Avg:0.31 | Min:-0.06 | Max: 0.52\n",
            "    Cluster 2: Size:160 | Avg:0.24 | Min:-0.16 | Max: 0.55\n",
            "k:10\n",
            "**************************************************\n"
          ]
        },
        {
          "output_type": "stream",
          "name": "stderr",
          "text": [
            "/usr/local/lib/python3.10/dist-packages/sklearn/cluster/_kmeans.py:870: FutureWarning: The default value of `n_init` will change from 10 to 'auto' in 1.4. Set the value of `n_init` explicitly to suppress the warning\n",
            "  warnings.warn(\n"
          ]
        },
        {
          "output_type": "stream",
          "name": "stdout",
          "text": [
            "For n_clusters = 10\n",
            "Silhouette coefficient: 0.34\n",
            "Inertia:1.8007403827408748\n",
            "Silhouette values:\n",
            "    Cluster 4: Size:50 | Avg:0.62 | Min:0.16 | Max: 0.75\n",
            "    Cluster 1: Size:78 | Avg:0.43 | Min:-0.02 | Max: 0.65\n",
            "    Cluster 9: Size:185 | Avg:0.39 | Min:-0.05 | Max: 0.60\n",
            "    Cluster 3: Size:344 | Avg:0.36 | Min:-0.03 | Max: 0.61\n",
            "    Cluster 2: Size:688 | Avg:0.35 | Min:0.02 | Max: 0.60\n",
            "    Cluster 8: Size:706 | Avg:0.34 | Min:-0.03 | Max: 0.59\n",
            "    Cluster 0: Size:553 | Avg:0.33 | Min:-0.04 | Max: 0.59\n",
            "    Cluster 7: Size:391 | Avg:0.32 | Min:-0.06 | Max: 0.53\n",
            "    Cluster 6: Size:170 | Avg:0.24 | Min:-0.13 | Max: 0.55\n",
            "    Cluster 5: Size:89 | Avg:0.23 | Min:-0.12 | Max: 0.54\n",
            "[ 0.09720615 -0.06905041]\n",
            "[ 0.09720615 -0.01051525  0.10838741 ...  0.06857102  0.17447084\n",
            "  0.17574549]\n"
          ]
        }
      ],
      "source": [
        "###Reducing data with pca\n",
        "\n",
        "def pca_reduction(feature_matrix , method='exact'):\n",
        "    pca = PCA(n_components=2, random_state=0)\n",
        "\n",
        "    feature_matrix = pca.fit_transform(feature_matrix)\n",
        "    return feature_matrix\n",
        "\n",
        "reduced_data=pca_reduction(vectorized_docs)\n",
        "\n",
        "### Trying model with dimension reduction algs\n",
        "wcss = []\n",
        "for i in range(2,11):\n",
        "    print(f\"k:{i}\")\n",
        "    print(\"*\"*50)\n",
        "    clustering, cluster_labels = kmeans_clusters(\n",
        "        \tX=reduced_data,\n",
        "            k=i,\n",
        "            print_silhouette_values=True,\n",
        "        )\n",
        "    wcss.append(clustering.inertia_)\n",
        "\n",
        "# Accessing the first row of reduced_data\n",
        "first_row = reduced_data[0, :]\n",
        "print(first_row)\n",
        "# Accessing the values in the first column of reduced_data\n",
        "first_column = reduced_data[:, 0]\n",
        "\n",
        "print(first_column)"
      ]
    },
    {
      "cell_type": "code",
      "source": [
        "set(cluster_labels)"
      ],
      "metadata": {
        "colab": {
          "base_uri": "https://localhost:8080/"
        },
        "id": "zFHyxkhJDzhf",
        "outputId": "4c8c2c07-f7ab-41ef-8511-2d75355e3c31"
      },
      "execution_count": null,
      "outputs": [
        {
          "output_type": "execute_result",
          "data": {
            "text/plain": [
              "{0, 1, 2, 3, 4, 5}"
            ]
          },
          "metadata": {},
          "execution_count": 22
        }
      ]
    },
    {
      "cell_type": "code",
      "execution_count": null,
      "metadata": {
        "id": "o61sMFE4RYuF",
        "colab": {
          "base_uri": "https://localhost:8080/",
          "height": 1000
        },
        "outputId": "f49d6229-8146-4498-8b98-362edcfebe04"
      },
      "outputs": [
        {
          "output_type": "display_data",
          "data": {
            "text/plain": [
              "<Figure size 1000x1000 with 1 Axes>"
            ],
            "image/png": "[encoded data removed]"
          },
          "metadata": {}
        },
        {
          "output_type": "stream",
          "name": "stdout",
          "text": [
            "(3254, 2)\n",
            "[('india', 278), ('international', 149), ('science', 46), ('news', 45), ('entertainment', 31), ('sport', 4)]\n",
            "[('sport', 75), ('india', 2), ('international', 1)]\n",
            "[('india', 365), ('international', 219), ('news', 71), ('science', 29), ('sport', 3), ('entertainment', 1)]\n",
            "[('india', 144), ('entertainment', 82), ('international', 80), ('science', 23), ('news', 11), ('sport', 4)]\n",
            "[('sport', 49), ('india', 1)]\n",
            "[('sport', 38), ('entertainment', 22), ('international', 15), ('india', 11), ('news', 3)]\n"
          ]
        },
        {
          "output_type": "display_data",
          "data": {
            "text/plain": [
              "<Figure size 640x480 with 1 Axes>"
            ],
            "image/png": "[encoded data removed]"
          },
          "metadata": {}
        }
      ],
      "source": [
        "### plotting withing clusters samples distance\n",
        "\n",
        "import matplotlib.pyplot as plt\n",
        "from mpl_toolkits.mplot3d import Axes3D\n",
        "from sklearn.datasets import make_blobs\n",
        "from sklearn.cluster import KMeans\n",
        "from sklearn.decomposition import PCA\n",
        "\n",
        "### plotting withing clusters samples distance\n",
        "plt.figure(figsize = (10,10))\n",
        "plt.plot(range(2,11),wcss,marker = '*', linestyle = '--')\n",
        "plt.xlabel('Numbers of K clusters')\n",
        "plt.ylabel('Within cluster sum of square')\n",
        "plt.title('K-Means with PCA')\n",
        "plt.show()\n",
        "\n",
        "\n",
        "#plotting clusters\n",
        "labels = clustering.labels_.tolist()\n",
        "# print(labels)\n",
        "\n",
        "plt.figure()\n",
        "\n",
        "\n",
        "colors = [\"#FFFF00\", \"#008000\", \"#0000FF\", \"#800080\", '#800000', '#FFA500']\n",
        "# df['c'] = cluster_labels.map({0:colors[0], 1:colors[1], 2:colors[2], 3:colors[3], 4:colors[4], 5:colors[5]})\n",
        "plt.scatter(reduced_data[:, 0], reduced_data[:, 1], c = cluster_labels)\n",
        "\n",
        "print(reduced_data.shape)\n",
        "\n",
        "df['clusters'] = cluster_labels\n",
        "\n",
        "cluster_groups = df[['Final','clean', 'clusters']].sort_values(by=['clusters'], ascending=False).groupby('clusters').head(10000)\n",
        "\n",
        "from collections import Counter\n",
        "for cluster_num in range(6):\n",
        "    news = cluster_groups[cluster_groups['clusters'] == cluster_num]['Final'].values.tolist()\n",
        "    lst = []\n",
        "    for i in news:\n",
        "      lst.append(i.split(\"|\")[0])\n",
        "    print(Counter(lst).most_common(10))\n",
        "\n",
        "\n",
        "\n",
        "\n"
      ]
    },
    {
      "cell_type": "code",
      "source": [
        "df['clusters']"
      ],
      "metadata": {
        "colab": {
          "base_uri": "https://localhost:8080/"
        },
        "id": "8yzouz0pCiee",
        "outputId": "c004ee16-eb5e-48ae-a279-144efa85d9ad"
      },
      "execution_count": null,
      "outputs": [
        {
          "output_type": "execute_result",
          "data": {
            "text/plain": [
              "412     5\n",
              "1895    1\n",
              "970     5\n",
              "1714    5\n",
              "1339    5\n",
              "       ..\n",
              "2254    1\n",
              "2196    2\n",
              "329     4\n",
              "1527    2\n",
              "1424    2\n",
              "Name: clusters, Length: 3254, dtype: int32"
            ]
          },
          "metadata": {},
          "execution_count": 24
        }
      ]
    },
    {
      "cell_type": "code",
      "source": [
        "for cluster_num in range(6):\n",
        "    news = cluster_groups[cluster_groups['clusters'] == cluster_num]['clean'].values.tolist()\n",
        "    print('CLUSTER #'+str(cluster_num+1))\n",
        "    print(\" \".join(news[0]))\n",
        "    print('-'*80)\n",
        "    print(news[1])\n",
        "    print('-'*80)\n",
        "    print(news[2])\n",
        "    print('-'*80)\n",
        "    print(news[3])\n",
        "    print('-'*80)\n",
        "    print(news[4])\n",
        "    print('-'*80)\n",
        "    print(news[5])\n",
        "    print('-'*80)\n",
        "    print(news[6])\n",
        "    print('-'*80)"
      ],
      "metadata": {
        "colab": {
          "base_uri": "https://localhost:8080/"
        },
        "id": "m7Z4amhR7H1O",
        "outputId": "a686902a-a97f-4e6f-cb3d-b5f77e755115"
      },
      "execution_count": null,
      "outputs": [
        {
          "output_type": "stream",
          "name": "stdout",
          "text": [
            "CLUSTER #1\n",
            "entertainment|कई निर्देशकों व्यस्तता वजह मना वाली दीपिका फेसबुक नंबर वन मिलियन यानी डेढ़ करोड़ फ़ॉलोअर वाली दीपिका पादुकोण फेसबुक रेस अमिताभ बच्चन पीछे छोड़ दीपिका के 'जश्न बॉलीवुड दीवाना सलमान शाहरुख़ आमिर सूची काफी अभिनेत्री नाम दीपिका के आसपास नहीं बीबीसी दिए इंटरव्यू दीपिका मानती वो प्रशंसकों वजह करियर के उतार-चढ़ाव वो हमेशा कॉमेडियन सुनील ग्रोवर के शो मैड इंडिया संकट के बादल छा शो के होस्ट मनीष पॉल शो मार्च के अलविदा कहने फैसला हँसी के शो हँसने भाड़े के मनीष पॉल शो के लेखकों स्क्रिप्ट टीआरपी आने के चक्कर टीवी चैनल दख़लअंदाज़ी काफ़ी परेशान निरंतर बदलाव आने शो स्थिर नहीं पाया ग़ौरतलब स्टार प्लस गुत्थी के शो जल्द ऑफ़ एयर करके म्यूज़िकल शो लाने बात रजनीकांतकुछ चुनाव तारीख नहीं बदल रजनीकांत फ़िल्म कोचेडियान चुनावी माहौल रिलीज़ वाली बड़ी फ़िल्मों क़यास लगाए फ़िल्म रिलीज़ तारीख अप्रैल चुनाव के मद्देनज़र शायद बढ़ाया रजनी के डायलॉग सिखाएँगे मैनेजमेंट के गुर अप्रैल तमिलनाडु चुनाव दिन रजनीकांत चाहते फ़िल्म के प्रचार चुनाव अड़चन न आए जिसके चलते फ़ैसला\n",
            "--------------------------------------------------------------------------------\n",
            "['entertainment|जानी-मानी', 'अभिनेत्री', 'प्रीति', 'ज़िंटा', 'ब्रिटेन', 'ईस्ट', 'लंदन', 'विश्वविद्यालय', 'शुक्रवार', 'डॉक्टरेट', 'मानद', 'उपाधि', 'नवाज़ेगा', 'बीबीसी', 'ख़ास', 'बातचीत', 'प्रीति', 'सम्मान', 'मिलने', 'ख़ुशी', 'ज़ाहिर', 'प्रीति', 'कहती', '“', 'सराहना', 'हमेशा', 'अच्छा', 'लगता', 'मुझे', 'उम्मीद', 'नहीं', 'बारे', 'उत्साहित', 'हूं', '”', 'अमिताभ', 'बच्चन', 'शाहरुख़', 'ख़ान', 'अक्षय', 'कुमार', 'ए', 'आर', 'रहमान', 'शिल्पा', 'शेट्टी', 'बॉलीवुड', 'हस्तियों', 'देश-विदेश', 'के', 'विभिन्न', 'विश्वविद्यालयों', 'डॉक्टरेट', 'मानद', 'उपाधि', 'दी', 'इससे', 'बुधवार', 'रात', 'प्रीति', 'ज़िंटा', 'ब्रिटेन', 'के', 'ऑक्सफ़ोर्ड', 'यूनियन', 'छात्रों', 'संबोधित', 'जीवन', 'करियर', 'के', 'बारे', 'प्रश्नों', 'के', 'उत्तर', 'दिए', 'ऑक्सफ़ोर्ड', 'यूनियन', 'ब्रिटेन', 'के', 'विख्यात', 'ऑक्सफोर्ड', 'विश्वविद्यालय', 'वाद-विवाद', 'सोसाइटी', 'प्रीति', 'ज़िंटा', 'ऑक्सफ़ोर्ड', 'के', 'छात्रों', 'संबोधित', 'वाली', 'पहली', 'बॉलीवुड', 'अभिनेत्री', 'आत्मकथाइन', 'दिनों', 'चर्चा', 'प्रीति', 'ज़िंदगी', 'के', 'बारे', 'किताब', 'लिखने', 'वाली', 'बारे', 'उन्होंने', '“', 'मुझे', 'ज़िंदगी', 'के', 'बारे', 'किताब', 'लिखने', 'के', 'पेशकश', 'समझती', 'हूं', 'लोग', 'मेरे', 'बारे', 'जानना', 'चाहते', 'क्योंकि', 'व्यक्तिगत', 'बात', 'बारे', 'सोच', 'हूं', 'फ़ैसला', 'नहीं', '”', 'फ़िल्मेंपिछले', 'प्रीति', 'ज़िंटा', 'फ़िल्मों', 'ज़्यादा', 'आईपीएल', 'टीम', 'किंग्स', 'इलेवन', 'पंजाब', 'के', 'चर्चा', 'आने', 'फ़िल्मों', 'के', 'बारे', 'प्रीति', '“', 'दिनों', 'सारी', 'स्क्रिप्ट्स', 'पढ़', 'हूं', 'फ़ैसला', 'नहीं', 'होगा', 'ख़ुद', 'घोषणा', 'करुंगी', '”']\n",
            "--------------------------------------------------------------------------------\n",
            "[\"india|'उसने\", 'हिंदी', 'ऐसी', 'कालजयी', 'कहानी', 'जिसकी', 'प्रासंगिकता', 'सार्वकालिकता', 'कथानक', 'नहीं', 'भाषिक', 'संरचनात्मक', 'विशिष्टता', 'आधारित', 'ऐसी', 'हिंदी', 'के', 'अकादमिक', 'सांस्थानिक', 'राजकीय-राजनीतिक', 'प्रयासों', 'अपठनीय', 'बना', 'दी', 'साधारण', 'हिंदी', 'भाषियों', 'के', 'दुरुह', 'अजनबी', 'चुकी', 'वही', 'साहित्यिक', 'हिंदी', 'हिंदी', 'के', 'नाम', 'शिक्षण', 'संस्थानों', 'प्राइमरी', 'विश्वविद्यालयों', 'लागू', 'लाखों', 'हिंदी', 'भाषी', 'बच्चे', 'परीक्षाओं', 'फ़ेल', 'हिंदी', 'के', 'सामने', \"'उसने\", 'वो', 'हिंदी', 'ताज़ा', 'समकालीन', 'लगती', 'क्योंकि', 'वो', 'ओर', 'जीवित-व्यावहारिक', 'भाषा', 'रचना', 'आधार', 'बनाती', 'दूसरी', 'ओर', 'वो', 'भाषा', 'व्यंजनाओं', 'विरल', 'विलक्षण', 'आँख', 'पकड़ती', 'पाठक', 'कहानी', 'पढ़ना', 'शुरू', 'वो', 'विवरणात्मकता', 'व्यंजना', 'के', 'जादू', 'बंध', 'रह', 'उदाहरण', 'के', 'कहानी', 'पहला', 'पैरा', 'देखिए', 'बात', 'नहीं', 'जीभ', 'चलती', 'नहीं', 'मीठी', 'छुरी', 'महीन', 'मार', 'करती', 'बुढ़िया', 'बार-बार', 'चितौनी', 'देने', 'लीक', 'नहीं', 'हटती', 'बचनावली', 'के', 'नमूने', 'हट', '–', 'जीणे', 'जोगिए', 'हट', 'करमाँवालिए', 'हट', 'पुत्ताँ', 'प्यारिए', 'बच', 'लंबीवालिए', 'समष्टि', 'अर्थ', 'तू', 'जीने', 'योग्य', 'तू', 'भाग्योंवाली', 'पुत्रों', 'प्यारी', 'लंबी', 'उमर', 'तेरे', 'सामने', 'तू', 'मेरे', 'पहिए', 'के', 'आना', 'चाहती', 'बच', 'दुर्भाग्य', 'कहानी', 'चर्चा', 'सिर्फ़', 'कथ्य', 'यानी', 'गहरे', 'भावुक', 'प्रेम', 'त्रासद', 'विडंबना', 'के', 'संदर्भ', 'जिसका', 'आधार', 'लहना', 'सिंह', 'प्रेमिका', 'के', 'के', 'संवाद', 'हमेशा', 'समेट', 'तेरी', 'कुड़माई', 'धत्', 'देखते', 'नहीं', 'रेशमी', 'बूटों', 'वाला', 'सालू', 'ख़ुद', 'सोचें', 'कहानी', 'वाक्य', 'कमतर', 'बिना', 'फेरे', 'घोड़ा', 'बिगड़ता', 'बिना', 'लड़े', 'सिपाही', \"'यह\", 'फ़ेबल', 'जैसी', 'कहानी', 'हिंदी', 'कहानी', 'के', 'इतिहास', 'हमेशा', 'रहेगी', 'पढ़ते', 'आधुनिक-सभ्यता', 'के', 'पूर्व', 'दार्शनिकों', 'कथन', 'याद', 'आता', \"'एवरीवन\", 'इज़', 'डिसीविंग', 'दि', 'अदर', 'एंड', 'एवरीवन', 'इज़', 'डिसीव्ड', 'बाय', 'दि', 'अदर', 'हर', 'छल', 'हर', 'के', 'छला', 'बाबा', 'भारती', 'खड़ग', 'सिंह', 'कहानी', 'मनुष्य', 'के', 'छिपी', 'अच्छाइयों', 'के', 'पुनरुद्धार', 'मनुष्य', 'विश्वास', 'अनश्वरता', 'अद्भुत', 'लोकगाथात्मक', 'कहानी', 'इंसान', 'के', 'शरीर', 'दिल', 'के', 'धड़कने', 'जीवित', 'आने', 'कहानी', 'हिंदू', 'धार्मिक', 'समाज', 'जाति', 'व्यवस्था', 'कहानी', 'गहरी', 'मार्मिक', 'आधुनिक', 'टिप्पणी', 'अधिक', 'प्रासंगिक', 'उठी', 'ठाकुर', 'कुआं', \"'सवा\", 'सेर', 'गेहूँ', 'मोटेराम', 'सत्याग्रह', 'जैसी', 'प्रेमचंद', 'अनेक', 'कहानियों', 'अंतर्भूत', 'मानवीय', 'संवेदना', 'जाति', 'व्यवस्था', 'के', 'दृष्टिकोण', 'कहानी', 'कालजयी', 'आधुनिक', 'बनाता', 'आर्थिक', 'विषमता', 'अमानुषिक', 'वास्तविकता', 'त्रासदी', 'बदलते', 'देखना', 'वंचना', 'अमीरी', 'खाइयों', 'बाँटने', 'वाली', 'राजनीति', 'समाज', 'व्यवस्था', 'कहानी', 'कालजयी', 'तमाचे', 'दुर्भाग्य', 'कहानी', 'दलित', 'विमर्श', 'के', 'पिछले', 'वर्षों', 'विवादों', 'घेरा', 'इतालो', 'काल्विनो', 'कहानी', 'थेफ्ट', 'केक', 'शॉप', 'अर्थनीति', 'बनाए-गढ़े', 'जानेवाले', 'समाज', 'महत्वपूर्ण', 'क्रिटीक', \"'कफ़न\", 'बेतहाशा', 'याद', 'आती', 'समाज', 'अमीरी', 'ग़रीबी', 'यानी', 'वैभव', 'वंचना', 'खाई', 'रहेगी', \"'कफ़न\", 'क्लासिक', 'कालजयी', 'रहेगी', 'भारत-पाकिस्तान', 'के', 'बंटवारे', 'विभाजन', 'अनेक', 'कहानियां', 'उपन्यास', 'समाजशास्त्रीय-राजनीतिक', 'विश्लेषण', 'लिखे', 'सआदत', 'हसन', 'मंटो', 'कहानी', '–', 'टोबा', 'टेक', 'सिंह', 'विभाजन', 'के', 'पीछे', 'सक्रिय', 'राजनीति', 'सांप्रदायिकता', 'के', 'उन्माद', 'अविस्मरणीय', 'सार्वभौमिक', 'कालजयी', 'क्लासिक', 'बन', 'पाकिस्तान', 'के', 'पागल', 'बिशन', 'सिंह', 'गांव', 'टोबा', 'टेक', 'सिंह', 'निकाल', 'हिंदुस्तान', 'भेजा', 'देशों', 'सरहद', 'मर', 'शरीर', 'आधा', 'हिस्सा', 'हिंदुस्तान', 'आधा', 'पाकिस्तान', 'सीमा', 'आता', 'मरने', 'के', 'पागल', 'बिशन', 'सिंह', 'गाली', 'भारत', 'पाकिस्तान', 'के', 'लहूलुहान', 'बंटवारे', 'ऐसी', 'टिप्पणी', 'बन', 'विश्व', 'कथा', 'साहित्य', 'गहरी', 'मार्मिक', 'अविस्मरणीय', 'मनुष्यता', 'चीख़', 'के', 'रूप', 'हमेशा', 'के', 'उपस्थित', 'गुड़-गुड़', 'दी', 'एनेक्सी', 'दी', 'वेध्याना', 'दी', 'मूंग', 'दी', 'दाल', 'ऑफ़', 'दी', 'पाकिस्तान', 'एंड', 'हिंदुस्तान', 'ऑफ़', 'दी', 'दुर्र', 'फिट्टे', 'मुंह', 'पागल', 'अराजक', 'निरर्थक', 'अतार्किक', 'वाक्य', 'के', 'सांप्रदायिक', 'उन्माद', 'देश', 'के', 'विभाजन', 'के', 'पीछे', 'सक्रिय', 'राजनीति', \"'एबसर्डिटी\", 'पागलपन', 'कालजयी', 'टिप्पणी', 'मेरी', 'मान्यता', 'मंटो', 'उर्दू-हिंदी', 'के', 'भाषाई', 'विभाजन', 'विषय', 'न', 'बनाया', 'जाए', 'भाषाओं', 'के', 'महान', 'कथाकार', 'सहज-सरल', 'भाषा', 'ऐसी', 'श्रेणी', 'बांटा', 'नहीं', 'अंतर', 'सिर्फ़', 'लिपि', 'भिन्नता', 'के', 'कारण', 'ठीक', 'तर्क', 'अंतिम', 'लिपि', 'लिखनेवाले', 'मुंशी', 'प्रेमचंद', 'लागू', 'प्रेमचंद', 'मंटो', 'हिंदी-उर्दू', 'कथा', 'साहित्य', 'के', 'अनमोल', 'धरोहर', 'शहरी', 'देहाती', 'भावनाओं', 'संवेदनाओं', 'विडंबनात्मक', 'रोमैंटिक', 'परिणति', 'कहानी', 'अविस्मरणीय', 'आंचलिक', 'भाषा', 'के', 'आधुनिक', 'कथा-स्थापत्य', 'संयोजन', 'प्रयोग', 'कहानी', 'विरल', 'दर्जा', 'कहानी', 'पंचतंत्र', 'ईसप', 'सूत्र', 'कथाओं', 'मौजूदा', 'दौर', 'भोगवादी', 'हेडोनिस्ट', 'फिलिस्टिनिस्टिक', 'कंज़्यूमरिज़्म', 'मानसिकता', 'वजह', 'स्वतंत्रता', 'खोकर', 'ग़ुलाम', 'प्रवृत्ति', 'स्मरणीय', 'टिप्पणी', 'कहानियां', 'अनगढ़ता', 'के', 'बावजूद', 'महत्वपूर्ण', 'आधुनिक', 'बनने', 'प्रदर्शन', 'शहरी', 'मध्यवर्गीय', 'परिवार', 'के', 'करियरिज़्म', 'तीखी', 'टिप्पणी', 'अविस्मरणीय', 'कहानी', 'पारिवारिक', 'संबंधों', 'के', 'मार्मिक', 'विघटन', 'बढ़ती', 'संवेदनहीनता', 'कहानी', 'चेखव', 'विख्यात', 'कहानी', \"'एक\", 'क्लर्क', 'मौत', 'महत्वपूर्ण', 'साहित्यिक-राजनीतिक', 'वजहों', 'उपेक्षित', 'दी', 'धर्मवीर', 'भारती', 'कहानी', 'कथावस्तु', 'विन्यास', 'विलक्षण', 'विवरणात्मकता', 'प्रगतिशील', 'परंपरा', 'अत्यंत', 'महत्वपूर्ण', 'यथार्थवादी', 'कहानी', 'ज्ञानरंजन', 'घंटा', \"'बहिर्गमन\", 'जैसी', 'कहानियों', 'के', 'माध्यम', 'हिंदी', 'कहानी', 'लेखन', 'नया', 'गद्य', 'जिसकी', 'मार', 'व्यंजना', 'मध्यवर्गीय', 'पात्रों', 'के', 'जीवन', 'के', 'तमाम', 'विरोधाभासों', 'अभिव्यक्त', 'भाषिक', 'हुनर', 'कथाकारों', 'नोट–इस', 'अत्यंत', 'संक्षिप्त', 'टिप्पणी', 'असंख्य', 'अत्यंत', 'महत्वपूर्ण', 'कहानियाँ', 'छूट', 'जिनमें', 'अज्ञेय', \"'शरणदाता\", 'विपथगा', 'रोज़', 'निर्मल', 'वर्मा', \"'परिंदे\", 'कौए', 'कालापानी', 'अमरकांत', 'बू', 'ज़िंदगी', 'जोंक', 'कृष्णा', 'सोबती', 'यारों', 'के', 'यार', 'मित्रो', 'मरजानी', 'काशीनाथ', 'सिंह', 'सुख', 'कहानियां', 'विनोद', 'कुमार', 'शुक्ल', 'पाठशाला', 'हिंदी', 'कहानी', 'अपूर्व', 'जगह', 'रखनेवाले', 'विरल', 'कथाकार', 'रामनारायण', 'शुक्ल', \"'सहारा\", \"'खलनायक\", 'राजेंद्र', 'यादव', 'टूटते', 'खिलौने', \"'जहां\", 'लक्ष्मी', 'क़ैद', 'मन्नू', 'भंडारी', 'कृष्ण', 'बलदेव', 'वैद', 'प्रकाश', 'शेखर', 'जोशी', 'ओम', 'प्रकाश', 'वाल्मीकि', 'देवेंद्र', 'शिवमूर्ति', 'बलराम', 'अमितेश्वर', 'व्रजेश्वर', 'मदान', 'चंद्रकिशोर', 'जायसवाल', 'जयनंदन', 'अवधेश', 'प्रीत', 'प्रियंवद', 'सृंजय', 'सनत', 'कुमार', 'सूची', 'लंबी', 'मधुसूदन', 'आनंद', \"'करौंदे\", 'पेड़', 'टिड्डा', 'मिन्नी', 'संजय', 'खाती', 'पिंटी', 'साबुन', 'पंकज', 'बिष्ट', \"'बच्चे\", 'गवाह', 'नहीं', 'भैरव', 'प्रसाद', 'गुप्त', 'मृत्यु', 'दैली', 'अद्भुत', 'कहानी', 'अलावा', 'रघुवीर', 'सहाय', 'कुँवर', 'नारायण', 'श्रीकांत', 'वर्मा', 'भाषा', 'बनावट', 'कथावस्तु', 'जीवनानुभवों', 'इतनी', 'अलग', 'अनमोल', 'कहानियाँ', 'लिखी', 'भुलाया', 'नहीं', 'नए', 'युवा', 'कहानीकारों', 'नए', 'सिरे', 'बदले', 'जीवन', 'अनुभवों', 'बदले', 'यथार्थ', 'कहानियों', 'समेटना', 'शुरू', 'पैराडाइम', 'शिफ़्ट', 'नहीं', 'कह', 'नए', 'कथा-प्रस्थान', 'आहट', 'ज़रूर', 'सुनी', 'प्रस्तुति', 'अमरेश', 'द्विवेदी']\n",
            "--------------------------------------------------------------------------------\n",
            "['india|इस', 'पुस्तक', 'मनमोहन', 'सिंह', 'जुड़ी', 'दिलचस्प', 'बातें', 'मनमोहन', 'सिंह', 'के', 'पिता', 'चाहते', 'बेटा', 'डॉक्टर', 'बने', 'लिहाजा', 'मनमोहन', 'सिंह', 'अप्रैल', 'अमृतसर', 'के', 'खालसा', 'कॉलेज', 'के', 'प्री-मेडिकल', 'कोर्स', 'दाखिला', 'महीनों', 'के', 'उन्होंने', 'मेडिकल', 'पढ़ाई', 'छोड़', 'दी', 'वजह-', 'मेडिकल', 'पढ़ाई', 'दिलचस्प', 'नहीं', 'लगी', 'पढ़ाई', 'छोड़ने', 'के', 'मनमोहन', 'सिंह', 'पिता', 'दुकान', 'हाथ', 'बँटाने', 'लगे', 'मन', 'नहीं', 'लगा', 'दुकान', 'पिता', 'उनसे', 'छोटे-मोटे', 'काम', 'मनमोहन', 'सिंह', 'तय', 'वो', 'कॉलेज', 'पढ़ने', 'जाएँगे', 'उन्होंने', 'सिंतबर', 'हिंदू', 'कॉलेज', 'दाखिला', 'मनमोहन', 'सिंह', 'विज्ञान', 'दिलचस्पी', 'नहीं', 'लिहाजा', 'बार', 'उन्होंने', 'अर्थशास्त्र', 'विषय', 'बनाया', 'मनमोहन', 'सिंह', 'के', 'मुताबिक', 'गरीब', 'गरीबी', 'विषय', 'दिलचस्पी', 'जानना', 'चाहते', 'देश', 'गरीब', 'अमीर', 'जिज्ञासा', 'अर्थशास्त्र', 'दिलचस्पी', 'जगाई', 'पढ़ाई', 'के', 'कैंब्रिज', 'यूनिवर्सिटी', 'आर्थिक', 'तंगी', 'वजह', 'काफी', 'किफायत', 'रहना', 'हर', 'साल', 'रहने', 'पढ़ने', 'ख़र्च', 'करीब', 'पाउंड', 'स्कॉलरशिप', 'पाउंड', 'मिलते', 'हमेशा', 'सस्ता', 'खाना', 'खाते', 'बार', 'भूखे', 'रह', 'पढ़ने', 'के', 'मनमोहन', 'सिंह', 'दोस्त', 'साल', 'पाउंड', 'सालाना', 'कर्ज', 'मांगा', 'दोस्त', 'महज', 'पाउंड', 'भेजे', 'मनमोहन', 'सिंह', 'पहचान', 'भले', 'मौनमोहन', 'दोस्तों', 'के', 'मज़ाक', 'आदत', 'इतना', 'नहीं', 'लोगों', 'निकनेम', 'देने', 'खूब', 'मजा', 'आता', 'पत्नी', 'गुरशरण', 'कौर', 'निकनेम', 'उन्होंने', 'गुरुदेव', 'रखा', 'मनमोहन', 'सिंह', 'घरेलू', 'काम', 'नहीं', 'पाते', 'न', 'अंडा', 'उबाल', 'न', 'टेलीविजन', 'चालू']\n",
            "--------------------------------------------------------------------------------\n",
            "['india|', 'फ़ादर', 'मेरे', 'मन', 'बॉस', 'के', 'कड़वाहट', 'बढ़ती', 'दिल', 'थप्पड़', 'लगा', 'दूं', 'फ़ादर', 'लॉरेन्स', 'दिनों', 'लोगों', 'के', 'न', 'कितने', \"'कन्फ़ेशन\", 'सुन', 'सही', 'रास्ता', 'दिखाने', 'कोशिश', 'दिल्ली', 'सैक्रेड', 'हार्ट', 'कैथेड्रल', 'वैसे', 'शहर', 'के', 'सबसे', 'ख़ूबसूरत', 'शानदार', 'गिरिजाघरों', 'दिनों', 'रौनक', 'चार', 'चांद', 'लग', 'क्रिसमस', 'दस्तक', 'दी', 'शबाब', 'भीड़', 'रोज', 'के', 'मुकाबले', 'चर्च', 'इमारत', 'जगह-जगह', 'चमकते', 'सितारे', 'खनखनाती', 'घंटियों', 'आवाज़', 'आने', 'लोगों', 'आवाज़ों', 'घुलमिल', 'आने', 'वालों', 'लोग', \"'कन्फ़ेशन\", 'के', 'आए', \"'कन्फ़ेशन\", 'यानी', 'पापों', 'गुनाहों', 'स्वीकार', 'आपको', 'ख़ामोशी', 'फ़िल्म', 'वो', 'सीन', 'याद', 'मनीषा', 'कोइराला', 'सलमान', 'ख़ान', \"'कन्फ़ेशन\", 'चर्च', 'आते', 'समझ', 'जाएंगे', 'बारे', 'बात', 'सैक्रेड', 'हार्ट', 'कैथेड्रल', 'के', 'पादरी', 'फ़ादर', 'लॉरेन्स', 'बीबीसी', 'बातचीत', 'बताया', \"'कन्फ़ेशन\", 'कैथोलिक', 'चर्च', 'के', 'सात', 'संस्कारों', 'लॉरेन्स', 'पिछले', 'साल', 'पादरी', 'उन्होंने', 'ग़लत', 'काम', 'गॉड', 'के', 'नाता', 'टूट', 'ईश्वर', 'के', 'दोबारा', 'रिश्ता', 'क़ायम', 'के', 'हमें', 'कन्फ़ेशन', 'ज़रूरत', 'पड़ती', 'कन्फ़ेशन', 'तभी', 'आपको', 'ग़लती', 'अहसास', 'डांट-डपटकर', 'जबरन', 'कन्फ़ेशन', 'नहीं', 'कराया', 'कन्फ़ेशन', 'उम्र', 'साल', 'होनी', 'फ़ादर', 'लॉरेन्स', 'बताते', 'वैसे', 'कन्फ़ेशन', 'वक़्त', 'क्रिसमस', 'के', 'वक़्त', 'गुनाह', 'कबूल', 'वालों', 'तादाद', 'बढ़', 'साल', 'के', 'आख़िरी', 'दिनों', 'लोग', 'पाप', 'स्वीकार', 'करके', 'नई', 'शुरुआत', 'चाहते', 'कन्फ़ेशन', 'वो', 'पादरी', 'आकर', 'बात', 'पादरी', 'कन्फ़ेशन', 'रूम', 'ले', 'कन्फ़ेशन', 'पहली', 'सबसे', 'ख़ास', 'बात', 'गोपनीय', 'फ़ादर', 'लॉरेन्स', 'के', 'मुताबिक', 'कन्फ़ेशन', 'के', 'आए', 'व्यक्ति', 'भरोसे', 'लेना', 'हमारी', 'ज़िम्मेदारी', 'क़ीमत', 'पहचान', 'नहीं', 'आने', 'देते', 'न', 'बारे', 'धारणा', 'बनाते', 'साल', 'अलग', 'अलग', 'क्रिसमस', 'मनाने', 'मजबूरमुग़लों', 'के', 'मनाया', 'क्रिसमस', 'पादरी', 'के', 'सामने', 'हत्या', 'गुनाह', 'कबूल', 'पादरी', 'पुलिस', 'बता', 'देगा', 'सवाल', 'फ़ादर', 'लॉरेन्स', \"'नहीं\", 'जवाब', 'देते', 'उन्होंने', 'दुनिया', 'पादरी', 'जिन्होंने', 'कन्फ़ेशन', 'गोपनीयता', 'बनाए', 'रखने', 'के', 'जान', 'दी', 'बात', 'हमसे', 'बताई', 'वो', \"'कन्फ़ेशनल\", 'सील', 'नहीं', 'तोड़', 'लोग', 'किस-किस', 'के', 'कन्फ़ेशन', 'दिनों', 'कन्फ़ेशन्स', 'के', 'ट्रेंड', 'बदलाव', 'आया', 'फ़ादर', 'लॉरेन्स', 'बताते', 'कैथोलिक', 'नियमों', 'के', 'मुताबिक', 'ग़लती', 'आपको', 'पादरी', 'के', 'सामने', 'कन्फ़ेस', 'भागदौड़', 'वाली', 'ज़िंदगी', 'इतना', 'मुमकिन', 'नहीं', 'आजकल', 'लोग', 'तभी', 'कन्फ़ेशन', 'के', 'आते', 'बात', 'वाकई', 'परेशान', 'करती', 'क्रिसमस', 'कन्फ़ेशन', 'के', 'आने', 'वालों', 'बड़ी', 'संख्या', 'युवाओं', 'फ़ादर', 'लॉरेन्स', 'बताया', 'हमारे', 'नौजवान', 'ज़िंदगी', 'तमाम', 'मुश्किलों', 'सामना', 'चाहे', 'वो', 'दफ़्तर', 'निजी', 'ज़िंदगी', 'हवा', 'क्रिसमस', 'मनाने', 'चिढ़े', 'पाकिस्तानी', 'इस्लामिक', 'स्टेट', 'गढ़', 'मोसुल', 'मना', 'क्रिसमसफ़ादर', 'लॉरेन्स', 'के', 'मुताबिक', 'युवा', 'पास', 'कन्फ़ेशन', 'के', 'अलावा', 'सलाह', 'मांगने', 'के', 'आते', 'मसलन', 'ऑफ़िस', 'के', 'मनमुटाव', 'गर्लफ़्रेंड/ब्वॉयफ्रेंड', 'के', 'झगड़े', 'वो', 'हमसे', 'शेयर', 'फ़ादर', 'लॉरेन्स', 'बताते', 'कैथोलिक', 'नियमों', 'के', 'मुताबिक', 'जीसस', 'के', 'अलावा', 'ईश्वर', 'पूजा', 'ग़ुनाह', 'माना', 'हमारे', 'पास', 'कन्फ़ेशन', 'आते', 'लोग', 'ईश्वर', 'पूजा', 'के', 'माफ़ी', 'मांगते', 'उन्होंने', 'बताया', 'कैथोलिक', 'समुदाय', 'गर्भपात', 'पाप', 'माना', 'अबॉर्शन', 'कराने', 'दंपति', 'कन्फ़ेशन', 'के', 'आते', 'धार्मिक', 'परंपराओं', 'यक़ीन', 'लोग', 'रविवार', 'चर्च', 'नहीं', 'आ', 'पाते', 'वो', 'ग़ुनाह', 'मानते', 'बारे', \"'कन्फ़ेशन\", 'शादी', 'रिश्ते', 'पार्टनर', 'के', 'वफ़ादार', 'न', 'रह', 'पाने', 'लोग', 'कन्फ़ेशन', 'के', 'आते', 'देखें', 'फ़िल्म', 'ख़ामोशी', 'कन्फ़ेशन', 'वाला', 'सीनयानी', 'चोरी', 'जलन', 'गुस्से', 'एक्स्ट्रा', 'मैरिटल', 'अफ़ेयर', 'तमाम', 'मामलों', 'लोग', 'कन्फ़ेशन', 'पाप', 'स्वीकार', 'फ़ादर', 'लॉरेन्स', 'कन्फ़ेशन', 'के', 'वक़्त', 'ग़लतियों', 'न', 'दोहराने', 'क़सम', 'खाते', 'बेहतर', 'इंसान', 'बनने', 'कोशिश', 'उन्होंने', 'लोग', 'पादरियों', 'के', 'पास', 'ज़रूर', 'लोग', 'माफ़', 'वाला', 'भगवान', 'पादरी', 'बात', 'सुनने', 'गॉड', 'पहुंचाने', 'ज़रिया', 'भर', 'धर्मों', 'के', 'लोग', 'कन्फ़ेशन', 'के', 'चर्च', 'आ', 'जवाब', 'फ़ादर', 'लॉरेन्स', 'हां', 'बिल्कुल', 'हाल', 'हिंदू', 'लड़की', 'मेरे', 'पास', 'आई', 'मैंने', 'बात', 'सुनी', 'सलाह', 'दी', 'उन्होंने', 'बताया', 'पादरी', 'धर्मों', 'के', 'लोगों', 'परंपरागत', 'तरीके', 'कन्फ़ेशन', 'नहीं', 'करवाते', 'बात', 'सुनते', 'ज़रूर']\n",
            "--------------------------------------------------------------------------------\n",
            "['india|इस', 'चुनावी', 'मंत्र', 'खूब', 'काम', 'उन्होंने', 'भारी', 'बहुमत', 'सत्ता', 'हासिल', 'ली', 'साल', 'चुनाव', 'के', 'इससे', 'साल', 'संसद', 'के', 'चुनाव', 'ममता', 'बनर्जी', 'ग्रामीण', 'इलाकों', 'ज़बरदस्त', 'नारा', '‘', 'माँ', 'माटी', 'मानुष', '’', 'यानी', 'माँ', 'मिट्टी', 'आम', 'जनता', 'विशेषज्ञों', 'कहना', 'नारे', 'ममता', 'बनर्जी', 'सत्ता', 'लाने', 'मदद', 'साल', 'लोग', 'कह', 'परिवर्तन', 'मतलब', \"'अपरिवर्तन\", 'माँ', 'माटी', 'मानुष', 'नारा', 'के', 'ख़िलाफ़', 'इस्तेमाल', 'लगा', 'लोग', 'कह', 'ममता', 'सरकार', 'वामपंथी', 'मोर्चे', 'सरकार', 'नकल', 'सॉल्टलेक', 'सिटी', 'के', 'निवासी', 'पेशे', 'वकील', 'हिमांशु', 'सेन', 'साल', 'नहीं', 'बदला', 'ममता', 'सरकार', 'पिछली', 'सरकार', 'हमें', 'फर्क', 'नहीं', 'दिखाई', 'देता', 'स्थानीय', 'कॉलेज', 'छात्रा', 'सुदेषना', 'घोष', 'कहती', '“', 'तृणमूल', 'कांग्रेस', 'व्यक्ति', 'जागीर', 'वो', 'ममता', 'बनर्जी', 'ख़िलाफ़', 'बोलने', 'मतलब', 'जेल', 'पिछली', 'सरकार', 'दादागीरी', 'सरकार', 'दीदीगीरी', 'फर्क', 'नहीं', 'पिछले', 'हफ्ते', 'मंत्री', 'के', 'दफ्तर', 'जलपाईगुड़ी', 'आए', 'नौजवान', 'पिता', 'मिला', 'मंत्री', 'व्यस्त', 'बाप-बेटे', 'पूछा', 'ममता', 'सरकार', 'पिछली', 'सरकार', 'कितनी', 'अलग', 'परिवर्तन', 'देखा', 'बोले', '“', 'सरकार', 'गुंडा', 'राज', 'सरकार', '”', 'मैंने', 'मंत्री', 'मिलने', 'आए', 'आपको', 'डर', 'नहीं', 'लगता', 'खुलकर', 'सरकार', 'आलोचना', 'बेटे', 'डर', 'लगता', 'नई', 'सरकार', 'के', 'राज', 'लगता', '”', 'पिता', 'भ्रष्टाचार', 'आम', 'आम', 'के', 'विचार', 'जगह', 'सुनने', 'मिले', 'बल्कि', 'इससे', 'तीखी', 'प्रतिक्रियाएं', 'सुनने', 'मिलीं', 'अम्बिकेश', 'महापात्रा', 'जाधवपुर', 'विश्वविद्यालय', 'के', 'शिक्षक', 'पिछले', 'साल', 'पुलिस', 'ममता', 'बनर्जी', 'के', 'कार्टून', 'दोस्तों', 'ईमेल', 'के', 'इल्ज़ाम', 'गिरफ्तार', 'ख़िलाफ़', 'मुक़दमा', 'चल', 'वो', 'सरकार', 'पिछली', 'सरकार', 'ख़राब', 'बल्कि', 'पश्चिम', 'बंगाल', 'सब', 'ख़राब', 'सरकार', 'थिएटर', 'अभिनेता', 'कौशिक', 'सेन', 'के', 'विचार', 'प्रकट', 'सरकार', 'वामपंथी', 'मोर्चे', 'नहीं', 'बल्कि', 'उससे', 'ख़राब', 'झूठे', 'दावे', 'भ्रष्टाचार', 'तानाशाही', 'लोग', 'बेजार', 'चुके', 'ममता', 'बनर्जी', 'के', 'ख़िलाफ़', 'लोगों', 'शिकायत', 'पार्टी', 'के', 'भ्रष्ट', 'नेताओं', 'सह', 'पार्टी', 'भ्रष्टाचार', 'हटाने', 'कोशिश', 'नहीं', 'प्रोफेसर', 'महापात्रा', '“', 'वो', 'ख़ुद', 'ईमानदार', 'साथी', 'नहीं', '”', 'जयनगर', 'गाँव', 'काश्तकार', 'शारदा', 'चिटफंड', 'घोटाले', 'पीड़ित', 'मोनोबिना', 'दत्त', 'कहती', 'गांव', 'आसपास', 'के', 'गांवों', 'के', 'लोग', 'वामपंथी', 'मोर्चे', 'तृणमूल', 'कांग्रेस', 'आ', 'मोनोबिना', 'दत्त', 'कहती', '“', 'इनमें', 'अधिकतर', 'चिटफंड', 'के', 'एजेंट', 'उनसे', 'पैसे', 'मांगते', 'वो', 'हमें', 'डराते', 'धमकाते', 'रहते', '”', 'ममता', 'बनर्जी', 'के', 'साथी', 'शहरी', 'विकास', 'मंत्री', 'फ़िरहाद', 'हकीम', 'तृणमूल', 'सरकार', 'पिछली', 'सरकार', 'तुलना', 'उचित', 'नहीं', 'होगा', 'हकीम', 'लोगों', 'गुस्सा', 'समझ', 'आता', 'हमें', 'पिछली', 'सरकार', 'इतने', 'सालों', 'गंदगी', 'हटाने', 'साल', 'हमारे', 'मायूसी', 'ज़ाहिर', 'सही', 'नहीं', 'ममता', 'बनर्जी', 'के', 'आलोचक', 'मानते', 'प्रोफेसर', 'महापात्र', 'सरकार', 'पांच', 'सालों', 'के', 'निर्वाचित', 'पांच', 'साल', 'मिलने', '”', 'कौशिक', 'सेन', 'पांच', 'साल', 'देने', 'तैयार', 'सरकार', 'आलोचना', 'बर्दाश्त', 'करे', 'भ्रष्टाचार', 'करे', 'आम', 'लोगों', 'ज़िन्दगी', 'बेहतर', 'बनाने', 'अधिक', 'दिलचस्पी', 'दिखाए', 'ममता', 'बनर्जी', 'व्यक्तिगत', 'रूप', 'बेदाग', 'ग्रामीण', 'इलाकों', 'साल', 'लोगों', 'पूरी', 'भरोसा', 'नहीं', 'उठा', 'विशेषज्ञ', 'पास', 'अधिक', 'नहीं', 'ख़िलाफ़', 'उठ', 'आवाज़ों', 'सुनने', 'जरूरत']\n",
            "--------------------------------------------------------------------------------\n",
            "['india|By', 'सईद', 'नकवीवरिष्ठ', 'पत्रकारभारत', 'सब', 'दिखता', 'क्योंकि', 'भारत', 'नज़दीक', 'दुनिया', 'भर', 'चुनावी', 'जनतंत्र', 'चीज़ें', 'देखने', 'आती', 'ब्रिटेन', 'सांसद', 'के', 'मतदाताओं', 'कश्मीरी', 'ज़्यादा', 'पार्टी', 'लाइन', 'बदल', 'ख़ालिस्तान', 'आंदोलन', 'के', 'दौर', 'बार', 'देखा', 'दरअसल', 'चुनावी', 'जनतंत्र', 'हद', 'के', 'अनुदार', 'नतीजे', 'पैदा', 'लगता', 'उदाहरण', 'के', 'चुनाव', 'क्षेत्र', 'तीन', 'समुदाय', 'समुदायों', 'के', 'कट्टरपंथी', 'लोग', 'उम्मीदवार', 'बनकर', 'उभरते', 'जातीय', 'धार्मिक', 'पहचान', 'जुड़े', 'मुद्दों', 'उछालकर', 'मतदाताओं', 'एकजुट', 'आसान', 'इसीलिए', 'हमारे', 'समाज', 'बार', 'बार', 'किताब', 'फ़िल्म', 'कला', 'पाबंदी', 'लगाने', 'माँग', 'सामने', 'आती', 'राजनेता', 'वोट', 'राजनीति', 'के', 'कारण', 'ऐसी', 'माँगों', 'समर्थन', 'जनतंत्र', 'जुड़े', 'सवालों', 'के', 'बारे', 'बात', 'हमारे', 'राजनीतिक', 'सिद्धांतकार', 'घबराते', 'क्योंकि', 'सवाल', 'आएगा', 'जनतंत्र', 'ख़त्म', 'जाए', 'रास्ता', 'ढूँढा', 'जाए', 'दरअसल', 'मामला', 'पालिए', 'बीमारियों', 'मारिए', 'बीमार', 'बीमारियाँ', 'पाले', 'नतीजा', 'गड़बड़ियाँ', 'मीडिया', 'इमरजंसी', 'मीडिया', 'भूमिका', 'सरकार', 'आलोचनात्मक', 'समर्थन', 'देने', 'इमरजंसी', 'के', 'इंदिरा', 'गाँधी', 'विरोध', 'विपक्ष', 'भूमिका', 'निभाने', 'लगे', 'विपक्ष', 'रहने', 'आदत', 'बन', 'उसमें', 'सुधार', 'नहीं', 'नब्बे', 'के', 'दशक', 'अर्थव्यवस्था', 'के', 'खुलते', 'मीडिया', 'चीख-पुकार', 'बदल', 'ऊँची', 'आवाज़', 'बात', 'कहने', 'आदत', 'पड़', 'क्योंकि', 'सब', 'लोग', 'बाज़ार', 'बैठे', 'माल', 'बेच', 'पत्रकार', 'पक्का', 'पूरी', 'बहस', 'नहीं', 'मालूम', 'जयपुर', 'लिटररी', 'फेस्टीवल', 'आशीष', 'नंदी', 'दलित', 'पिछड़ों', 'के', 'बारे', 'संदर्भ', 'बात', 'कही', 'लोगों', 'नहीं', 'मालूम', 'विश्वरूपम', 'फिल्म', 'लोगों', 'नहीं', 'मालूम', 'हुसैन', 'पेंटिंग्स', 'प्रतिक्रिया', 'हर', 'जगह', 'आशीष', 'नंदी', 'स्तर', 'बात', 'चाह', 'वो', 'पूरी', 'तोड़-मरोड़', 'दी', 'उधर', 'तमिलनाडु', 'मुख्यमंत्री', 'जयललिता', 'विपक्षी', 'नेता', 'करुणानिधि', 'के', 'झगड़ों', 'के', 'कलाकार', 'फँस', 'हमारी', 'भारतीय', 'संस्कृति', 'सरस्वती', 'लक्ष्मी', 'संतुलन', 'रखा', 'सिर्फ़', 'बाज़ार', 'हावी', 'असर', 'हर', 'जगह', 'हावी', 'मीडिया', 'ज़माने', 'डिस्कशन', 'लोग', 'बातचीत', 'स्क्रीन', 'छह', 'लोग', 'शोर', 'बीबीसी', 'बात', 'दूसरी', 'विश्वयुद्ध', 'के', 'पुराना', 'कल्चर', 'शोर', 'बढ़ावा', 'नहीं', 'जाए', 'बात', 'भोंडी', 'न', 'मालूम', 'हमारे', 'नए', 'मीडिया', 'संस्कृति', 'नहीं', 'बन', 'पाई', 'प्रोग्राम', 'क्वालिटी', 'ज़्यादा', 'ऊँची', 'आवाज़', 'ज़ोर', 'प्रोग्राम', 'देखते', 'गली', 'लड़ाई', 'देख', 'हों', 'शब्द', 'नज़रअंदाज़', 'वो', 'बेमानी', 'समाज', 'पचास', 'के', 'लोग', 'बात', 'ध्यान', 'रखा', 'जाना', 'बात', 'कहें', 'ग़लत', 'तबका', 'खड़ा', 'न', 'पाए', 'आहिस्ता', 'ज़रा', 'आहिस्ता', 'ले', 'चल', 'कारवान-ए-कैफ़ो', 'मस्ती', 'कोकि', 'सतह-ए-ज़हन-ए-', 'आलम', 'सख़्त', 'ना-हमवार', 'साक़ी', 'नाव', 'सँभालकर', 'ले', 'चलने', 'ज़रूरत', 'पानी', 'ठहराव', 'बढ़ाने', 'बजाए', 'उसमें', 'पत्थर', 'फेकें', 'जाएँ', 'होगा']\n",
            "--------------------------------------------------------------------------------\n",
            "CLUSTER #2\n",
            "india|स्थानीय पत्रकार अजय उमठ के अनुसार महाभारत तर्ज बनाए विज्ञापन कृष्ण के रूप दिख मोदी तस्वीर विपक्ष तीखे स्वर आलोचना महाभारत अपमान बताया गुजरात के कांग्रेस अध्यक्ष अर्जुन मोधवाडिया विज्ञापन के जरिए मोदी लोगों धार्मिक भावनाएं आहत जिसके लोगों माफी मांगनी बीजेपी विज्ञापन शुक्रवार स्थानीय अख़बार छपा बीजेपी के अमरेली जिला प्रमुख भरत कामदार छपवाया हालांकि पहली बार नहीं नरेन्द्र मोदी कृष्ण के रूप दिखे इससे साल के विधानसभा चुनाव के जनसभा मोदी तस्वीर भेंट वो कृष्ण के रूप दिख रहें विवेकानंद जयंती के उपलक्ष्य तस्वीर स्वामी विवेकानंद के रूप दिखी उमठ “ मोदी बार कृष्ण नरेन्द्र दत्त के रूप दिख चुके गुजरात चुनाव साल लिहाजा लोक्रप्रियता पाने के तरीके के तौर देखा ” विज्ञापन भारतीय जनता पार्टी के गुजरात अध्यक्ष आरसी फाल्दु अर्जुन बने पार्टी के नेता विजय रूपानी पुरूशोत्तम रूपाला आईके जडेजा बाकी पांडवों के रूप दिख रहें गौरतलब फाल्दू यात्रा अगुवाई रहें जिसका पार्टी के अनुसार उद्देश्य किसानों जागरूकता लाना फाल्दू पत्रकारों यात्रा उद्देश्य सौराष्ट्र के किसानों खेती के वैज्ञानिक तरीकों प्रयोग के प्रोत्साहित उन्होंने यात्रा यूपीए सरकार ‘ किसान विरोधी ’ नीतियां जगजाहिर होंगी यात्रा हरी झंडी दिखाने के राजकोट पहुंचे मोदी यूपीए सरकार आड़े हाथों लेते किसानो के “ संवेदनहीन ” “ गुजरात विरोधी ” बताया उन्होंने कपास निर्यात प्रतिबंध लगाने के फैसले राज्य के किसानों खासा नुकसान पहुंचा केन्द्र सरकार निर्यात प्रतिबंध लगाए मोदी काफी आलोचना\n",
            "--------------------------------------------------------------------------------\n",
            "['international|मनमोहन', 'सिंह', 'भारत', 'पाकिस्तान', 'के', 'रिश्तों', 'ले', 'के', 'पाकिस्तान', 'नई', 'सरकार', 'के', 'मिलकर', 'काम', 'भारत', 'इच्छा', 'ज़ाहिर', 'भारतीय', 'प्रधानमंत्री', 'नवाज़', 'शरीफ़', 'माकूल', 'मौके', 'भारत', 'आना', 'न्योता', 'इससे', 'भारतीय', 'विदेश', 'मंत्री', 'सलमान', 'ख़ुर्शीद', 'उम्मीद', 'जताई', 'पाकिस्तान', 'नवाज़', 'शरीफ़', 'सत्ता', 'वापसी', 'के', 'भारत', 'पाकिस्तान', 'के', 'बेहतर', 'तालुक्क़ात', 'क़ायम', 'रहेंगे', 'भारत-प्रशासित', 'कश्मीर', 'के', 'मुख्यमंत्री', 'उमर', 'अबदुल्लाह', 'शांति', 'प्रक्रिया', 'शुरू', 'आशा', 'जताई', 'तस्वीरों', 'में-', 'नवाज़', 'शरीफ़', 'ज़िंदगीनामासमाचार', 'एजेंसी', 'पीटीआई', 'विदेश', 'मंत्री', 'के', 'हवाले', 'लोकतांत्रिक', 'तरीक़े', 'चुनाव', 'के', 'नतीजे', 'आए', 'भारत', 'स्वागत', 'हमारी', 'सरकार', 'नवाज़', 'शरीफ़', 'के', 'तालुक्का़त', 'बेहतर', 'उन्होंने', 'हमें', 'उम्मीद', 'हमारे', 'संबंध', 'बेहतर', 'रहेंगे', 'पाकिस्तान', 'चुनाव', 'के', 'नतीजे', 'आने', 'शुरू', 'के', 'उमर', 'अब्दुल्लाह', 'ट्विट', 'करके', 'नवाज़', 'शरीफ़', 'बधाई', 'उम्मीद', 'हूं', 'वो', 'प्रतिबद्धता', 'क़ायम', 'रहेंगे', 'वो', 'थम', 'शांति', 'प्रक्रिया', 'शुरू', 'करेंगे', 'उन्होंने', 'मुझे', 'लगता', 'हमें', 'चुनाव', 'के', 'तैयार', 'स्थिति', 'के', 'इंतज़ार', 'होगा', 'जिसके', 'भारत', 'पाकिस्तान', 'सार्थक', 'बातचीत', 'संभव', 'पाएगी', 'पाकिस्तान', 'चुनाव', 'विशेषसाल', 'सत्ता', 'पलट', 'के', 'मुल्क', 'छोड़कर', 'मजबूर', 'नवाज़', 'शरीफ़', 'पाकिस्तान', 'के', 'राजनीतिक', 'इतिहास', 'वो', 'व्यक्ति', 'होंगे', 'तीसरी', 'बार', 'प्रधानमंत्री', 'बन', 'पूर्व', 'क्रिकेटर', 'राजनीति', 'आए', 'इमरान', 'ख़ान', 'पार्टी', 'चुनाव', 'अच्छी', 'सफलता', 'मिली', 'लोगों', 'माना', 'दल', 'के', 'प्रभावी', 'पड़ाव', 'साल', 'संसद', 'महज़', 'सीट', 'हासिल']\n",
            "--------------------------------------------------------------------------------\n",
            "['science|ये', 'भौगोलिक', 'संरचनाएं', 'छोटी', 'गोलकार', 'टीले', 'जैसी', 'विशाल', 'भूभाग', 'फैली', 'वर्षों', 'वैज्ञानिक', 'रहस्य', 'समझने', 'के', 'माथापच्ची', 'नए', 'शोध', 'दावा', 'बिल', 'खोदने', 'छोटे', 'जीव', 'वास्तुकार', 'शोध', 'के', 'नतीजों', 'सैन', 'फ्रांसिस्को', \"'अमरीकन\", 'जियोफिजिकल', 'यूनियन', 'फॉल', 'मीटिंग', 'पेश', 'जाएगा', 'मीमा', 'माउंड्स', 'आकार', 'सात', 'फ़ीट', 'ऊंचा', 'व्यास', 'फ़ीट', 'पूरी', 'दुनिया', 'भर', 'पाए', 'उत्तरी', 'अमरीका', 'बहुतायत', 'इलाक़ों', 'लाखों', 'संख्या', 'पाए', 'किलोमीटर', 'के', 'फैले', 'रहते', 'शोधकर्ताओं', 'टीम', 'नेतृत्व', 'सैन', 'जोस', 'स्टेट', 'यूनिवर्सिटी', 'जुड़े', 'डॉक्टर', 'मैनी', 'गैबेट', 'बीबीसी', 'मीमा', 'माउंड्स', 'रहस्य', 'नहीं', 'जान', 'पाया', 'आख़िर', 'बनते', 'उन्होंने', 'पिछली', 'सदियों', 'लोग', 'सोचते', 'आए', 'स्थानीय', 'अमरीकियों', 'कब्रें', 'भूकंप', 'ग्लेशियर', 'के', 'कारण', 'संरचनाओं', 'निर्माण', 'लोग', 'ग्रह', 'संरचनाएं', 'मानते', 'हालांकि', 'डॉक्टर', 'गैबेट', 'वो', 'बात', 'निश्चित', 'रहस्यमयी', 'टीलों', 'बिल', 'बनाने', 'जीवों', 'बनाया', 'कम्प्यूटर', 'प्रोग्राम', 'सहायता', 'शोधकर्ताओं', 'दिखाया', 'जीव', 'सतह', 'के', 'खुदाई', 'के', 'मिट्टी', 'फेंकते', 'उन्होंने', 'पाया', 'जल', 'जमाव', 'इलाकों', 'नमी', 'बचने', 'के', 'जीव', 'मिट्टी', 'ओर', 'ठेलते', 'सैकड़ों', 'सालों', 'जीवों', 'पीढ़ियों', 'मशक्कत', 'टीले', 'विशाल', 'विशेष', 'नस्ल', 'के', 'जीव', 'केवल', 'अमरीका', 'पाए', 'के', 'टीले', 'अंटार्कटिका', 'छोड़कर', 'पूरी', 'दुनिया', 'पाए', 'गैबेट', 'कहना', 'छंछूदर', 'भूमिगत', 'स्तनपायी', 'जीव', 'जिम्मेदार', 'बीबीसी', 'हिंदी', 'एंड्रॉयड', 'मोबाइल', 'ऐप', 'डाउनलोड', 'के', 'क्लिक', 'ख़बरें', 'पढ़ने', 'राय', 'देने', 'के', 'हमारे', 'फ़ेसबुक', 'पन्ने', 'आ', 'ट्विटर', 'फ़ॉलो']\n",
            "--------------------------------------------------------------------------------\n",
            "['science|ये', 'वही', 'इंजन', 'भारत', 'विकसित', 'बीस', 'वर्ष', 'लगा', 'जिसकी', 'तकनीक', 'भारत', 'पड़ोसी', 'देश', 'रूस', 'हासिल', 'चाहता', 'अमरीका', 'के', 'दबाव', 'रूस', 'भारत', 'तकनीक', 'नहीं', 'दी', 'बीस', 'वर्ष', 'सही', 'भारत', 'क्रायोजेनिक', 'इंजन', 'तकनीक', 'महारथ', 'हासिल', 'ली', 'तकनीक', 'महत्व', 'तथ्य', 'निहित', 'हज़ार', 'किलो', 'वज़नी', 'उपग्रहों', 'प्रक्षेपित', 'के', 'क्रायोजेनिक', 'इंजन', 'सख़्त', 'ज़रूरत', 'पड़ती', 'वजह', 'इंजन', 'वो', 'ताक़त', 'मिलती', 'जिसके', 'बूते', 'उपग्रह', 'किलोमीटर', 'स्थित', 'कक्षा', 'सफलतापूर्वक', 'स्थापित', 'सफल', 'प्रक्षेपण', 'के', 'भारत', 'अंतरिक्ष', 'विज्ञान', 'दुनिया', 'हर', 'उपलब्धि', 'हासिल', 'ली', 'भारत', 'छोटा', 'रॉकेट', 'पीएसएलवी', 'पोलर', 'सैटेलाइट', 'लॉन्च', 'व्हीकल', 'यानी', 'ध्रुवीय', 'प्रक्षेपण', 'यान', 'क़ामयाब', 'भारत', 'उपग्रह', 'ख़ुद', 'बना', 'क्रायोजनिक', 'इंजन', 'भारत', 'के', 'संचार', 'उपग्रहों', 'प्रक्षेपित', 'करेगा', 'भारत', 'चंद्रयान-', 'मिशन', 'आरंभ', 'करेगा', 'जीएसएलवी', 'ज़रूरत', 'होगी', 'अमरीका', 'कहकर', 'तकनीक', 'भारत', 'रखने', 'कोशिश', 'वो', 'इस्तेमाल', 'सैन्य', 'ताक़त', 'बढ़ाने', 'भारत', 'अंतर-महाद्वीय', 'प्रक्षेपास्त्र', 'अग्नि-', 'क्रायोजेनिक', 'इंजन', 'विकसित', 'करके', 'दिखाया', 'जिसकी', 'मारक', 'क्षमता', 'पांच', 'हज़ार', 'किलोमीटर', 'अधिक', 'भारत', 'अग्नि-', 'के', 'सफल', 'प्रक्षेपण', 'ख़ास', 'बात', 'प्रक्षेपास्त्र', 'ठोस', 'रॉकेट', 'ईंधन', 'चलता', 'भारत', 'क्रायोजनिक', 'इंजन', 'नहीं', 'चलाया', 'भारत', 'शुरू', 'कहता', 'वो', 'क्रायोजेनिक', 'तकनीक', 'इस्तेमाल', 'असैन्य', 'ज़रूरतों', 'के', 'करेगा', 'उसने', 'करके', 'दिखाया', 'भारत', 'असैन्य', 'अंतरिक्ष', 'कार्यक्रम', 'सीमित', 'रखा', 'भारतीय', 'रक्षा', 'अनुसंधान', 'संगठन', 'डीआरडीओ', 'के', 'प्रमुख', 'भारत', 'क्रायोजेनिक', 'इंजन', 'प्रक्षेपास्त्रों', 'नहीं', 'चलाएगा', 'बीबीसी', 'संवाददाता', 'स्वाति', 'बक्शी', 'बातचीत', 'आधारित']\n",
            "--------------------------------------------------------------------------------\n",
            "['india|दिल्ली', 'शनिवार', 'जहां', 'बस', 'किशोर', 'लड़की', 'के', 'छेड़छाड़', 'पश्चिम', 'बंगाल', 'के', 'बारासात', 'वर्षीय', 'महिला', 'कथित', 'सामूहिक', 'बलात्कार', 'के', 'हत्या', 'दी', 'महिला', 'के', 'पति', 'बुरी', 'पिटाई', 'कोलकाता', 'के', 'अस्पताल', 'भर्ती', 'कराया', 'पश्चिम', 'बंगाल', 'घटना', 'राजधानी', 'कोलकाता', 'किलोमीटर', 'समाचार', 'एजेंसी', 'पीटीआई', 'अतिरिक्त', 'पुलिस', 'अधीक्षक', 'भास्कर', 'मुखर्जी', 'के', 'हवाले', 'महिला', 'के', 'बेटे', 'अलाफाज', 'अली', 'शनिवार', 'बारासात', 'पुलिस', 'थाने', 'प्राथमिकी', 'दर्ज', 'कराई', 'मां', 'के', 'सामूहिक', 'बलात्कार', 'हत्या', 'दी', 'पिता', 'के', 'चेहरे', 'तेजाब', 'जैसी', 'चीज', 'फेंकी', 'गंभीर', 'रूप', 'जख्मी', 'पति-पत्नी', 'शनिवार', 'काम', 'के', 'घर', 'लौट', 'लोगों', 'महिला', 'परेशान', 'शुरू', 'पति', 'विरोध', 'पिटाई', 'लोगों', 'महिला', 'के', 'बलात्कार', 'अलाफाज', 'अली', 'बताया', '“', 'सिर', 'चोट', 'उन्होंने', 'बलात्कार', 'हत्या', 'दी', 'मेरे', 'पिता', 'उनमें', 'पहचान', '”', 'मामले', 'व्यक्ति', 'गिरफ्तार', 'दूसरी', 'तरफ', 'दिल्ली', 'शनिवार', 'चलती', 'बस', 'किशोर', 'लड़की', 'के', 'कथित', 'रूप', 'छेड़छाड़', 'समाचार', 'एजेंसी', 'पीटीआई', 'के', 'अनुसार', 'घटना', 'केंद्रीय', 'दिल्ली', 'मंडी', 'हाउस', 'इलाके', 'जहां', 'बस', 'सवार', 'बस', 'के', 'कंडक्टर', 'लड़की', 'के', 'छेड़छाड़', 'पुलिस', 'अधिकारी', 'बताया', '“', 'लड़की', 'नारंगी', 'रंग', 'क्लस्टर', 'बस', 'चढ़ी', 'बस', 'रात', 'बजे', 'के', 'आसपास', 'मंडी', 'हाउस', 'पहुंची', 'कंडक्टर', 'लड़की', 'छेड़ा', '”', 'पुलिस', 'अभियुक्त', 'गिरफ्तार']\n",
            "--------------------------------------------------------------------------------\n",
            "['india|दिल्ली', 'सरकार', 'बनाने', 'के', 'ज़रूरी', 'बहुमत', 'दल', 'के', 'पास', 'नहीं', 'सवाल', 'संविधान', 'सरकार', 'बनाने', 'के', 'कौन-कौन', 'विकल्प', 'बीबीसी', 'संविधान', 'विशेषज्ञ', 'सुभाष', 'कश्यप', 'बात', 'दिल्ली', 'सरकार', 'बनाने', 'के', 'सबसे', 'पहला', 'क़दम', 'सबसे', 'बड़ी', 'पार्टी', 'सरकार', 'बनाने', 'कवायद', 'दिल्ली', 'के', 'उपराज्यपाल', 'सबसे', 'दल', 'के', 'नेता', 'बुलाएं', 'बहुमत', 'साबित', 'सरकार', 'बनाने', 'के', 'कहें', 'सबसे', 'ज़्यादा', 'सीटें', 'जीतने', 'वाली', 'पार्टी', 'भाजपा', 'कहती', 'सरकार', 'बनाने', 'स्थिति', 'नहीं', 'उपराज्यपाल', 'सबसे', 'दल', 'यानी', \"'आप\", 'के', 'नेता', 'बुला', \"'आप\", 'कह', 'दे', 'सरकार', 'बनाने', 'स्थिति', 'नहीं', 'विकल्प', 'पहला', 'विकल्प', 'उपराज्यपाल', 'राष्ट्रपति', 'सिफ़ारिश', 'दिल्ली', 'सरकार', 'नहीं', 'बन', 'राष्ट्रपति', 'शासन', 'ज़रूरी', 'संविधान', 'के', 'अंतर्गत', 'विकल्प', 'उपराज्यपाल', 'विधानसभा', 'कहें', 'नेता', 'चुन', 'लें', 'सदन', 'नेता', 'चुनेगा', 'वो', 'ज़रूरी', 'नहीं', 'सबसे', 'बड़ी', 'पार्टी', 'बल्कि', 'वो', 'पार्टी', 'सदन', 'नेता', 'चुन', 'सदन', 'बहुमत', 'मिल', 'जाए', 'नेता', 'सदन', 'के', 'नेता', 'चुना', 'जाएगा', 'सदन', 'बहुमत', 'प्राप्त', 'होगा', 'वो', 'सरकार', 'बनाएगा', 'दिल्ली', 'सरकार', 'बन', 'सरकार', 'दलीय', 'दल', 'विहीन', 'सर्वदलीय', 'हालांकि', 'अस्वाभाविक', 'लगता', 'संविधान', 'के', 'अंतर्गत', 'संभव', 'दल', 'बहुमत', 'साबित', 'नहीं', 'पाता', 'गठबंधन', 'सरकार', 'बन', 'बड़ी', 'पार्टियां', 'तय', 'लें', 'समर्थन', 'नहीं', 'करेंगे', 'विरोध', 'नहीं', 'करेंगे', 'बल्कि', 'मुद्दा', 'आधारित', 'राजनीति', 'होगी', 'संसदीय', 'लोकतंत्र', 'ज़रूरी', 'नहीं', 'बहुमत', 'समर्थन', 'प्राप्त', 'ज़रूरी', 'सरकार', 'के', 'विरोध', 'बहुमत', 'न', 'अल्पसंख्यक', 'सरकार', 'बनने', 'संभावना', 'संविधान', 'के', 'विकल्प', 'सदन', 'नेता', 'चुन', 'ले', 'बहुमत', 'स्वीकार्य', 'नेता', 'सरकार', 'बनाए', 'नेता', 'निर्भर', 'होगा', 'सरकार', 'दल', 'के', 'लोगों', 'रखे', 'दल', 'के', 'लोगों', 'हालांकि', 'सरकार', 'बनाने', 'बात', 'नहीं', 'उठी', 'हां', 'अंतरिम', 'सरकार', 'मुस्लिम', 'लीग', 'कांग्रेस', 'जनसंघ', 'के', 'श्यामा', 'प्रसाद', 'मुखर्जी', 'सदस्य', 'तीन', 'विकल्प', 'पहला', 'दल', 'बहुमत', 'साबित', 'सके', 'चाहे', 'भाजपा', \"'आप\", 'विकल्प', 'अल्पमत', 'सरकार', 'बने', 'तीसरा', 'विकल्प', 'नेता', 'चुना', 'जाए', 'बिना', 'दल', 'सरकार', 'बने', 'सरकार', 'बनाने', 'के', 'ज़रूरी', 'बहुमत', 'दल', 'के', 'पास', 'नहीं', 'मौजूदा', 'संख्या', 'स्थिति', 'बनती', 'दल', 'दल', 'चाहे', 'भाजपा', 'कांग्रेस', 'के', 'विधायक', 'जोड़ती', \"'दल-बदल\", 'विरोधी', 'कानून', 'लागू', 'होगा', 'विलय', 'न', 'क़ानून', 'के', 'लागू', 'ख़तरा', 'बस', 'अपवाद', 'तिहाई', 'सदस्य', 'दूसरी', 'पार्टी', 'जुड़', 'जाएं', 'स्थिति', 'नहीं', 'आएगी', 'स्थिति', 'के', 'आने', 'संभावना', 'नहीं', 'लगती', 'सरकार', 'नहीं', 'बनती', 'छह', 'महीने', 'के', 'दोबारा', 'चुनाव', 'कराने', 'होंगे', 'मौजूदा', 'परिस्थितियों', 'बात', 'संभावना', 'ज़्यादा', 'लगती', 'चुनाव', 'लोकसभा', 'चुनाव', 'के', 'कराए', 'जाएं', 'अंतिम', 'निर्णय', 'चुनाव', 'आयोग', 'होगा', 'दिल्ली', 'उपराज्यपाल', 'शासन', 'रहेगा', 'बीबीसी', 'संवाददाता', 'दिव्या', 'आर्य', 'बातचीत', 'आधारित', 'बीबीसी', 'हिंदी', 'एंड्रॉयड', 'मोबाइल', 'ऐप', 'डाउनलोड', 'के', 'क्लिक', 'ख़बरें', 'पढ़ने', 'राय', 'देने', 'के', 'हमारे', 'फ़ेसबुक', 'पन्ने', 'आ', 'ट्विटर', 'फ़ॉलो']\n",
            "--------------------------------------------------------------------------------\n",
            "['india|दिल्ली', 'सरकार', 'हेल्पलाइन', 'तैनात', 'एंटी', 'करप्शन', 'विभाग', 'के', 'अधिकारी', 'लोगों', 'भ्रष्ट', 'अफ़सरों', 'के', 'ख़िलाफ़', 'स्टिंग', 'ऑपरेशन', 'के', 'बारे', 'सलाह', 'देंगे', 'दिल्ली', 'सरकार', 'कहना', 'लोग', 'स्टिंग', 'करेंगे', 'वो', 'सबूत', 'के', 'तौर', 'अदालत', 'काम', 'आएगा', 'स्टिंग', 'के', 'एंटी', 'करप्शन', 'विभाग', 'के', 'अधिकारी', 'लोगों', 'के', 'मिलकर', 'काम', 'करेंगे', 'हेल्पलाइन', 'शुरुआत', 'मुख्यमंत्री', 'अरविंद', 'केजरीवाल', 'दिल्ली', 'के', 'हर', 'आदमी', 'एंटी', 'करप्शन', 'क्रूसेडर', 'बना', 'फ़ोन', 'हथियार', 'होगा', 'नंबर', 'होगा', 'मुख्यमंत्री', 'अरविंद', 'केजरीवाल', 'हेल्पलाइन', 'कमियां', 'होंगी', 'सुधारने', 'कोशिश', 'करेंगे', 'दिल्ली', 'रिश्वत', 'मांगे', 'उतने', 'बेबस', 'नहीं', 'फ़ोन', 'निकालें', 'रिकॉर्डिंग', 'लें', 'अधिकारी', 'शामत', 'आ', 'उन्होंने', 'भ्रष्टाचार', 'के', 'मामलों', 'दिल्ली', 'सरकार', 'अगले', 'दिनों', 'कार्रवाई', 'करेगी', 'केजरीवाल', 'अधिकारी', 'काम', 'के', 'पैसे', 'मांग', 'जेल', 'भेजा', 'जाना', 'ज़्यादातर', 'मामले', 'जिनमें', 'सही', 'दस्तावेज', 'के', 'बावजूद', 'काम', 'नहीं', 'लोग', 'हमारे', 'पास', 'आएं', 'काम', 'करेंगे', 'बीबीसी', 'हिंदी', 'के', 'एंड्रॉएड', 'ऐप', 'के', 'क्लिक', 'हमें', 'फ़ेसबुक', 'ट्विटर', 'फ़ॉलो']\n",
            "--------------------------------------------------------------------------------\n",
            "CLUSTER #3\n",
            "sport|युवा कप्तान एडन मरक्रम पारी कॉर्बिन बॉश शानदार गेंदबाज़ी के दम दक्षिण अफ्रीका कारनामा दिखाया दुबई इंटरनेशनल स्टेडियम फाइनल मुकाबले पाकिस्तान बल्लेबाज़ी दक्षिण अफ्रीकी टीम के सामने रन लक्ष्य रखा कप्तान एडन मरक्रम नाबाद रन नाबाद पारी के दम दक्षिण अफ्रीका लक्ष्य चार विकेट के नुकसान वें ओवर हासिल दक्षिण अफ्रीका पहला झटका अमाद बट्ट सलामी बल्लेबाज़ क्लाइड फॉर्टुइन सिर्फ रन बनाकर कैच आउट स्मिथ रन बनाकर पवैलियन लौट एडन के सबसे ज़्यादा रन बनाए वो ओल्डफ़ील्ड उन्होंने रन बनाए पाकिस्तान बल्लेबाज़ी दक्षिण अफ्रीका के सामने जीत के रन लक्ष्य टॉस जीतकर बैटिंग उतरी पाकिस्तानी टीम प्रदर्शन बेहद खराब कॉर्बिन बॉश घातक गेंदबाजी के चलते पाकिस्तान स्कोर रन विकेट ज़फर गौहर अमाद बट्ट पारी संभालने कोशिश ओवरों पूरी टीम रन जुटा सकी पाकिस्तान ओर सबसे ज़्यादा रन अमाद बट्ट बनाए उन्होंने रनों योगदान दक्षिण अफ्रीका के बॉश रन देकर विकेट झटके मैन ऑफ द मैच कॉर्बिन बॉश मैन ऑफ सिरीज़ ख़िताब मिला एडन मरक्रम\n",
            "--------------------------------------------------------------------------------\n",
            "['sport|भारत', 'पांच', 'टेस्ट', 'मैचों', 'सिरीज़', 'गंवा', 'दी', 'इंग्लैंड', 'के', 'ख़िलाफ़', 'भारत', 'पहली', 'पारी', 'रन', 'पिछड़', 'भारत', 'दूसरी', 'पारी', 'सिर्फ़', 'रनों', 'ख़त्म', 'मुरली', 'विजय', 'गौतम', 'गंभीर', 'सलामी', 'जोड़ी', 'दूसरी', 'पारी', 'अच्छी', 'शुरुआत', 'देने', 'नाकाम', 'रन', 'के', 'स्कोर', 'बल्लेबाज़', 'आउट', 'चेतेश्वर', 'पुजारा', 'सिर्फ़', 'रन', 'बनाए', 'पुजारा', 'पांच', 'टेस्ट', 'सिरीज़', 'औसत', 'रन', 'बनाए', 'सिरीज़', 'सबसे', 'ख़राब', 'औसत', 'तीसरे', 'क्रम', 'के', 'बल्लेबाज़', 'कप्तान', 'महेंद्र', 'सिंह', 'धोनी', 'दूसरी', 'पारी', 'खाता', 'नहीं', 'खोल', 'सके', 'विराट', 'कोहली', 'सिर्फ़', 'रन', 'बना', 'सके', 'जॉर्डन', 'गेंद', 'एलिस्टर', 'कुक', 'के', 'हाथों', 'लपके', 'कोहली', 'पांच', 'मैचों', 'सिरीज़', 'पारियों', 'के', 'औसत', 'रन', 'बनाए', 'औसत', 'सिर्फ़', 'गौतम', 'गंभीर', 'वरुण', 'ऐरॉन', 'पंकज', 'सिंह', 'बेहतर', 'इससे', 'इंग्लैंड', 'रूट', 'शतकीय', 'पारी', 'कप्तान', 'कुक', 'जी', 'बैलेंस', 'अर्धशतकों', 'बदौलत', 'पहली', 'पारी', 'रन', 'मज़बूत', 'स्कोर', 'खड़ा', 'भारत', 'ओर', 'ईशांत', 'शर्मा', 'चार', 'आर', 'अश्विन', 'तीन', 'वरुण', 'एरोन', 'विकेट', 'भारत', 'पहली', 'पारी', 'सिर्फ़', 'के', 'स्कोर', 'सिमट']\n",
            "--------------------------------------------------------------------------------\n",
            "['sport|हैदराबाद', 'आईपीएल', 'मैच', 'डेक्कन', 'चार्जर्स', 'राजस्थान', 'पाँच', 'विकेट', 'हरा', 'डेल', 'स्टेन', 'अमित', 'मिश्रा', 'अच्छी', 'गेंदबाजी', 'बदौलत', 'डेक्कन', 'जीत', 'मिली', 'प्ले', 'ऑफ', 'जगह', 'बनाने', 'होड़', 'बने', 'रहने', 'के', 'राजस्थान', 'अंतिम', 'मैच', 'जीतने', 'थे-डेक्कन', 'मुंबई', 'के', 'राजस्थान', 'टॉस', 'जीतकर', 'बल्लेबाजी', 'चुनी', 'शुरुआत', 'द्रविड़', 'रहाणे', 'शुरु', 'डेक्कन', 'के', 'गेंदबाजों', 'फील्डरों', 'प्रदर्शन', 'खराब', 'ओवर', 'विकेटकीपर', 'पार्थिव', 'पटेल', 'अजिंक्य', 'रहाणे', 'कैच', 'छोड़', 'अगले', 'ओवर', 'डेल', 'स्टेन', 'भरपाई', 'दी', 'उन्होंने', 'केवल', 'छह', 'के', 'स्कोर', 'रहाणे', 'आउट', 'अमित', 'मिश्रा', 'राजस्थान', 'दोहरा', 'झटका', 'उन्होंने', 'शेन', 'वाटसन', 'सात', 'रन', 'स्टुयर्ट', 'बिनी', 'पवेलियन', 'लौटा', 'केवल', 'कप्तान', 'द्रविड़', 'अकेले', 'जूझते', 'वें', 'ओवर', 'मनप्रीत', 'गोनी', 'के', 'स्कोर', 'चलते', 'ओवेस', 'शाह', 'अशोक', 'मनेरिया', 'थोड़ा', 'योगदान', 'आखिरी', 'के', 'बल्लेबाज', 'नहीं', 'पाए', 'ओवरों', 'राजस्थान', 'टीम', 'आठ', 'विकेट', 'के', 'नुकसान', 'रन', 'बना', 'पाई', 'डेल', 'स्टेन', 'विकेट', 'अक्षत', 'रेड्डी', 'शिखर', 'धवन', 'डेक्कन', 'चार्जर्स', 'ठीक-ठाक', 'शुरुआत', 'दिलाई', 'शिखर', 'धवन', 'गेंदों', 'रन', 'बनाए', 'शिखर', 'धवन', 'पूरी', 'प्रतियोगिता', 'अच्छा', 'प्रदर्शन', 'अक्षत', 'रेड्डी', 'आउट', 'रनों', 'योगदान', 'आए', 'व्हाइट', 'लिन', 'खास', 'नहीं', 'पाए', 'हालात', 'थोड़े', 'मुश्किल', 'दिखे', 'डूमिनी', 'तेज़ी', 'रन', 'बनाए', 'वें', 'ओवर', 'बिनी', 'शिकार', 'बने', 'टीम', 'जीत', 'के', 'बेहद', 'करीब', 'ले', 'चुके', 'डेक्कन', 'स्कोर', 'पाँच', 'विकेट', 'रन', 'जीत', 'के', 'आखिर', 'के', 'चंद', 'रन', 'पार्थिव', 'पटेल', 'आशीष', 'रेड्डी', 'बना', 'राजस्थान', 'ओर', 'सिद्धार्थ', 'त्रिवेदी', 'विकेट']\n",
            "--------------------------------------------------------------------------------\n",
            "['sport|हरियाणा', 'मैच', 'स्थानीय', 'टीम', 'के', 'विरुद्ध', 'मुंबई', 'मैच', 'के', 'अंतिम', 'दिन', 'रनों', 'ज़रूरत', 'उसने', 'बिना', 'विकेट', 'गँवाए', 'हासिल', 'तीसरे', 'दिन', 'स्टंप', 'के', 'दूसरी', 'पारी', 'मुंबई', 'स्कोर', 'विकेट', 'खोकर', 'रन', 'सचिन', 'रन', 'बनाकर', 'नॉट', 'आउट', 'चौथे', 'दिन', 'उन्होंने', 'बढ़ते', 'रनों', 'पारी', 'खेली', 'दे', 'धवल', 'कुलकर्णी', 'रन', 'बनाकर', 'नॉट', 'आउट', 'इससे', 'मेज़बान', 'हरियाणा', 'पहली', 'पारी', 'रनों', 'सिमटी', 'दूसरी', 'पारी', 'मुंबई', 'शुरूआत', 'बेहद', 'खराब', 'अनुभवी', 'बल्लेबाज़', 'वसीम', 'जाफर', 'केवल', 'रन', 'बनाकर', 'हर्षल', 'पटेल', 'शिकार', 'बने', 'अजिंक्य', 'रहाणे', 'कौस्तुभ', 'पवार', 'के', 'रनों', 'साझेदारी', 'अजिंक्य', 'रहाणे', 'रन', 'बनाकर', 'जयंत', 'यादव', 'गेंद', 'बोल्ड', 'जीत', 'के', 'मुंबई', 'के', 'खिलाड़ियों', 'सचिन', 'कंधे', 'उठाकर', 'सम्मानजनक', 'विदाई', 'दी', 'सचिन', 'लाहली', 'के', 'विकेट', 'बल्लेबाज़ी', 'चुनौतीपूर्ण', 'आउटफील्ड', 'धीमा', 'वजह', 'लक्ष्य', 'मुझे', 'वेस्टइंडीज़', 'के', 'सीरीज़', 'तैयारी', 'के', 'के', 'विकेट', 'तलाश', 'सीरीज़', 'खेलने', 'के', 'काफी', 'उत्साहित', 'हूं', 'मैच', 'अच्छी', 'कराने', 'के', 'हरियाणा', 'क्रिकेट', 'संघ', 'धन्यवाद', 'देना', 'चाहता', 'हूं', 'लाहली', 'के', 'लोगों', 'धन्यवाद', 'हूं', 'जिन्होंने', 'आखिरी', 'घरेलू', 'मैच', 'इतना', 'यादगार', 'बनाया', 'क्रिकेट', 'सितारों', 'भरे', 'मैच', 'गेंदबाज़', 'बल्लेबाज़ों', 'कदर', 'हावी', 'अंदाज़ा', 'लगाया', 'तरफ', 'मुंबई', 'पहली', 'पारी', 'केवल', 'रनों', 'सिमटी', 'हरियाणा', 'पहली', 'पारी', 'महज़', 'रनों', 'सिमट', 'सबकी', 'नज़रे', 'सचिन', 'थीं', 'हरियाणा', 'के', 'कप्तान', 'अजय', 'जडेजा', 'काफी', 'दिनों', 'मैदान', 'वापसी', 'जडेजा', 'पहली', 'पारी', 'केवल', 'रन', 'बना', 'पाए', 'दूसरी', 'पारी', 'खाता', 'नहीं', 'खुला', 'मैच', 'ज़हीर', 'खान', 'सबकी', 'निगाहें', 'थीं', 'दूसरी', 'पारी', 'हाथ', 'चार', 'विकेट', 'लगे', 'पहली', 'पारी', 'उन्होंने', 'विकेट', 'वैसे', 'पिच', 'जैसी', 'सचिन', 'के', 'वेस्टइंडीज़', 'के', 'ख़िलाफ', 'टेस्ट', 'श्रृंखला', 'शुरू', 'अभ्यास', 'के', 'बेहतर', 'साबित']\n",
            "--------------------------------------------------------------------------------\n",
            "['sport|इतने', 'बेरहम', 'नॉन', 'स्ट्राइकिंग', 'खड़ा', 'बल्लेबाज़', 'मैदान', 'फ़ील्डिंग', 'खिलाड़ी', 'तमाशबीन', 'ज़्यादा', 'नज़र', 'नहीं', 'आते', 'बार', 'बांग्लादेश', 'प्रीमियर', 'लीग', 'के', 'फ़ाइनल', 'गेल', 'छक्कों', 'ऐसी', 'झड़ी', 'लगाई', 'उन्होंने', 'चार', 'साल', 'इंडियन', 'प्रीमियर', 'लीग', 'बनाया', 'छक्कों', 'विश्व', 'रिकॉर्ड', 'पीछे', 'छोड़', 'साल', 'के', 'गेल', 'छक्कों', 'के', 'नया', 'कीर्तिमान', 'रच', 'रंगपुर', 'राइडर्स', 'तरफ', 'खेलते', 'गेल', 'गेंदों', 'रन', 'बनाए', 'छक्कों', 'के', 'अलावा', 'पाँच', 'चौके', 'जड़े', 'गेल', 'टी-', 'शतक', 'मारने', 'बल्लेबाज़', 'बन', 'गेल', 'टीम', 'रंगपुर', 'राइडर्स', 'फ़ाइनल', 'मुक़ाबला', 'रन', 'जीत', 'गेल', 'मारे', 'छक्केढाका', 'डायनामाइट्स', 'के', 'ख़िलाफ़', 'गेल', 'गियर', 'वें', 'ओवर', 'के', 'बदला', 'वें', 'ओवर', 'गेल', 'गेंदों', 'रन', 'बनाकर', 'क्रीज', 'उन्होंने', 'खालिद', 'अहमद', 'चौथी', 'पाँचवीं', 'गेंद', 'छक्का', 'उड़ाकर', 'मैच', 'रुख़', 'पलट', 'शाहिद', 'अफ़रीदी', 'किरोन', 'पोलार्ड', 'गेल', 'गेंदबाज़ों', 'जमकर', 'धुना', 'शतक', 'के', 'क्रिस', 'टी-', 'रन', 'बनाने', 'बल्लेबाज़', 'बन', 'क्रिस', 'के', 'ब्रैंडन', 'मैक्कलम', 'नाम', 'आता', 'रन', 'के', 'नंबर', 'क्रिस', 'गेल', 'टी-', 'छक्के', 'मार', 'चुके', 'अलावा', 'क्रिस', 'गेल', 'बांग्लादेश', 'प्रीमियर', 'लीग', 'छक्के', 'मारने', 'बल्लेबाज़', 'बन', 'रनों', 'पांच', 'चौके', 'शामिल', 'पारी', 'शुरुआत', 'आए', 'क्रिस', 'गेल', 'अंत', 'नाबाद', 'धुंआधार', 'पारी', 'बदौलत', 'रंगपुर', 'राइडर्स', 'ढाका', 'डायनामाइट', 'रनों', 'चुनौती', 'दी']\n",
            "--------------------------------------------------------------------------------\n",
            "['sport|माइकल', 'क्लॉर्क', 'कप्तानी', 'पूरी', 'टीम', 'पॉन्टिंग', 'जीत', 'के', 'विदा', 'चाहती', 'दक्षिण', 'अफ़्रीकी', 'टीम', 'पॉन्टिंग', 'उम्मीदों', 'पानी', 'फेर', 'पॉन्टिंग', 'ख़ुद', 'करियर', 'के', 'अंतिम', 'टेस्ट', 'ख़ास', 'नहीं', 'सके', 'पर्थ', 'टेस्ट', 'पारियों', 'दहाई', 'अंक', 'नहीं', 'पहुंच', 'पाए', 'पहली', 'पारी', 'पॉन्टिंग', 'दूसरी', 'पारी', 'महज', 'रन', 'बनाए', 'पॉन्टिंग', 'टेस्ट', 'मैचों', 'औसत', 'रन', 'बनाए', 'विदाई', 'टेस्ट', 'ख़ास', 'नहीं', 'पाए', 'पॉन्टिंग', 'अकेले', 'नहीं', 'क्रिकेट', 'दुनिया', 'पॉन्टिंग', 'के', 'अलावा', 'जीनियस', 'खिलाड़ी', 'जिनके', 'टेस्ट', 'विदाई', 'यादगार', 'नहीं', 'टेस्ट', 'क्रिकेट', 'सबसे', 'हज़ार', 'रन', 'बनाने', 'सुनील', 'गावस्कर', 'टेस्ट', 'मैचों', 'हार', 'के', 'विदा', 'पड़ा', 'भारत', 'पाकिस्तान', 'के', 'मार्च', 'के', 'चिन्नास्वामी', 'स्टेडियम', 'बेंगलौर', 'खेला', 'मैच', 'लिटिल', 'मास्टर', 'आखिरी', 'मैच', 'भारत', 'मैच', 'रन', 'हार', 'सुनील', 'गावस्कर', 'पहली', 'पारी', 'रन', 'बनाए', 'दूसरी', 'पारी', 'उन्होंने', 'बेहतरीन', 'रनों', 'पारी', 'खेली', 'आखिरी', 'टेस्ट', 'पारी', 'शतक', 'नहीं', 'बना', 'पाने', 'अफ़सोस', 'होगा', 'उससे', 'ज़्यादा', 'अफसोस', 'टीम', 'जीत', 'नहीं', 'दिला', 'पाने', 'होगा', 'सुनील', 'गावस्कर', 'टेस्ट', 'मैचों', 'औसत', 'रन', 'बनाए', 'टेस्ट', 'क्रिकेट', 'नाम', 'शतक', 'टेस्ट', 'क्रिकेट', 'सबसे', 'ज़्यादा', 'रन', 'बार', 'रनों', 'पारी', 'खेलने', 'कारनामा', 'दिखाने', 'ब्रायन', 'लारा', 'अंतिम', 'टेस्ट', 'मैच', 'ख़ुशकिस्मत', 'नहीं', 'पाकिस्तान', 'के', 'ख़िलाफ़', 'नवंबर', 'दिसंबर', 'के', 'कराची', 'खेला', 'टेस्ट', 'मैच', 'लारा', 'के', 'करियर', 'आख़िरी', 'टेस्ट', 'साबित', 'वेस्टइंडीज़', 'मैच', 'रन', 'हार', 'लारा', 'अंतिम', 'टेस्ट', 'पहली', 'पारी', 'खाता', 'नहीं', 'खोल', 'पाए', 'दूसरी', 'पारी', 'उन्होंने', 'रनों', 'योगदान', 'लारा', 'टेस्ट', 'मैचों', 'औसत', 'रन', 'बनाए', 'झोली', 'टेस्ट', 'शतक', 'राहुल', 'द्रविड़', 'आखिरी', 'टेस्ट', 'खेला', 'अंदाजा', 'नहीं', 'आखिरी', 'टेस्ट', 'होगा', 'ऑस्ट्रेलिया', 'के', 'ख़िलाफ़', 'जनवरी', 'के', 'एडिलेड', 'खेला', 'मैच', 'भारत', 'रनों', 'हार', 'राहुल', 'द्रविड़', 'टेस्ट', 'मैच', 'पारियों', 'नाकाम', 'पहली', 'पारी', 'उन्होंने', 'महज', 'रन', 'दूसरी', 'पारी', 'उन्होंने', 'महज', 'रन', 'बनाए', 'पूरी', 'सीरीज़', 'नाकामी', 'के', 'संन्यास', 'लेने', 'दबाव', 'बढ़', 'भारत', 'लौटते', 'उन्होंने', 'संन्यास', 'घोषणा', 'दी', 'राहुल', 'द्रविड़', 'टेस्ट', 'मैचों', 'औसत', 'रन', 'बनाए', 'द्रविड़', 'टेस्ट', 'मैचों', 'शतक', 'लगाए', 'के', 'विस्फोटक', 'बल्लेबाज़', 'विवयन', 'रिचर्ड्स', 'वेस्टइंडीज़', 'भले', 'टेस्ट', 'मैचों', 'जीत', 'दिलाई', 'अंतिम', 'टेस्ट', 'मैच', 'टीम', 'हार', 'सामना', 'पड़ा', 'रिचर्ड्स', 'अंतिम', 'टेस्ट', 'मैच', 'अगस्त', 'ओवल', 'लंदन', 'खेला', 'मुक़ाबले', 'इंग्लैंड', 'वेस्टइंडीज़', 'विकेट', 'हराया', 'विव', 'रिचर्ड्स', 'अंतिम', 'टेस्ट', 'पहली', 'पारी', 'महज', 'रन', 'बना', 'पाए', 'दूसरी', 'पारी', 'उन्होंने', 'रन', 'जरूर', 'बनाए', 'टीम', 'हार', 'नहीं', 'बचा', 'पाए', 'विवियन', 'रिचर्ड्स', 'करियर', 'टेस्ट', 'मैचों', 'औसत', 'रन', 'बनाए', 'नाम', 'टेस्ट', 'शतक', 'इंग्लैंड', 'के', 'सबसे', 'कामयाब', 'बल्लेबाज़ों', 'ग्राहम', 'गूच', 'विदाई', 'टेस्ट', 'टीम', 'जीतते', 'नहीं', 'देख', 'पाए', 'फरवरी', 'के', 'पर्थ', 'खेला', 'टेस्ट', 'मैच', 'ग्राहम', 'गूच', 'आखिरी', 'टेस्ट', 'इंग्लैंड', 'मैच', 'रन', 'हार', 'ग्राहम', 'गूच', 'पहली', 'पारी', 'दूसरी', 'पारी', 'महज', 'रन', 'बना', 'पाए', 'ग्राहम', 'गूच', 'दिनों', 'इंग्लिश', 'क्रिकेट', 'टीम', 'के', 'बल्लेबाज़ी', 'कोच', 'इंग्लैंड', 'ओर', 'उन्होनें', 'टेस्ट', 'मैचों', 'औसत', 'रन', 'बनाए', 'टेस्ट', 'क्रिकेट', 'गूच', 'के', 'नाम', 'शतक']\n",
            "--------------------------------------------------------------------------------\n",
            "['sport|मीरपुर', 'के', 'शेरे', 'बंगला', 'नेशनल', 'स्टेडियम', 'सोमवार', 'श्रीलंका', 'के', 'ख़िलाफ़', 'खेले', 'मैच', 'भारत', 'पांच', 'रन', 'हार', 'सामना', 'पड़ा', 'श्रीलंका', 'बल्लेबाज़ी', 'छह', 'विकेट', 'रन', 'बनाए', 'जिसके', 'जवाब', 'भारतीय', 'टीम', 'ओवर', 'रन', 'सिमट', 'भारतीय', 'टीम', 'के', 'सलामी', 'बल्लेबाज़', 'सस्ते', 'आउट', 'शिखर', 'धवन', 'रन', 'रोहित', 'शर्मा', 'चार', 'रन', 'बनाए', 'टीम', 'इंडिया', 'नियमित', 'अंतराल', 'विकेट', 'गंवाए', 'टीम', 'इंडिया', 'विकेट', 'रन', 'गंवा', 'दिए', 'सुरेश', 'रैना', 'युवराज', 'सिंह', 'टीम', 'के', 'स्कोर', 'रन', 'ले', 'तीसरे', 'नंबर', 'बल्लेबाज़ी', 'उतरे', 'रैना', 'गेंदों', 'पाँच', 'चौकों', 'मदद', 'रन', 'बनाए', 'अजंता', 'मेंडिस', 'गेंद', 'रंगना', 'हेरात', 'कैच', 'अजिंक्य', 'रहाणे', 'खाता', 'खोले', 'बिना', 'आउट', 'विराट', 'कोहली', 'नौ', 'गेंदों', 'चौके', 'छक्के', 'मदद', 'रन', 'बनाए', 'युवराज', 'गेंदों', 'चौकों', 'छक्कों', 'के', 'सहारे', 'रन', 'बनाकर', 'छठे', 'विकेट', 'के', 'रूप', 'आउट', 'टी-', 'झलकियांरवीन्द्र', 'जड़ेजा', 'स्टुअर्ट', 'बिन्नी', 'रन', 'बनाए', 'रविचंद्रन', 'अश्विन', 'गेंदों', 'चौकों', 'छ्क्के', 'के', 'सहारे', 'टीम', 'जीत', 'के', 'क़रीब', 'पहुँचाया', 'लसित', 'मलिंगा', 'अंतिम', 'ओवर', 'तीन', 'विकेट', 'चटकाकर', 'भारत', 'उम्मीदों', 'पानी', 'फेर', 'श्रीलंका', 'तरफ़', 'मलिंगा', 'कोटे', 'के', 'ओवरों', 'रन', 'देकर', 'चार', 'विकेट', 'नुवान', 'कुलशेखरा', 'सचित्र', 'सेनानायके', 'मेंडिस', 'हेरात', 'एक-एक', 'विकेट', 'इससे', 'भारत', 'टॉस', 'जीतकर', 'श्रीलंका', 'बल्लेबाज़ी', 'के', 'आमंत्रित', 'श्रीलंका', 'तरफ', 'माहेला', 'जयवर्द्धने', 'दिनेश', 'चांडीमल', 'रन', 'बनाए', 'ओपनर', 'कुशाल', 'परेरा', 'कुलशेखरा', 'नाबाद', 'तिसारा', 'परेरा', 'नाबाद', 'रन', 'बनाए', 'भारत', 'तरफ', 'ऑफ', 'स्पिनर', 'रविचंद्रन', 'अश्विन', 'चार', 'ओवर', 'रन', 'देकर', 'तीन', 'विकेट', 'टीम', 'इंडिया', 'अगला', 'अभ्यास', 'मैच', 'बुधवार', 'इंग्लैंड', 'के', 'खेलेगी', 'ट्वेंटी-', 'विश्व', 'कप', 'पहला', 'मुक़ाबला', 'मार्च', 'पाकिस्तान', 'के', 'होगा']\n",
            "--------------------------------------------------------------------------------\n",
            "CLUSTER #4\n",
            "international|कंपनी कहना उसने फ़ैसला ब्राज़ील के अधिकारियों शिकायत के टीशर्टों देश छवि प्रभावित द्विअर्थी संवादों वाली टीशर्ट कपड़े पहने महिला दिखाया लिखा लुकिंग टू स्कोर स्कोर बनाने सोच दूसरी टीशर्ट बिकनी पहने महिला पिछला हिस्सा दिखाया लिखा 'आई लव ब्राज़ील ब्राज़ील के पर्यटक बोर्ड ब्राज़ील छवि सेक्स अपील जोड़कर देखने उत्पाद के सख़्त ख़िलाफ़ एडिडास विश्व कप फ़ुटबाल के प्रमुख प्रायोजकों टूर्नामेंट के फ़ुटबॉल आपूर्ति करेगा विवाद के कंपनी अमरीका बेचे के जारी टीशर्ट हटा कंपनी बयान एडिडास उपभोक्ताओं सहयोगियों राय हमेशा ध्यान देता आया घोषणा उत्पादों नहीं बेचा जाएगा ब्राज़ील के पर्यटन मंत्रालय मंगलवार उत्पादों आलोचना राष्ट्रीय प्रतीकों छवि के कामुकता संबंध देश मार्केटिंग आधिकारिक नीतियों के ख़िलाफ़ होगा मंत्रालय दृष्टिकोण बच्चों किशोरों के यौन शोषण के रूप अपराधों परोक्ष रूप बढ़ावा देगा ब्राज़ील राष्ट्रपति डिल्मा रुसेफ़ प्रतिक्रिया दी उन्होंने ट्वीट विश्व कप के पर्यटकों स्वागत ब्राज़ील ख़ुश होगा देश यौन पर्यटन लड़ने के तैयार बयान ब्राज़ील के पर्यटन बोर्ड धरती ब्राज़ील के अपराधों बर्दाश्त नहीं करेगा ब्राज़ील देश दशकों बनाई कामुक छवि ख़ुद दूरी बनाने प्रयास\n",
            "--------------------------------------------------------------------------------\n",
            "['india|बिजनौर', 'के', 'ज़िलाधिकारी', 'लिखे', 'पत्र', 'सरकार', 'ओर', 'स्टांप', 'पंजीयन', 'मंत्री', 'मनोज', 'कुमार', 'पारस', 'के', 'ख़िलाफ़', 'चल', 'मुकदमे', 'जनहित', 'वापस', 'लेना', 'चाहती', 'बिजनौर', 'ज़िले', 'नगीना', 'विधानसभा', 'क्षेत्र', 'चुने', 'विधायक', 'मनोज', 'कुमार', 'पारस', 'लड़की', 'के', 'कथित', 'सामूहिक', 'बलात्कार', 'के', 'आरोप', 'ज़िलाधिकारी', 'पत्र', 'न्याय', 'विभाग', 'के', 'विशेष', 'सचिव', 'रंगनाथ', 'पांडेय', 'ओर', 'लिखा', 'बिजनौर', 'ज़िला', 'अदालत', 'चल', 'मुकदमे', 'कार्यवाही', 'हाई', 'कोर्ट', 'स्टे', 'लगा', 'रखा', 'मामला', 'साल', 'आरोप', 'मनोज', 'कुमार', 'पारस', 'तीन', 'सहयोगियों', 'दलित', 'महिला', 'घर', 'बुलाकर', 'बलात्कार', 'महिला', 'मामला', 'दर्ज', 'कराने', 'काफ़ी', 'मशक्कत', 'करनी', 'पड़ी', 'जनवरी', 'सीजेएम', 'कोर्ट', 'के', 'दख़ल', 'के', 'लोगों', 'मामला', 'दर्ज', 'न्याय', 'विभाग', 'ओर', 'डीएम', 'भेजे', 'पत्र', 'थाना', 'नगीना', 'ज़िला', 'बिजनौर', 'दर्ज', 'मुकदमे', 'के', 'तथ्यों', 'उपलब्ध', 'विवरण', 'विचार', 'के', 'सरकार', 'जनहित', 'न्यायहित', 'वापस', 'लेने', 'फैसला', 'पत्र', 'लिखा', 'राज्यपाल', 'मुकदमे', 'के', 'अभियोजन', 'वापस', 'लेने', 'के', 'लोक', 'अभियोजनक', 'न्यायालय', 'प्रार्थना', 'पत्र', 'पेश', 'अनुमति', 'दे', 'दी', 'पत्र', 'मिलने', 'के', 'बिजनौर', 'के', 'सहायक', 'लोक', 'अभियोजक', 'अदालत', 'अर्जी', 'दाखिल', 'दी', 'जनहित', 'सरकार', 'केस', 'वापस', 'लेने', 'फैसला', 'तर्क', 'अदालत', 'मुकदमों', 'भरमार', 'देखते', 'के', 'मामलों', 'न्यायहित', 'वापस', 'जाना', 'बिजनौर', 'कोर्ट', 'मंत्री', 'के', 'ख़िलाफ़', 'कुर्की', 'के', 'आदेश', 'जारी', 'दिए', 'मनोज', 'कुमार', 'पारस', 'मामले', 'हाई', 'कोर्ट', 'स्टे', 'ले', 'यूपी', 'सरकार', 'एटा', 'ज़िले', 'के', 'समाजवादी', 'पार्टी', 'के', 'अध्यक्ष', 'के', 'ख़िलाफ़', 'दर्ज', 'सामूहिक', 'बलात्कार', 'मामला', 'वापस', 'लेने', 'के', 'आदेश', 'दिए']\n",
            "--------------------------------------------------------------------------------\n",
            "['international|उत्तर', 'कोरिया', 'कार्रवाई', 'भविष्य', 'कदमों', 'के', 'संकेत', 'के', 'तौर', 'देखा', 'उत्तर', 'कोरिया', 'सरकारी', 'मीडिया', 'प्रशांत', 'महासागर', 'अमरीकी', 'द्वीप', 'गुआम', 'हमले', 'लगातार', 'धमकी', 'दे', 'मंगलवार', 'उत्तर', 'कोरियाई', 'मिसाइल', 'जापानी', 'द्वीप', 'के', 'गुजरने', 'के', 'समंदर', 'गिरी', 'उत्तर', 'कोरिया', 'विकल्प', 'खुले', 'अमरीकाउत्तर', 'कोरिया', 'मिसाइल', 'डरना', 'ज़रूरी', 'संयुक्त', 'राष्ट्र', 'सुरक्षा', 'परिषद', 'उत्तर', 'कोरिया', 'कार्रवाई', 'सुर', 'आलोचना', 'मंगलवार', 'न्यूयॉर्क', 'सुरक्षा', 'परिषद', 'उत्तर', 'कोरिया', 'के', 'मिसाइल', 'टेस्ट', 'भड़काने', 'वाली', 'कार्रवाई', 'बताया', 'हालांकि', 'सुरक्षा', 'परिषद', 'के', 'बयान', 'उत्तर', 'कोरिया', 'नए', 'प्रतिबंध', 'जिक्र', 'नहीं', 'उत्तर', 'कोरिया', 'हाल', 'के', 'महीनों', 'संयुक्त', 'राष्ट्र', 'प्रतिबंधों', 'के', 'बावजूद', 'बार-बार', 'मिसाइलों', 'परीक्षण', 'शब्दों', 'उ', 'कोरिया', 'मिसाइल', 'कार्यक्रम', 'जापान', 'के', 'उड़ी', 'उत्तर', 'कोरिया', 'मिसाइलइसी', 'सिलसिले', 'मंगलवार', 'उत्तर', 'कोरिया', 'प्योंगयांग', 'के', 'पास', 'जगह', 'ताजा', 'परीक्षण', 'उत्तर', 'कोरियाई', 'मिसाइल', 'किलोमीटर', 'दूरी', 'तय', 'जापान', 'के', 'पूर्व', 'तट', 'किलोमीटर', 'दूरी', 'जाकर', 'गिरी', 'मिसाइल', 'असामान्य', 'रूप', 'ऊंचाई', 'गुजरी', 'उधर', 'जापान', 'द्वीप', 'सुरक्षा', 'अलर्ट', 'जारी', 'पड़ा', 'प्रधानमंत्री', 'शिंज़ो', 'आबे', \"'अप्रत्याशित\", 'महत्वपूर्ण', 'गंभीर', 'चेतावनी', 'करार', \"'उत्तर\", 'कोरिया', 'मिसाइलों', 'ख़तरा', \"नहीं'उत्तर\", 'कोरिया', 'ग़लती', 'लीक', 'मिसाइलों', 'जानकारी', 'उत्तर', 'कोरिया', 'सरकारी', 'एजेंसी', 'केसीएनए', 'जापान', 'के', 'बैलीस्टिक', 'मिसाइल', 'दागने', 'बात', 'पहली', 'बार', 'स्वीकार', 'केसीएनए', 'तरफ़', 'उत्तर', 'कोरिया', 'कार्रवाई', 'अमरीका', 'दक्षिण', 'कोरिया', 'के', 'संयुक्त', 'सैनिक', 'अभ्यास', 'के', 'जवाब', 'संयुक्त', 'सैनिक', 'अभ्यास', 'फिलहाल', 'जारी', 'साल', 'जापान-कोरिया', 'संधि', 'सालगिरह', 'मनाई', 'वो', 'कंपनियां', 'उत्तर', 'कोरिया', \"खेवनहार'आग\", 'घी', 'डाल', 'अमरीका-दक्षिण', 'कोरिया']\n",
            "--------------------------------------------------------------------------------\n",
            "['international|इससे', 'यूक्रेन', 'के', 'राष्ट्रपति', 'पेट्रो', 'पोरोशेंको', 'अलगाववादियों', 'लड़ने', 'के', 'सेना', 'पर्याप्त', 'उपकरणों', 'लैस', 'के', 'तीन', 'अरब', 'रूपए', 'ख़र्च', 'घोषणा', 'घटना', 'यूक्रेन', 'के', 'स्वतंत्रता', 'दिवस', 'दूसरी', 'ओर', 'यूक्रेन', 'सेना', 'नौसेना', 'राजधानी', 'किएफ़', 'परेड', 'के', 'करतब', 'दिखाए', 'के', 'पहली', 'बार', 'यूक्रेन', 'सेना', 'परेड', 'यूक्रेन', 'के', 'रूस', 'समर्थक', 'पूर्व', 'राष्ट्रपति', 'विक्टर', 'यानुकोविच', 'करवा', 'हाल', 'के', 'महीनों', 'सरकार', 'अलगाववादियों', 'के', 'जारी', 'लड़ाई', 'अधिक', 'लोग', 'मारे', 'चुके', 'पूर्वी', 'यूक्रेन', 'अस्थिरता', 'के', 'कारण', 'लगभग', 'अधिक', 'लोग', 'घर', 'छोड़', 'चुके', 'हिंसा', 'दोनेत्सक', 'लुहांस्क', 'क्षेत्रों', 'यूक्रेन', 'अलग', 'घोषणा', 'के', 'मार्च', 'रूस', 'मार्च', 'क्राइमिया', 'इलाके', 'कब्ज़ा', 'लेने', 'के', 'कारण', 'रविवार', 'दोनेत्सक', 'के', 'मध्य', 'अलगाववादी', 'सेना', 'यूक्रेन', 'के', 'सैनिकों', 'मार्च', 'करवाया', 'हाथ', 'बंधे', 'समाचार', 'एजेंसी', 'रॉयटर', 'के', 'मुताबिक', 'सड़कों', 'के', 'किनारे', 'स्थानीय', 'खड़े', 'लोग', 'अस्त-व्यस्त', 'दिख', 'बंधक', 'सैनिकों', 'टिप्पणियाँ', 'लोगों', 'बोतल', 'फेंकीं', 'संकट', 'शुरू', 'दोनेत्सक', 'लड़ाई', 'सबसे', 'भारी', 'केंद्र', 'यूक्रेन', 'के', 'रक्षा', 'मंत्रालय', 'बंधक', 'बनाए', 'यूक्रेन', 'के', 'सैनिकों', 'परेड', 'करवाए', 'निंदा']\n",
            "--------------------------------------------------------------------------------\n",
            "['international|इसे', 'मीडिया', 'शार्प', 'सोर्ड', 'हाल', 'के', 'वर्षों', 'चीन', 'स्टेल्थ', 'लड़ाकू', 'विमानों', 'विकास', 'जे-', 'जे-', 'लड़ाकू', 'विमान', 'शामिल', 'पिछले', 'सितंबर', 'चीन', 'के', 'मानवरहित', 'विमान', 'पूर्वी', 'चीन', 'सागर', 'मौजूद', 'विवादास्पद', 'द्वीपों', 'के', 'नज़दीक', 'उड़ान', 'भरी', 'इससे', 'जापान', 'चीन', 'के', 'तनाव', 'पैदा', 'घटना', 'के', 'जापान', 'वायु', 'सीमा', 'आने', 'मानवरहित', 'ड्रोन', 'मार', 'गिराएगा', 'जवाब', 'चीन', 'के', 'रक्षा', 'मंत्रालय', 'चीनी', 'विमान', 'मार', 'गिराने', 'कोशिश', 'युद्ध', 'के', 'मानी', 'जाएगी', 'सरकारी', 'अख़बार', 'चायना', 'डेली', 'शुक्रवार', 'सफल', 'उड़ान', 'साबित', 'देश', 'पश्चिमी', 'राष्ट्रों', 'चीन', 'हवाई', 'युद्ध', 'क्षमता', 'ग़ैरबराबरी', 'काफ़ी', 'हॉन्गकॉन्ग', 'के', 'समाचारपत्र', 'साउथ', 'चायना', 'मॉर्निंग', 'पोस्ट', 'ड्रोन', 'सफल', 'उड़ान', 'चीन', 'तकनीक', 'हासिल', 'वाला', 'दुनिया', 'चौथा', 'देश', 'तकनीक', 'ब्रिटेन', 'फ्रांस', 'अमेरिका', 'के', 'पास', 'बीजिंग', 'बीबीसी', 'संवाददाता', 'मार्टिन', 'पेसेंस', 'परीक्षण', 'उड़ान', 'चीन', 'सैन्य', 'क्षमता', 'के', 'विकास', 'के', 'रूप', 'जाएगा', 'परीक्षण', 'वक़्त', 'चीन', 'सैन्य', 'क्षमता', 'बढ़ाने', 'के', 'सैन्य', 'बजट', 'बढ़ाता', 'इससे', 'पड़ोसी', 'देशों', 'चिंता', 'बढ़', 'बीबीसी', 'हिंदी', 'एंड्रॉयड', 'मोबाइल', 'ऐप', 'डाउनलोड', 'के', 'क्लिक', 'ख़बरें', 'पढ़ने', 'राय', 'देने', 'के', 'हमारे', 'फ़ेसबुक', 'पन्ने', 'आ', 'ट्विटर', 'फ़ॉलो']\n",
            "--------------------------------------------------------------------------------\n",
            "['india|बिट्टी', 'मोहंती', 'जर्मन', 'महिला', 'के', 'बलात्कार', 'के', 'आरोप', 'सात', 'साल', 'सज़ा', 'सुनाई', 'परोल', 'रिहा', 'फरार', 'समाचार', 'एजेंसियों', 'के', 'मुताबिक', 'केरल', 'के', 'कन्नूर', 'ज़िले', 'गिरफ्तार', 'समाचार', 'एजेंसी', 'पीटीआई', 'पुलिस', 'के', 'सूत्रों', 'के', 'हवाले', 'बताया', 'बिट्टी', 'वहां', 'नाम', 'बदल', 'बैंक', 'काम', 'बैंक', 'दिए', 'कागज़ों', 'के', 'मुताबिक', 'बिट्टी', 'आंध्र', 'प्रदेश', 'पता', 'बैंक', 'गुमनाम', 'खत', 'मिला', 'लिखा', 'आंध्र', 'प्रदेश', 'बताने', 'वाला', 'कर्मचारी', 'बिट्टी', 'दिल्ली', 'दिसंबर', 'साहूमिक', 'बलात्कार', 'के', 'मामलों', 'चर्चा', 'के', 'वक्त', 'बिट्टी', 'तस्वीर', 'टेलिविज़न', 'चैनलों', 'दिखाई', 'अलवर', 'अदालत', 'बिट्टी', 'बलात्कार', 'के', 'जुर्म', 'सात', 'साल', 'सज़ा', 'सुनाई', 'केरल', 'पुलिस', 'राजस्थान', 'पुलिस', 'मामले', 'सूचना', 'दे', 'दी', 'बताया', 'राजस्थान', 'पुलिस', 'टीम', 'दोपहर', 'केरल', 'पहुंचेगी', 'गिरफ्तार', 'शख्स', 'पहचान', 'करेगी', 'जिसके', 'गिरफ्तारी', 'रिकॉर्ड', 'जाएगा', 'बिट्टी', 'के', 'पिता', 'पूर्व', 'ओड़ीशा', 'डीजीपी', 'बीबी', 'मोहंती', 'कथित', 'तौर', 'बेटे', 'मदद', 'के', 'आरोप', 'बर्खास्त', 'ओड़ीशा', 'सरकार', 'पद', 'नियुक्त', 'साल', 'सरकारी', 'फायदों', 'के', 'पद', 'रिटायर', 'हमेशा', 'बेटा', 'शायद', 'दुनिया', 'नहीं']\n",
            "--------------------------------------------------------------------------------\n",
            "['international|कंपनी', 'फाइव', 'स्पाइस', 'ब्रांड', 'चीन', 'गधे', 'मांस', 'बेच', 'जाँच', 'जानवरों', 'के', 'डीएनए', 'मौजूद', 'बात', 'सामने', 'आई', 'वॉल-मार्ट', 'कहना', 'कंपनी', 'ग्राहकों', 'के', 'पैसे', 'वापस', 'लौटाएगी', 'जिन्होंने', 'खरीदा', 'कंपनी', 'चीन', 'स्थानीय', 'अधिकारियों', 'जाँच', 'सहयोग', 'दे', 'शॉनडांग', 'के', 'फूड', 'एण्ड', 'ड्रग', 'एडमिनिस्ट्रेशन', 'कहना', 'उत्पाद', 'लोमड़ी', 'मांस', 'मिला', 'चीन', 'के', 'हिस्सों', 'गधे', 'मांस', 'लोकप्रिय', 'नाश्ता', 'चीन', 'खाद्य', 'पदार्थों', 'के', 'सुरक्षित', 'मसला', 'काफ़ी', 'संवेदनशील', 'हाल', 'के', 'अनेक', 'वाकयों', 'सप्लाई', 'चेन', 'के', 'उपभोक्ताओं', 'भरोसा', 'केएफ़सी', 'के', 'यम', 'ब्रॉण्ड्स', 'बिक्री', 'प्रभावित', 'चीन', 'चिकन', 'सप्लाई', 'वाली', 'कंपनी', 'के', 'भारी', 'मात्रा', 'एंटीबॉयोटिक', 'इस्तेमाल', 'बात', 'सामने', 'आई', 'विक्रेताओं', 'भरोसा', 'बनाए', 'रखने', 'के', 'वॉल-मार्ट', 'घटना', 'जाँच', 'के', 'टीम', 'बनाई', 'खाद्य', 'सुरक्षा', 'के', 'नियमों', 'कड़ा', 'क़दम', 'उठा', 'वॉल-मार्ट', 'गधे', 'दूषित', 'मांस', 'सप्लाई', 'वाली', 'कंपनी', 'के', 'ख़िलाफ़', 'क़ानूनी', 'कार्रवाई', 'विचार', 'चीन', 'कंपनी', 'कारोबार', 'देखने', 'मुख्य', 'कार्यकारी', 'अधिकारी', 'ग्रेग', 'फोरान', 'हमारे', 'बड़ी', 'सीख', 'हमें', 'सप्लायर', 'मैनेजमेंट', 'निवेश', 'बढ़ाने', 'जरूरत']\n",
            "--------------------------------------------------------------------------------\n",
            "CLUSTER #5\n",
            "india|इसके पार्टी आईपीएल गवर्निंग कौंसिल अपील पार्टी दलील राज्य आए भयानक सूखे देखते आईपीएल मैचों आयोजन नहीं महाराष्ट्र विधान परिषद विपक्ष के नेता विनोद तावड़े के मुताबिक उन्होंने सिलसिले आईपीएल कमिश्नर राजीव शुक्ला चिट्ठी लिखी तावड़े ओर महाराष्ट्र सदी के सबसे भयानक सूखे गुज़र दूसरी तरफ आईपीएल कै मैचों के हज़ारों लीटर पानी मैदान पिचों के रख रखाव के इस्तेमाल जाएगा ठीक बात नहीं महाराष्ट्र आईपीएल के मैच खेले जाएंगे आठ मैच मुंबई के वानखेड़े स्टेडियम आठ पुणे के सुब्रत राय सहारा स्टेडियम खेले जाएंगे इससे राज ठाकरे नवनिर्माण सेना शिवसेना वजह राज्य आईपीएल मैचों के आयोजन विरोध जता चुकी कैसा होगा उद्घाटनशिवसेना आईपीएल टीमों के मालिकों अपील सूखे प्रभावित लोगों के करोड़ रुपए राहत इंतज़ाम करे पार्टी के प्रवक्ता संजय राउत नहीं राज्य आईपीएल कै मैच नहीं दिए जाएंगे प्रेस कॉन्फ्रेंस के राज ठाकरे शरद पवार जिनके दिमाग उपज आईपीएल पूछना चाहूंगा राज्य आए भयावह हालातों आईपीएल मैचों आयोजन उचित शरद पवार के भतीजे अजित पवार महाराष्ट्र के उपमुख्यमंत्री विपक्षी पार्टियों मामले आश्वस्त राज्य मैचों के आयोजन के वक्त विपक्ष चिंताओं ध्यान रखा जाएगा आईपीएल छठा संस्करण तीन अप्रैल मई चलेगा\n",
            "--------------------------------------------------------------------------------\n",
            "['sport|कपिल', 'सिद्धू', 'संजय', 'मांजरेकर', 'खिलाड़ियों', 'सचिन', 'नौजवान', 'खिलाड़ी', 'के', 'तौर', 'शामिल', 'सचिन', 'इतनी', 'खास', 'तवज्जो', 'नहीं', 'दी', 'सबको', 'बस', 'इतना', 'पता', 'सचिन', 'भारत', 'घरेलू', 'श्रृंखला', 'खेलकर', 'आए', 'सुनील', 'गावस्कर', 'कह', 'चुके', 'आने', 'सचिन', 'क्रिकेट', 'दुनिया', 'राज', 'करेंगे', 'सचिन', 'आए', 'पाकिस्तान', 'टीम', 'इमरान', 'ख़ान', 'वसीम', 'अकरम', 'वकार', 'यूनुस', 'अब्दुल', 'क़ादिर', 'गजब', 'के', 'गेंदबाज़', 'सचिन', 'साक्षात्कार', 'उन्होंने', 'पाकिस्तान', 'दौरे', 'चार', 'गेंदबाजों', 'झेला', 'उन्होंने', 'क़ादिर', 'गेंद', 'छक्के', 'जड़े', 'सचिन', 'टैस्ट', 'क्रिकेट', 'पहली', 'बार', 'वकार', 'यूनुस', 'के', 'हाथों', 'आउट', 'वकार', 'यूनुस', 'माना', 'पारी', 'सचिन', 'चौके', 'जड़े', 'वो', 'क्लासिक', 'याद', 'पारियों', 'सचिन', 'जता', 'वो', 'अंतरराष्ट्रीय', 'क्रिकेट', 'राज', 'करेंगे', 'इत्तेफाक', 'सचिन', 'एकदिवसीय', 'मैचों', 'पहला', 'शतक', 'ऑस्ट्रेलिया', 'के', 'कोलम्बो', 'जड़ा', 'मैच', 'गवाह', 'हूं', 'हालांकि', 'वहां', 'उन्होंने', 'शतक', 'बनाने', 'थोड़ा', 'वक्त', 'लगाया', 'शतक', 'के', 'वो', 'रुके', 'नहीं', 'उन्होंने', 'दुनिया', 'के', 'हर', 'गेंदबाज', 'छकाया', 'सचिन', 'क्रिकेट', 'शर्तों', 'खेला', 'कराची', 'मैच', 'सचिन', 'क़ादिर', 'गेंद', 'छक्के', 'जड़े', 'अलग', 'बात', 'वो', 'आधिकारिक', 'मैच', 'बजाए', 'एक्ज़ीबिशन', 'मैच', 'तब्दील', 'मैदान', 'के', 'कहा-सुनी', 'पता', 'नहीं', 'क़ादिर', 'ज़रूर', 'सोचा', 'होगा', 'वो', 'सचिन', 'आसानी', 'आउट', 'देंगे', 'वो', 'शायद', 'भूल', 'पास', 'गेंद', 'सचिन', 'के', 'पास', 'बल्ला', 'पाकिस्तान', 'के', 'मीडिया', 'सचिन', 'उतनी', 'तरजीह', 'नहीं', 'दी', 'क्योंकि', 'भारतीय', 'टीम', 'सितारे', 'जगमगाते', 'वक़्त', 'पाकिस्तान', 'के', 'अखबारों', 'घोषणा', 'दी', 'सचिन', 'मेहनत', 'मुस्तकबिल', 'रौशन', 'होगा', 'बड़ी', 'हैरानी', 'बात', 'उम्र', 'बच्चे', 'स्कूल', 'बैग', 'चलते', 'उम्र', 'सचिन', 'क्रिकेट', 'किट', 'चलते', 'उन्होंने', 'पलटकर', 'नहीं', 'देखा', 'बीबीसी', 'संवाददाता', 'पंकज', 'प्रियदर्शी', 'बातचीत', 'आधारित']\n",
            "--------------------------------------------------------------------------------\n",
            "['sport|', 'साल', 'के', 'राइडर', 'मार्च', 'क्राइस्टचर्च', 'बार', 'के', 'हमला', 'जिसके', 'कोमा', 'चले', 'राइडर', 'स्वास्थ्य', 'लाभ', 'ले', 'बताया', 'शक्तिवर्द्धक', 'दवाओँ', 'के', 'परीक्षण', 'पॉजिटिव', 'पाया', 'छह', 'महीने', 'के', 'क्रिकेट', 'गतिविधियों', 'प्रतिबंधित', 'राइडर', 'न्यूजीलैंड', 'के', 'टेस्ट', 'वनडे', 'खेले', 'प्रथम', 'श्रेणी', 'ओटागो', 'के', 'वेलिंगटन', 'के', 'ख़िलाफ़', 'खेलेंगे', 'उन्होंने', 'बयान', 'साल', 'के', 'गुजरने', 'के', 'कह', 'मेरे', 'करियर', 'सबसे', 'बुरा', 'दौर', 'गुजर', 'चुका', 'राइडर', 'नजरिए', 'नहीं', 'देखूंगा', 'मुझे', 'जीवन', 'मिला', 'मुझे', 'लगता', 'भाग्यशाली', 'राइडर', 'फरवरी', 'देश', 'के', 'मैच', 'नहीं', 'खेला', 'कीवी', 'टीम', 'वापसी', 'चाहते', 'उन्होंने', 'लक्ष्य', 'न्यूजीलैंड', 'के', 'खेलना', 'सबकुछ', 'ठीकठाक', 'दिसंबर', 'वेस्टइंडीज', 'दौरे', 'के', 'टीम', 'वापसी', 'उम्मीद', 'हूं', 'राइडर', 'वेस्टइंडीज', 'दौरे', 'के', 'मुझे', 'टीम', 'नहीं', 'चुना', 'जनवरी', 'भारत', 'दौरे', 'के', 'जोर', 'लगाउंगा']\n",
            "--------------------------------------------------------------------------------\n",
            "['sport|अंतरराष्ट्रीय', 'क्रिकेट', 'परिषद', 'आईसीसी', 'मंगलवार', 'विश्व', 'कप', 'के', 'कार्यक्रम', 'घोषणा', 'मुताबिक़', 'टीम', 'इंडिया', 'पहला', 'मुक़ाबला', 'फरवरी', 'एडिलेड', 'पाकिस्तान', 'के', 'खेलेगी', 'भारत', 'साल', 'फ़ाइनल', 'श्रीलंका', 'हराकर', 'साल', 'विश्वकप', 'ख़िताब', 'जीता', 'पूल-बी', 'भारत', 'पाकिस्तान', 'के', 'अलावा', 'दक्षिण', 'अफ्रीका', 'वेस्टइंडीज', 'जिम्बाब्वे', 'आयरलैंड', 'क्वालिफायर', 'रखा', 'पूल-ए', 'मेजबानों', 'ऑस्ट्रेलिया', 'न्यूजीलैंड', 'के', 'इंग्लैंड', 'श्रीलंका', 'बांग्लादेश', 'क्वालिफायर', 'टीमें', 'होंगी', 'टूर्नामेंट', 'पहला', 'मैच', 'फरवरी', 'न्यूजीलैंड', 'श्रीलंका', 'के', 'क्राइस्टचर्च', 'खेला', 'जाएगा', 'दिन', 'शाम', 'चार', 'बार', 'के', 'चैंपियन', 'ऑस्ट्रेलिया', 'मुक़ाबला', 'मेलबर्न', 'इंग्लैंड', 'होगा', 'विश्व', 'कप', 'फ़ाइनल', 'मार्च', 'मेलबर्न', 'क्रिकेट', 'ग्राउंड', 'खेला', 'जाएगा', 'भारत', 'फरवरी', 'मेलबर्न', 'दक्षिण', 'अफ्रीका', 'फरवरी', 'पर्थ', 'क्वालिफायर', 'छह', 'मार्च', 'पर्थ', 'वेस्टइंडीज', 'दस', 'मार्च', 'हेमिल्टन', 'आयरलैंड', 'खेलेगा', 'टीम', 'इंडिया', 'अंतिम', 'ग्रुप', 'मैच', 'मार्च', 'ऑकलैंड', 'जिम्बाब्वे', 'के', 'ख़िलाफ', 'खेलेगी', 'भारतीय', 'कप्तान', 'महेन्द्र', 'सिंह', 'धोनी', 'टूर्नामेंट', 'बेसब्री', 'इंतजार', 'उन्होंने', '“', 'लगता', 'आईसीसी', 'विश्व', 'कप', 'जीतना', 'बात', '”', 'धोनी', '“', 'विश्व', 'कप', 'क्रिकेटर', 'के', 'अहम', 'टूर्नामेंट', 'क्योंकि', 'चार', 'साल', 'बार', 'जीतने', 'सफल', 'हमारी', 'कोशिश', 'पास', 'बरकरार', 'रखने', 'होगी', '”', 'पाकिस्तान', 'फरवरी', 'एडिलेड', 'दक्षिण', 'अफ्रीका', 'से-', 'फरवरी', 'मेलबर्न', 'क्वालिफायर', 'से-', 'फरवरी', 'पर्थ', 'वेस्टइंडीज', 'से-', 'छह', 'मार्च', 'पर्थ', 'आयरलैंड', 'से-', 'मार्च', 'हेमिल्टन', 'जिम्बाब्वे', 'से-', 'मार्च', 'ऑकलैंड', 'उन्होंने', '“', 'मुझे', 'टूर्नामेंट', 'बेसब्री', 'इंतजार', 'पूरी', 'उम्मीद', 'अच्छा', 'प्रदर्शन', 'करेंगे', 'हाल', 'आईसीसी', 'चैंपियंस', 'ट्राफी', 'जीत', 'टीम', 'आत्मविश्वास', 'बढ़ा', 'मुझे', 'आशा', 'अनुभव', 'विश्व', 'कप', 'तैयारियों', 'हमारे', 'काम', 'आएगा', '”', 'दिन', 'चलने', 'विश्व', 'कप', 'मैच', 'स्थलों', 'खेले', 'जाएंगे', 'ऑस्ट्रेलिया', 'मैच', 'एडिलेड', 'ब्रिसबेन', 'कैनबरा', 'होबार्ट', 'मेलबर्न', 'पर्थ', 'सिडनी', 'खेले', 'जाएंगे', 'न्यूजीलैंड', 'मैचों', 'मेजबानी', 'मिली', 'ऑकलैंड', 'क्राइस्टचर्च', 'डुनेडिन', 'हेमिल्टन', 'नेपियर', 'नेल्सन', 'वेलिंगटन', 'आयोजित', 'होंगे', 'दिसंबर', 'आईसीसी', 'वनडे', 'रैंकिंग', 'के', 'आधार', 'टीमों', 'ग्रुपों', 'बांटा', 'इनमें', 'आईसीसी', 'के', 'दस', 'पूर्ण', 'सदस्य', 'चार', 'क्वालिफायर', 'शामिल', 'हर', 'पूल', 'शीर्ष', 'चार', 'टीमें', 'क्वार्टरफ़ाइनल', 'पहुंचेंगी', 'हर', 'नॉकआउट', 'मैच', 'के', 'रिज़र्व', 'डे', 'रखा', 'ऑस्ट्रेलिया', 'न्यूजीलैंड', 'के', 'पहली', 'बार', 'विश्व', 'कप', 'मेजबानी', 'मिली', 'टूर्नामेंट', 'के', 'कार्यक्रम', 'वेलिंगटन', 'मेलबर्न', 'घोषणा', 'बीबीसी', 'हिंदी', 'के', 'एंड्रॉएड', 'ऐप', 'के', 'क्लिक', 'हमें', 'फ़ेसबुक', 'ट्विटर', 'फ़ॉलो']\n",
            "--------------------------------------------------------------------------------\n",
            "['sport|अंतरराष्ट्रीय', 'क्रिकेट', 'परिषद', 'यानी', 'आईसीसी', 'सलमान', 'बट', 'साल', 'मोहम्मद', 'आसिफ़', 'सात', 'साल', 'पाबंदी', 'लगाई', 'वर्ष', 'इंग्लैंड', 'के', 'ख़िलाफ़', 'लॉर्ड्स', 'टेस्ट', 'मैच', 'के', 'पाकिस्तानी', 'खिलाड़ियों', 'जान-बूझकर', 'नो', 'बॉल', 'फेंकने', 'आरोप', 'लगा', 'मामले', 'जाँच', 'आरोप', 'सही', 'साबित', 'सलमान', 'बट', 'के', 'वकीलों', 'खेल', 'संबंधित', 'मामलों', 'मध्यस्थता', 'वाली', 'अदालत', 'सीएएस', 'के', 'फ़ैसले', 'निराश', 'उन्होंने', 'हार', 'नहीं', 'मानी', 'अगस्त', 'के', 'लॉर्ड्स', 'टेस्ट', 'सलमान', 'बट', 'पाकिस्तानी', 'क्रिकेट', 'टीम', 'के', 'कप्तान', 'स्पॉट', 'फ़िक्सिंग', 'के', 'मामले', 'बट', 'मोहम्मद', 'आसिफ़', 'के', 'अलावा', 'मोहम्मद', 'आमिर', 'दोषी', 'ठहराया', 'मोहम्मद', 'आमिर', 'साल', 'के', 'पाँच', 'साल', 'पाबंदी', 'लगाई', 'छह', 'महीने', 'जेल', 'सज़ा', 'सुनाई', 'स्पॉट', 'फिक्सिंग', 'मामला', 'सामने', 'आया', 'न्यूज', 'ऑफ', 'द', 'वर्ल्ड', 'के', 'अंडरकवर', 'पत्रकार', 'स्पोर्ट्स', 'एजेंट', 'मजहर', 'मजीद', 'संपर्क', 'मजीद', 'भरोसा', 'दिलाया', 'आसिफ', 'आमिर', 'खास', 'तीन', 'नो', 'बॉल', 'फेंकेंगे', 'मजहर', 'मजीद', 'भूमिका', 'के', 'जेल', 'उन्होंने', 'अंडरकवर', 'पत्रकार', 'बताया', 'पिछले', 'साल', 'मैच', 'फिक्स', 'संपर्क', 'पाकिस्तान', 'के', 'सात', 'खिलाड़ी', 'अदालत', 'सुनवाई', 'के', 'सलमान', 'बट', 'ढाई', 'साल', 'मोहम्मद', 'आसिफ', 'साल', 'मोहम्मद', 'आमिर', 'छह', 'महीने', 'सजा', 'सुनाई', 'मोहम्मद', 'आमिर', 'तीन', 'महीने', 'पिछले', 'साल', 'फरवरी', 'रिहा', 'मोहम्मद', 'आसिफ़', 'छह', 'महीने', 'पिछले', 'साल', 'मई', 'रिहा', 'सलमान', 'बट', 'जून', 'जेल', 'छूट']\n",
            "--------------------------------------------------------------------------------\n",
            "['india|आईपीएल', 'स्पॉट', 'फ़िक्सिंग', 'के', 'आरोप', 'गिरफ़्तार', 'बॉलीवुड', 'जुड़े', 'व्यक्ति', 'सटोरिए', 'के', 'बयान', 'के', 'आधार', 'गिरफ़्तार', 'पुलिस', 'कहना', 'विंदू', 'ख़ुद', 'सट्टा', 'लगाते', 'मीडिया', 'आई', 'तस्वीरों', 'भारतीय', 'क्रिकेट', 'टीम', 'के', 'कप्तान', 'आईपीएल', 'चेन्नई', 'सुपर', 'किंग्स', 'कप्तानी', 'महेंद्र', 'सिंह', 'धोनी', 'पत्नी', 'साक्षी', 'के', 'स्टेडियम', 'बैठे', 'नजर', 'आए', 'अलावा', 'आईपीएल', 'के', 'मैचों', 'के', 'वाली', 'पार्टियों', 'देखा', 'विंदू', 'फ़िल्मी', 'करियर', 'शुरुआत', 'आई', 'फ़िल्म', '‘', 'करन', '’', 'उन्होंने', 'पिता', 'पंजाबी', 'फ़िल्म', 'काम', 'साल', 'मार्च', 'आई', 'फिल्म', '‘', 'हिम्मतवाला', '’', 'विंदू', 'दारा', 'सिंह', 'नज़र', 'आए', 'पिछले', 'साल', 'आई', 'फ़िल्म', '‘', 'सन', 'ऑफ', 'सरदार', '’', 'उन्होंने', 'टीटू', 'नाम', 'किरदार', 'निभाया', 'अलावा', 'उन्होंने', 'हाउसफुल', 'पार्ट', 'टू', 'हाउसफुल', 'पार्टनर', 'गर्व', 'जैसी', 'फ़िल्मों', 'काम', 'टीवी', 'चैनल', 'कलर्स', 'प्रसारित', 'रिएलिटी', 'शो', 'बिग', 'बॉस', 'के', 'तीसरे', 'संस्करण', 'के', 'विजेता', 'विंदू', 'टीवी', 'धारावाहिकों', 'रिएलिटी', 'शो', 'काम', 'टीवी', 'सिरीयल', \"'जय\", 'श्री', 'हनुमान', 'विंदू', 'दारा', 'सिंह', 'पिता', 'हनुमान', 'किरदार', 'निभाया', 'पेप्सी', 'के', 'विज्ञापन', 'विंदू', 'अभिनेता', 'रणबीर', 'कपूर', 'के', 'नजर', 'आए', 'पहली', 'शादी', 'के', 'दशक', 'मशहूर', 'अभिनेत्री', 'फ़रहा', 'नाज़', 'के', 'शादी', 'दिन', 'नहीं', 'चल', 'सकी', 'अलग', 'फ़ैसला', 'के', 'बच्चे']\n",
            "--------------------------------------------------------------------------------\n",
            "['sport|', 'सुशील', 'कुमार', 'फाइनल', 'मिली', 'हार', 'निराश', 'उन्होंने', 'बीबीसी', 'संवाददाता', 'पंकज', 'प्रियदर्शी', 'बातचीत', 'थोड़ा', 'निराश', 'क्योंकि', 'देश', 'स्वर्ण', 'पदक', 'उम्मीद', 'मैने', 'रजत', 'जीता', 'ख़ुशी', 'नहीं', 'जीत', 'श्रेय', 'मेरे', 'माता', 'पिता', 'कोच', 'सतपाल', 'सुशील', 'के', 'ससुर', 'पत्नी', 'तबीयत', 'ख़राब', 'के', 'बारे', 'पूछे', 'उन्होंने', 'खेल', 'सब', 'रहता', 'मैंने', 'प्रयास', 'पदक', 'जीतूं', 'रविवार', 'फाइनल', 'मुक़ाबले', 'जापानी', 'प्रतिदंव्दी', 'हारना', 'पड़ा', 'किलोग्राम', 'फ्री', 'स्टाईल', 'मुकाबले', 'जापान', 'के', 'योनेमित्सू', 'तातसुहीरो', 'हरा', 'सुशील', 'के', 'रजत', 'पदक', 'राह', 'जानने', 'के', 'क्लिक', 'फाइनल', 'मैच', 'के', 'सुशील', 'जीत', 'बेसब्री', 'इंतज़ार', 'प्रशंसकों', 'सन्नाटा', 'सा', 'पसर', 'पक्ष', 'के', 'लोग', 'वहां', 'खुशी', 'मनाते', 'दिखे', 'सुशील', 'चुपचाप', 'मंच', 'उतर', 'चले', 'भारतीय', 'कुश्ती', 'संघ', 'के', 'महासचिव', 'टीम', 'लीडर', 'राज', 'सिंह', 'सुशील', 'कुमार', 'मैच', 'पहल', 'डिहाइड्रेशन', 'वो', 'स्वर्ण', 'पदक', 'जीत', 'नहीं', 'पाए', 'राज', 'सिंह', 'के', 'अनुसार', 'सुशील', 'तबीयत', 'ख़राब', 'उधर', 'सुशील', 'के', 'घर', 'बापरोला', 'लोग', 'पटाखे', 'फोड़', 'खुशियां', 'मना', 'सुशील', 'के', 'पिता', 'दीवान', 'सिंह', 'भाग्यशाली', 'पिता', 'नहीं', 'सुशील', 'हालांकि', 'राउंड', 'मुकाबला', 'कोशिश', 'शायद', 'देर', 'चुकी', 'फाइनल', 'राहहालांकि', 'सेमीफाइनल', 'के', 'मैच', 'सुशील', 'प्रदर्शन', 'बेहतरीन', 'वो', 'प्रतिद्वंद्वी', 'हावी', 'सेमी', 'फाइनल', 'के', 'मैच', 'के', 'दृश्य', 'बताते', 'स्टेडियम', 'मौजूद', 'बीबीसी', 'संवाददाता', 'पंकज', 'प्रियदर्शी', 'सुशील', 'जीत', 'के', 'स्टेडियम', 'माहौल', 'देखने', 'वाला', 'सुशील', 'रिंग', 'उतरकर', 'सीधे', 'गुरु', 'ससुर', 'सतपाल', 'सिंह', 'के', 'पास', 'पहुंचे', 'फाइनल', 'पहुंचने', 'के', 'मीडिया', 'बात', 'सुशील', 'वो', 'जीत', 'के', 'मां-बाप', 'गुरुओं', 'शुक्रिया', 'अदा', 'फाइनल', 'रजत', 'पदक', 'तय', 'के', 'सुशील', 'कुमार', 'आँख', 'आ', 'आंसुओं', 'रोक', 'नहीं', 'पाए', 'मैच', 'सुशील', 'जीत', 'जीते', 'मैचों', 'के', 'बयान', 'देते', 'गुरु', 'सतपाल', 'कहना', 'आने', 'भारतीय', 'पहलवानों', 'के', 'वो', 'शानदार', 'मिसाल', 'होंगे', 'सतपाल', 'साल', 'के', 'दिल्ली', 'एशियाड', 'स्वर्ण', 'पदक', 'जीता', 'के', 'तेहरान', 'एशियाड', 'कांस्य', 'पदक', 'जीता', 'महज़', 'साल', 'उम्र', 'कुश्ती', 'शुरू', 'बीजिंग', 'ओलंपिक', 'कांस्य', 'पदक', 'हासिल', 'रविवार', 'उन्होंने', 'मैच', 'बीजिंग', 'ओलंपिक', 'के', 'स्वर्ण', 'पदक', 'विजेता', 'तुर्की', 'के', 'रमजान', 'शाहीन', 'पछाड़ा', 'मैच', 'उन्होंने', 'उज्बेकिस्तान', 'के', 'इख्तियोर', 'नवरुज़ोव', 'पटखनी', 'दी', 'रजत', 'पदक', 'सुनिश्चित', 'के', 'ओलंपिक', 'के', 'उद्घाटन', 'भारत', 'झंडा', 'ले', 'चलने', 'पहलवान', 'सुशील', 'कुमार', 'कज़ाकिस्तान', 'ए', 'तानातारोव', 'धूल', 'चटाई', 'सुशील', 'बताया', 'ओलंपिक', 'के', 'उन्होंने', 'जबरदस्त', 'ट्रेनिंग', 'गुरू', 'सतपाल', 'सुशील', 'ट्रेनिंग', 'कार्यक्रम', 'तैयार', 'ट्रेनिंग', 'सत्र', 'बांटा', 'सुशील', 'ओलंपिक', 'के', 'उनपर', 'दबाव', 'नहीं', 'क्योंकि', 'दबाव', 'रह', 'अच्छा', 'नहीं', 'पाएंगे', 'कोशिश', 'सौ', 'फीसदी', 'प्रदर्शन', 'रहेगी', 'सुशील', 'हर', 'मुकाबले', 'के', 'कोच', 'ट्रेनिंग', 'बताते', 'प्रतिद्वंद्वी', 'पहलवान', 'के', 'कैसी', 'तैयारी', 'करनी', 'वीडियो', 'दिखा', 'कमजोरियों', 'मजबूती', 'के', 'बारे', 'बता', 'रणनीति', 'तैयार']\n",
            "--------------------------------------------------------------------------------\n",
            "CLUSTER #6\n",
            "entertainment| 'औरंगज़ेब रिव्यू इश्क़ प्रीति ज़िंटा मां फ्रेंच पिता भारतीय वो मां इसाबेल अदजानी के पेरिस माता-पिता तलाक चुका इश्क हंसती खेलती मस्तमौला लड़की शादी नफ़रत बार यात्रा के मुलाक़ात आकाश बॉम्बे टॉकीज़ रिव्यू आकाश हिंदुस्तानी लड़का वो लंदन रहता शादी नफ़रत इश्क आकाश दोस्ती वो पेरिस के ख़ासा टाइम बिताने लगते आकाश इश्क़ के शारीरिक संबंध बनाना चाहता इश्क के भारतीय संस्कार इजाज़त नहीं देते प्रीति ज़िंटा के बचपन यादें हालांकि मन मन पसंद लगते आकाश वापस जाना पड़ता किस्मत के करीब ला खड़ा करती करीबी दोस्त शादी के सिलसिले आकाश पेरिस आता इश्क़ मिलता के क़रीब आते आखिरकार शारीरिक संबंध बन शाहरुख खान प्रीति ज़िंटा आकाश लगता वो इश्क़ बेहद प्यार लगा वो शादी प्रस्ताव देता मां-बाप शादी के बुरे परिणाम इश्क विवाह बंधन सख़्त एतराज़ वो आकाश प्रस्ताव ठुकरा देती आकाश इश्क़ शादी पाती इश्क़ पिता मिल पाती कहानी प्रीति ज़िंटा प्रेम सोनी लिखी कहानी सहायक लेखक कौसर मुनीर ख़ालिद आज़मी राज वर्मा धीमी गति बढ़ती दर्शकों के धैर्य परीक्षा सी लेती फिल्म के मुख्य किरदारों के दोस्ती गर्माहट नज़र नहीं आती केमेस्ट्री ठंडी नज़र आती गो गोवा गॉन रिव्यू आकाश इश्क़ शारीरिक संबंध बनाने इच्छा व्यक्त दर्शकों लगता नहीं इश्क़ प्यार निर्देशन बड़ी चूक के के कॉमिक सीन्स सिर्फ संवादों वजह कॉमिक लगते ख़ास दर्शक पसंद आएंगे इश्क आकाश के किरदार वास्तविक नहीं लगते वजह पूरी फिल्म के दर्शक उनसे जुड़ नहीं पाते दर्शकों बात फर्क नहीं पड़ेगा आखिर मिल पाएंगे नहीं मज़बूत पक्षकमज़ोर पक्षरेटिंग /फिल्म कहानी स्क्रीनप्ले सुस्त रोमांस दम नहीं नाम कॉमेडी ड्रामा इमोशन दर्शकों के दिल नहीं पहुंच पाते प्रीति ज़िंटा प्रेम सोनी के लिखे संवाद अच्छे सिर्फ खास दर्शक पसंद आएंगे प्रीति ज़िंटा अच्छा अभिनय उम्र अभिनेत्री रोल ज़्यादा फिट रहमान मल्लिक प्रीति ज़िंटा के सामने नहीं जंचते प्रीति मां के रोल इसाबेल अच्छा अभिनय चंकी पांडे छोटे रोल अच्छे शेखर कपूर के हिस्से फिल्म सिर्फ सीन आया उन्होंने प्रीति के पिता रोल निभाया प्रेम राज निर्देशन ठीक-ठाक फिल्म दर्शक आकृष्ट नहीं पाएगी साजिद-वाजिद संगीत साधारण गाने खास हिट नहीं पाए फिल्म सलमान खान गाने नज़र आए गाने कोरियोग्राफी मुदस्सर खान अच्छी हां फिल्म कैमरा वर्क ज़रूर अच्छा मिलाकर ‘ इश्क पेरिस ’ बेदम लव स्टोरी बॉक्स ऑफिस कमाल नहीं पाएगी\n",
            "--------------------------------------------------------------------------------\n",
            "['entertainment|हर', 'कलाकार', 'फ़ैंस', 'के', 'दीवानगी', 'चाह', 'रखता', 'हिंदी', 'फ़िल्म', 'के', 'सितारों', 'फ़ैन', 'रूबरू', 'पड़', 'लक्ष्मण', 'रेखा', 'पार', 'पसंदीदा', 'कलाकारों', 'बदतमीज़ी', 'बैठते', 'हाल', 'अवॉर्ड', 'शो', 'शिरकत', 'गईं', 'विद्या', 'बालन', 'कोलकाता', 'एयरपोर्ट', 'पुरुष', 'फ़ैन', 'सेल्फी', 'आग्रह', 'सेल्फी', 'के', 'दौर', 'फैन', 'बिना', 'निराश', 'विद्या', 'सेल्फी', 'के', 'हामी', 'भरी', 'दी', 'फ़ैन', 'सीमा', 'लांघते', 'विद्या', 'रज़ामंदी', 'के', 'बग़ैर', 'उनपर', 'हाथ', 'रखा', 'विद्या', 'अटपटा', 'लगा', \"'रईस\", 'सुलतान', 'के', 'फैन', 'सिंधु', 'फैन', 'बन', 'रजनीकांतविद्या', 'फ़ैन', 'बार', 'के', 'टोका', 'फ़ैन', 'फ़र्क़', 'नहीं', 'पड़ा', 'हरकत', 'चिढ़कर', 'विद्या', 'बिना', 'सेल्फी', 'खिंचवाए', 'चली', 'प्रवक्ता', 'रेनड्रॉप', 'मीडिया', 'घटना', 'पुष्टि', 'विद्या', 'बयान', 'घटना', 'टिप्पणी', 'अभिनेता', 'पब्लिक', 'पर्सनैलिटी', 'पब्लिक', 'प्रॉपर्टी', 'नहीं', 'पहली', 'बार', 'नहीं', 'फ़ैन', 'सीमा', 'लांघते', 'फ़िल्मी', 'हस्ती', 'ग़लत', 'तरीक़े', 'छुआ', 'कारण', 'फ़िल्मी', 'हस्ती', 'अक्सर', 'बड़ी', 'सुरक्षा', 'टोली', 'के', 'सर्वाजनिक', 'स्थलों', 'दिखती', 'साल', 'फ़िल्मी', 'हस्तियों', 'सुरक्षा', 'ज़िम्मा', 'उठा', 'महेंद्र', 'सिंह', 'शिरसत', 'फ़ैंस', 'बार', 'हदें', 'पार', 'देते', 'सुरक्षाकर्मियों', 'भीड़', 'के', 'सतर्क', 'रहना', 'पड़ता', 'स्टार', 'के', 'सुरक्षा', 'घेरा', 'बनाना', 'पड़ता', 'फ़िल्म', 'इंडस्ट्री', 'छोड़ना', 'चाहती', 'थीं', 'विद्या', 'बालन', 'गुत्थी', 'के', 'पिटा', 'कपिल', 'शर्मा', 'शो', 'बीबीसी', 'ख़ास', 'बातचीत', 'बीते', 'दौर', 'अभिनेत्री', 'डिंपल', 'कपाड़िया', 'फ़ैंस', 'झड़प', 'ज़िक्र', 'बॉलीवुड', 'के', 'सुपरस्टार', 'राजेश', 'खन्ना', 'शादी', 'के', 'डिंपल', 'कपाड़िया', 'बार', 'फ़िल्म', 'देखने', 'सहेलियों', 'के', 'गईं', 'तीन', 'फ़िल्में', 'ख़त्म', 'हुईं', 'थीं', 'देखते', 'देखते', 'भीड़', 'जमा', 'लोगों', 'घेर', 'वहीँ', 'लड़कों', 'छेड़ना', 'शुरू', 'ग़ुस्से', 'लाल-पिली', 'डिंपल', 'कपाड़िया', 'लड़के', 'कॉलर', 'पकड़ा', 'हिंदी', 'गालियां', 'देनी', 'शुरू', 'घर', 'आकर', 'उन्होंने', 'क़िस्सा', 'काका', 'यानी', 'राजेश', 'खन्ना', 'सुनाया', 'उन्होंने', 'सिर्फ़', 'गालियाँ', 'देना', 'अंग्रेज़ी', 'देती', 'पब्लिसिस्ट', 'रुकेश', 'कुमार', 'हांडा', 'मानना', 'सेल्फ़ी', 'मोबाइल', 'के', 'आ', 'फोटो', 'चाहत', 'लोग', 'सीमाएं', 'लांघते', 'बार', 'फ़िल्मी', 'सितारें', 'हदें', 'पार', 'फैंस', 'उकसाते', 'कारण', 'फ़ैंस', 'ऐसी', 'हरकतें', 'बैठते', 'बॉलीवुड', 'के', 'रोमांस', 'किंग', 'शाहरुख़', 'ख़ान', 'के', 'फ़ैन', 'दुनियाभर', 'फैन', 'अक्सर', 'घुल', 'मिलकर', 'फ़ोटो', 'खिंचवाने', 'शाहरुख़', 'बार', 'फ़ैंस', 'सामना', 'पड़ता', 'सीमा', 'लाँघ', 'हाल', 'इम्तियाज़', 'अली', 'फ़िल्म', 'शूटिंग', 'तुर्की', 'शाहरुख़', 'खान', 'के', 'फ़ैन', 'हाथ', 'पकड़कर', 'खिंचा', 'ग़ुस्साए', 'सुपरस्टार', 'फ़ैंन', 'धक्का', 'दे', 'बदतमीज़ी', 'के', 'शर्मिंदा', 'तुर्की', 'फ़ैन', 'यूट्यूब', 'माफ़ी', 'वीडियो', 'डाला', 'वीडियो', 'पूरी', 'घटना', 'दर्शाते', 'अंत', 'उन्होंने', 'शाहरुख़', 'माफ़ी', 'मांगी', 'रेहाना', 'सुल्तान', 'सेक्स', 'कहानी', 'भर', 'थीं', 'हीरो', 'विलेन', 'बनने', 'सफर', 'चंकी', 'पांडे', 'कावहीं', 'बॉलीवुड', 'दबंग', 'सलमान', 'ख़ान', 'के', 'दशक', 'बॉडीगार्ड', 'शेरा', 'सलमान', 'भाई', 'के', 'फ़ैन', 'दीवानगी', 'शिखर', 'सार्वजनिक', 'जगहों', 'कड़ी', 'सुरक्षा', 'रखनी', 'पड़ती', 'महिला', 'पुरुष', 'हर', 'के', 'फ़ैंस', 'सलमान', 'भाई', 'अक्सर', 'टूट', 'पड़ते', 'भाई', 'करो', 'ध्यान', 'रखो', 'फ़ैन', 'तकलीफ़', 'नहीं', 'होनी', 'अमिताभ', 'बच्चन', 'शाहरुख़', 'खान', 'आमिर', 'ख़ान', 'कलाकारों', 'सुरक्षा', 'मुहैया', 'करवा', 'चुके', 'महेंद्र', 'फ़िल्म', 'प्रमोशन', 'के', 'स्टार', 'छोटे', 'शहर', 'बार', 'फ़ैन', 'बाइक', 'बैठकर', 'स्टार', 'पीछा', 'इनको', 'समझाते', 'पीछा', 'ना', 'वो', 'बिना', 'बात', 'माने', 'पीछा', 'रहते', 'बार', 'सड़क', 'दुर्घटना', 'दोष', 'अभिनेता', 'बेगम', 'जान', 'गालियां', 'रोल', 'के', \"तड़का'गर्भवती\", 'एक्टिंग', 'सीट', 'लेती', 'थीं', 'विद्या', 'बालनएक', 'दशक', 'अधिक', 'बतौर', 'फ़िल्म', 'पब्लिसिस्ट', 'काम', 'रुकेश', 'कुमार', 'हांडा', 'जॉन', 'अब्राहम', 'के', 'घटना', 'ज़िक्र', 'उन्होंने', 'बताया', 'फोर्स', 'फ़िल्म', 'के', 'प्रमोशन', 'जॉन', 'इंदौर', 'फ़ैन', 'जॉन', 'आकर्षित', 'के', 'बाइक', 'दौड़ाई', 'गिर', 'जॉन', 'भागकर', 'पास', 'मरहमपट्टी', 'लगाई', 'चांटा', 'लगाया', 'फ़ैन', 'माँ', 'फ़ोन', 'शिकायत', 'बार', 'मुम्बई', 'के', 'मॉल', 'फ़िल्म', 'प्रमोशन', 'के', 'जॉन', 'गाड़ी', 'के', 'पास', 'फ़ैंस', 'झुंड', 'तरफ़', 'दौड़ा', 'फ़ैन', 'जॉन', 'ध्यान', 'ओर', 'आकर्षित', 'के', 'हाथ', 'खरोंचा', 'सेल्फी', 'के', 'जॉन', 'टीशर्ट', 'खींचकर', 'फाड़', 'जॉन', 'पीछे', 'पलटकर', 'फ़ैन', 'ग़ुस्सा', 'ज़ाहिर', 'चांटा', 'लगाया', 'चले', 'बेसिर-पैर', 'वो', 'गाने', 'सुपरहिटपिक्चर', 'के', 'करेंगे', 'फ़िल्मी', 'हस्तियों', 'करीब', 'देखने', 'वयस्क', 'फोटोग्राफर', 'प्रदीप', 'बेडेकर', 'कहना', 'पुराने', 'ज़माने', 'दिलीप', 'साहब', 'देव', 'साहब', 'घूमते', 'फैंस', 'सुरक्षा', 'ज़रूरत', 'नहीं', 'पड़ी', 'प्रदीप', 'बेडेकर', 'के', 'मुताबिक़', 'फ़िल्मी', 'हस्तियों', 'सिक्यॉरिटी', 'ट्रेंड', 'महानायक', 'अमिताभ', 'बच्चन', 'शुरू', 'स्टेटस', 'सिंबल', 'बन', 'सलमान', 'शाहरुख़', 'सिक्यॉरिटी', 'नहीं', 'रखते', 'वो', 'डिजिटल', 'दुनिया', 'कारण', 'फ़ैंस', 'ओर', 'सेल्फ़ी', 'फ़ोटो', 'स्टार', 'तक़लीफ़ें', 'बढ़ी', 'अधिकतर', 'फ़ैंस', 'सीमा', 'रहते', 'अक्सर', 'ग्लैमरस', 'हीरोइन', 'फ़ैन्स', 'भीड़', 'ख़तरा', 'भीड़', 'लोग', 'ग़लत', 'तरीके', 'छूते', 'ओम', 'पुरी', 'बाबा', 'जी', 'ठुल्लू', 'जय', 'गंगाजल', 'के', 'पत्रकार', 'सम्मलेन', 'मीडिया', 'रूबरू', 'प्रियंका', 'चोपड़ा', 'स्वीकार', 'उन्होंने', 'पुरुष', 'फ़ैन', 'बदतमीज़ी', 'के', 'थप्पड़', 'मारा', 'फ़िल्म', 'अंजना', 'अंजनी', 'के', 'शूटिंग', 'पुरुष', 'फ़ैन', 'पीछे', 'आकर', 'हाथ', 'पकड़कर', 'फोटो', 'खिंचाने', 'आग्रह', 'घबराई', 'प्रियंका', 'फ़ैन', 'बिना', 'सोचे', 'समझे', 'थप्पड़', 'लगा', 'वो', 'ज़मीन', 'गिर', 'प्रियंका', 'इतनी', 'घबरा', 'थीं', 'वो', 'भाग', 'खड़ी', 'हालांकि', 'खेद', 'फैन', 'थप्पड़', 'नहीं', 'मरना', 'बॉलीवुड', 'उठाई', 'औरतों', \"आवाज़'आई\", 'लव', 'यू', 'ब्रेकअप', 'बॉलीवुड']\n",
            "--------------------------------------------------------------------------------\n",
            "['entertainment|वो', 'कलाकार', 'बिरादरी', 'के', 'लोग', 'दरअसल', 'भांड', 'नाचते', 'गाते', 'लोगों', 'मनोरंजन', 'हंसाते', 'रुलाते', 'घर', 'चले', 'अनिल', 'मीडिया', 'बात', 'आने', 'वाली', 'फिल्म', 'शूटआउट', 'एट', 'वडाला', 'के', 'बारे', 'उन्होंने', 'खुलकर', 'करियर', 'के', 'बारे', 'बातें', 'कीं', 'फिल्म', 'के', 'दशक', 'के', 'मशहूर', 'गैंगस्टर', 'मान्या', 'सुर्वे', 'के', 'किरदार', 'आधारित', 'अनिल', 'कपूर', 'पुलिस', 'इंस्पेक्टर', 'भूमिका', 'निभा', 'सनी', 'लियोनी', 'अंदाज़अनिल', 'कपूर', 'इससे', 'तेज़ाब', 'ज़िंदगी', 'जुआ', 'बेनाम', 'बादशाह', 'त्रिमूर्ति', 'मुसाफिर', 'जैसी', 'फिल्मों', 'चोर', 'गैंग्स्टर', 'भूमिका', 'निभाई', 'भला', 'के', 'रोल', 'तैयारी', 'वो', 'जवाब', 'अनिल', 'कपूर', 'दिलचस्प', 'अंदाज़', 'अनिल', 'बताया', 'किरदार', 'रियल', 'बनाने', 'के', 'जेल', 'जाकर', 'अपराधियों', 'अंडरवर्ल्ड', 'के', 'लोगों', 'मिलता', 'गैंगस्टर्स', 'मुझे', 'धमकी', 'देते', 'ओए', 'अनिल', 'तू', 'फलां', 'गैंग', 'ज्वाइन', 'मत', 'समझाता', 'रोल', 'तैयारी', 'के', 'सिलसिले', 'उनसे', 'मिला', 'इससे', 'ज़्यादा', 'उनसे', 'लेना-देना', 'नहीं', 'साल', 'के', 'अनिल', 'कपूर', 'आपको', 'फिट', 'रखते', 'वो', 'आधी', 'उम्र', 'हीरोइन', 'के', 'पर्दे', 'रोमांस', 'सहज', 'लगते', 'बेटी', 'अनिल', 'कपूर', 'रायइसका', 'जवाब', 'देते', 'अनिल', 'कपूर', 'शायद', 'ऊर्जावान', 'रहने', 'फिट', 'दिखने', 'गुण', 'मुझे', 'विरासत', 'मिला', 'मेरे', 'दादा', 'जी', 'साल', 'ज़्यादा', 'जिए', 'मेरे', 'पिताजी', 'सालों', 'ज़िंदा', 'खासे', 'घने', 'बाल', 'शायद', 'वजह', 'वर्ना', 'फिट', 'रखने', 'के', 'खास', 'मेहनत', 'नहीं', 'हूं', 'खाने-पीने', 'शौकीन', 'हूं', 'वो', 'ज़रूर', 'थोड़ी', 'एक्सरसाइज़', 'हमेशा', 'खुश', 'रहने', 'आदत', 'वो', 'आपको', 'जवां', 'महसूस', 'सितारों', 'सजी', 'संजय', 'गुप्ता', 'निर्देशित', 'शूटआउट', 'एट', 'वडाला', 'मई', 'रिलीज़', 'मान्या', 'सुर्वे', 'नाम', 'के', 'गैंगस्टर', 'भूमिका', 'जॉन', 'अब्राहम', 'निभाई', 'अनिल', 'कपूर', 'जॉन', 'अब्राहम', 'के', 'अलावा', 'तुषार', 'कपूर', 'मनोज', 'वाजपेयी', 'सोनू', 'सूद', 'मुख्य', 'भूमिका', 'फिल्म', 'प्रियंका', 'चोपड़ा', 'आइटम', 'सॉन्ग', 'पेश', 'फिल्म', 'के', 'दशक', 'मुंबई', 'एनकाउंटर', 'आधारित']\n",
            "--------------------------------------------------------------------------------\n",
            "['india|ये', 'कहानी', 'ऐसी', 'लड़की', 'लड़के', 'इश्क़', 'वजह', 'नहीं', 'भागी', 'वो', 'भागी', 'क्योंकि', 'मन', 'पढ़ाई', 'करनी', 'बीबीसी', 'हिंदी', 'सिरीज़', 'भागी', 'लड़कियां', 'पहली', 'किस्त', 'विभावरी', 'दूसरी', 'किस्त', 'शिवानी', 'कहानी', 'पढ़', 'चुके', 'लड़कियां', 'प्यार', 'घर', 'निकली', 'थीं', 'तीसरी', 'किस्त', 'लड़की', 'कहानी', 'जिसके', 'घर', 'भागने', 'वजह', 'प्यार', 'नहीं', 'गांव', 'के', 'स्कूल', 'हमेशा', 'पहली', 'दूसरी', 'पोज़िशन', 'आती', 'स्कूल', 'के', 'टीचर', 'पापा', 'मिलने', 'तारीफ़', 'नहीं', 'भूलते', 'पापा', 'खुशी', 'फूले', 'न', 'समाते', 'मुझे', 'मेडिकल', 'पढ़ाई', 'कराना', 'चाहते', 'लगता', 'बेटा', 'एमबीबीएस', 'बेटी', 'लेगी', 'गांव', 'पांचवीं', 'पढ़ाई', 'के', 'गांव', 'पढ़ने', 'जाना', 'पड़ता', 'दसवीं', 'क्लास', 'अच्छे', 'नंबर', 'आए', 'पापा', 'उम्मीद', 'बढ़', 'पापा', 'सोच', 'लड़का', 'लड़की', 'डॉक्टर', 'बनेंगे', 'गांव', 'के', 'स्कूल', 'वीं', 'मेडिकल', 'के', 'ज़रूरी', 'सब्जेक्ट', 'नहीं', 'पापा', 'एडमिशन', 'गुड़गांव', 'के', 'प्राइवेट', 'इंग्लिश', 'मीडियम', 'स्कूल', 'करवा', 'फ़ीस', 'भरना', 'पापा', 'के', 'मुश्किल', 'पापा', 'घर', 'के', 'खर्चे', 'कटौती', 'स्कूल', 'फ़ीस', 'चुकाई', 'शहर', 'के', 'स्कूल', 'आकर', 'मालूम', 'चला', 'दुनिया', 'कितनी', 'बड़ी', 'सब', 'फ़र्राटेदार', 'इंग्लिश', 'बात', 'ऐसी', 'इंग्लिश', 'हमारे', 'स्कूल', 'के', 'इंग्लिश', 'टीचर', 'न', 'बोल', 'पाते', 'लड़कियों', 'स्कूल', 'ड्रेस', 'छोटी', 'स्कर्ट', 'सपने', 'लगता', 'सबसे', 'उलट', 'टॉम', 'बॉय', 'टाइप', 'लड़की', 'लंबी', 'स्कर्ट', 'बेढंगी', 'शर्ट', 'हिंदी', 'बोलने', 'वाली', 'सबके', 'मज़ाक', 'केंद्र', 'बन', 'इंग्लिश', 'ट्यूशन', 'लगाकर', 'सब', 'ठीक', 'वाली', 'बायोलॉजी', 'प्रैक्टिकल', 'क्लास', 'आ', 'कमरे', 'छिपकली', 'देखकर', 'घर', 'सिर', 'उठाने', 'वाली', 'लड़की', 'चूहे', 'छिपकली', 'काटने', 'लगी', 'डर', 'बुखार', 'दिन', 'स्कूल', 'नहीं', 'बस', 'असली', 'बीमारी', 'बहाने', 'वाली', 'बीमारी', 'आ', 'स्कूल', 'जाना', 'एकदम', 'फीस', 'लगातार', 'इतनी', 'महंगी', 'फीस', 'वजह', 'पापा', 'दबाव', 'पढ़ाई', 'के', 'बढ़ने', 'लगा', 'हारकर', 'साल', 'बर्बाद', 'करके', 'गांव', 'के', 'स्कूल', 'नॉन', 'मेडिकल', 'सब्जेक्ट', 'कोर्स', 'एडमिशन', 'ले', 'रिश्तेदार', 'पड़ोसी', 'पापा', 'समझाते', 'वीं', 'ली', 'ब्याह', 'बेटी', 'इतना', 'पैसा', 'ख़र्च', 'ठीक', 'नहीं', 'पापा', 'न', 'सुनते', 'बस', 'पढ़', 'लो-', 'लो', 'धुन', 'पापा', 'बीएससी', 'कुरुक्षेत्र', 'यूनिवर्सिटी', 'कैंपस', 'एडमिशन', 'दिलवा', 'हॉस्टल', 'चली', 'पहली', 'बार', 'घर', 'पहली', 'बार', 'सांभर', 'खाया', 'देर', 'रात', 'लड़कियों', 'के', 'बातें', 'पहली', 'बार', 'लड़कों', 'पसंद', 'प्यार', 'के', 'बारे', 'बातें', 'सब', 'नई', 'दुनिया', 'सैर', 'सा', 'खूब', 'आज़ादी', 'मिली', 'खूब', 'जिया', 'दिनों', 'बस', 'पढ़ाई', 'के', 'अलावा', 'सब', 'गांव', 'लड़की', 'शहरीकरण', 'पापा', 'पूछा', 'उससे', 'पत्रकार', 'बनते', 'न', 'अख़बारों', 'नौकरी', 'लगती', 'जगह', 'जगह', 'घूमना', 'पड़ेगा', 'मतलब', 'सारी', 'जगह', 'अकेले', 'जाना', 'पड़ेगा', 'नहीं', 'बार', 'तुम्हारी', 'नहीं', 'चलेगी', 'पापा', 'मम्मी', 'दीदी-जीजा', 'अंकल', 'बताया', 'दिमाग़', 'ख़राब', 'मेडिकल', 'पढ़ाई', 'छोड़ी', 'बीएससी', 'छोड़नी', 'यहीं', 'पढ़ो', 'घर', 'बैठो', 'शादी', 'के', 'लड़का', 'देख', 'तुम्हें', 'नहीं', 'पढ़ना', 'लड़का', 'खोजा', 'लगा', 'घर', 'सबने', 'मुझसे', 'बात', 'करनी', 'दी', 'उधर', 'हर', 'रोज़', 'सोचती-', 'भागूं', 'करूं', 'कहीं', 'चली', 'पैसे', 'कहां', 'आएंगे', 'तरह-तरह', 'के', 'सवाल', 'दिल्ली', 'यूनिवर्सिटी', 'पत्रकारिता', 'फॉर्म', 'भर', 'इंटरव्यू', 'क्वालिफ़ाई', 'नहीं', 'पाई', 'पत्रकारिता', 'लड़के', 'जानती', 'कुरुक्षेत्र', 'कश्मीरी', 'गेट', 'के', 'बस', 'स्टैंड', 'उससे', 'मुलाकात', 'नाम', 'याद', 'आया', 'उससे', 'मिलने', 'तरीका', 'ढूंढने', 'लगी', 'उससे', 'मुलाकात', 'मेरी', 'लाइफ़', 'टर्निंग', 'पॉइंट', 'वो', 'लड़का', 'कानपुर', 'नोएडा', 'के', 'प्राइवेट', 'इंस्टीट्यूट', 'पत्रकारिता', 'उससे', 'संपर्क', 'सारी', 'बात', 'बताई', 'इतनी', 'अक्ल', 'नहीं', 'अनजान', 'सीधे', 'बताना', 'नहीं', 'लड़के', 'बोला-', 'चिंता', 'मत', 'करो', 'तुम्हारी', 'मदद', 'करुंगा', 'मैंने', 'लड़के', 'पड़ोस', 'चाची', 'के', 'घर', 'लैंडलाइन', 'नंबर', 'घर', 'के', 'लैंडलाइन', 'फ़ोन', 'आ', 'घरवाले', 'फ़ौरन', 'शादी', 'फ़िक्स', 'देते', 'रोज़', 'कॉल', 'आई', 'वो', 'बोला', 'खुशखबरी', 'फरीदाबाद', 'कॉलेज', 'पहली', 'बार', 'पत्रकारिता', 'कोर्स', 'आया', 'सरकारी', 'फीस', 'होगी', 'लगता', 'भगवान', 'तेरी', 'सुन', 'ली', 'बस', 'चार', 'हज़ार', 'रुपए', 'जुगाड़', 'लो', 'मेरे', 'पास', 'इतने', 'पैसे', 'नहीं', 'लड़के', 'पैसे', 'फॉर्म', 'भरा', 'बस', 'साइन', 'के', 'फ़रीदाबाद', 'दीदी', 'जीजा', 'लगातार', 'मनाती', 'हिम्मत', 'करके', 'लड़के', 'के', 'पास', 'पहुंच', 'दूसरी', 'बार', 'गुड़गांव', 'फरीदाबाद', 'भला', 'लड़के', 'बातों-बातों', 'पता', 'मुझे', 'बताया', 'भगवान', 'दुआ', 'बढ़ी', 'वो', 'लड़का', 'रूममेट', 'के', 'फ्लैट', 'सीढ़ियों', 'मुझे', 'मिला', 'बस', 'चौंक', 'वो', 'बोला', 'आई', 'कैसे-किसके', 'आई', \"'जवाब\", 'मैंने', 'मुझे', 'शादी', 'नहीं', 'करनी', 'बस', 'पढ़ना', 'मेरी', 'मदद', 'लो', 'प्लीज', 'घर', 'भागकर', 'आई', 'हूं', 'मुझे', 'घर', 'नहीं', 'जाना', 'यहीं', 'तुम्हारे', 'कमरे', 'के', 'कोने', 'जाऊंगी', 'घर', 'काम', 'दूंगी', 'वो', 'लड़का', 'मुझे', 'समझाने', 'लगा', 'तुम्हारे', 'पापा', 'बात', 'करुंगा', 'सब', 'ग़लत', 'समझेंगे', 'घर', 'लौट', 'जाओ', 'मेरी', 'ज़िद', 'देखते', 'उसने', 'दीदी', 'फ़ोन', 'नंबर', 'मेरे', 'सही', 'सलामत', 'रहने', 'बात', 'पता', 'बताया', 'दीदी', 'जीजा', 'मुझे', 'लेने', 'पहुंच', 'वक्त', 'दीदी', 'के', 'पास', 'दीदी', 'मेरी', 'हमराज़', 'थीं', 'पापा', 'के', 'डर', 'साल', 'घर', 'नहीं', 'धीरे-धीरे', 'चीज़ें', 'नॉर्मल', 'लगीं', 'कॉलेज', 'फीस', 'के', 'ब्यूटी', 'पार्लर', 'काम', 'शुरू', 'पीजी', 'रहने', 'लगी', 'ट्यूशन', 'पढ़ाया', 'कहता', 'शादी', 'ली', 'कहता-', 'आईआईएमसी', 'भारतीय', 'जनसंचार', 'संस्थान', 'पढ़ाई', 'नेट', 'नौकरी', 'लगने', 'मेरे', 'भागने', 'के', 'चर्चे', 'गांव', 'मेरी', 'शादी', 'मेरी', 'हवा-हवाई', 'शादी', 'के', 'चर्चे', 'गांवों', 'लड़कियों', 'राह', 'आसान', 'नहीं', 'इतने', 'साल', 'मैंने', 'लड़ाई', 'छोटे-छोटे', 'सपनों', 'पसंद', 'पढ़ाई', 'के', 'घर', 'अंदरुनी', 'तौर', 'लड़', 'मेरे', 'पेरेंट्स', 'समाज', 'लड़', 'तमाम', 'परेशानियों', 'के', 'बावज़ूद', 'ज़िंदगी', 'खूबसूरत', 'लगती', 'क्योंकि', 'ज़िंदगी', 'हाथों', 'बनाई']\n",
            "--------------------------------------------------------------------------------\n",
            "['entertainment|वायकॉम', 'मोशन', 'पिक्चर्स', 'केप', 'ऑफ़', 'गुड', 'फ़िल्म्स', 'अश्विन', 'वर्दे', 'बॉस', 'एक्शन', 'फ़िल्म', 'पिता-पुत्र', 'रिश्ते', 'आधारित', 'फ़िल्म', 'कहानी', 'ईमानदार', 'स्कूल', 'प्रिसिंपल', 'सत्यकांत', 'शास्त्री', 'मिथुन', 'चक्रवर्ती', 'बेटों', 'सूर्या', 'अक्षय', 'कुमार', 'शिव', 'शिव', 'पंडित', 'सूर्या', 'बचपन', 'बेहद', 'गुस्सैल', 'स्वभाव', 'पिता', 'परिवार', 'के', 'ख़िलाफ़', 'सुनना', 'बर्दाश्त', 'नहीं', 'पाता', 'अक्षय', 'बोले', \"'अब\", 'नहीं', 'सुपरस्टार', 'वो', 'छोटा', 'तभी', 'साथी', 'हत्या', 'देता', 'क्योंकि', 'वो', 'पिता', 'मज़ाक', 'उड़ाता', 'सूर्यकांत', 'वजह', 'सूर्या', 'घर', 'बेदखल', 'देता', 'फ़िल्म', 'कहानी', 'सूर्या', 'के', 'दरियादिल', 'कॉन्ट्रेक्ट', 'किलर', 'बनने', 'घटनाओं', 'के', 'बढ़ती', 'पिता', 'जिन्होंने', 'बचपन', 'बेदखल', 'मदद', 'लेने', 'मजबूर', 'वो', 'छोटे', 'भाई', 'बचाने', 'मारने', 'कशमकश', 'पड़', 'दिखाया', 'फ़िल्म', 'मलयालम', 'फ़िल्म', 'पोकरी', 'राजा', 'रीमेक', 'फ़रहाद-साजिद', 'लिखी', 'कहानी', 'जगह', 'दोहराव', 'नज़र', 'आता', 'एक्शन', 'फ़ैमिली', 'ड्रामा', 'बखूबी', 'दिखाया', 'रिव्यू', 'बेशरम', 'पिता-पुत्र', 'के', 'रिश्तों', 'अच्छी', 'दिखाया', 'दर्शकों', 'अपील', 'करेगा', 'स्क्रीनप्ले', 'फ़रहाद-साजिद', 'दिलचस्प', 'मोड़', 'जिसकी', 'वजह', 'दर्शक', 'फ़िल्म', 'बंधे', 'रहेंगे', 'कहीं', 'कहीं', 'फ़िल्म', 'बोझिल', 'लगने', 'लगती', 'बोरियत', 'ज़्यादा', 'के', 'नहीं', 'फ़िल्म', 'ड्रामा', 'हर', 'के', 'दर्शक', 'कहीं', 'ना', 'कहीं', 'ज़रूर', 'पसंद', 'आएगा', 'फ़िल्म', 'कॉमेडी', 'माहौल', 'हल्का', 'बनाए', 'रखती', 'दर्शकों', 'ठहाके', 'लगाने', 'मजबूर', 'देती', 'फ़िल्म', 'के', 'भावनात्मक', 'दृश्य', 'दर्शकों', 'आंखों', 'आंसू', 'निकालने', 'भले', 'कामयाब', 'ना', 'पाए', 'दिलों', 'ज़रूर', 'छू', 'लेते', 'फ़िल्म', 'के', 'क्लाइमेक्स', 'ख़ास', 'सस्पेंस', 'खुलता', 'दर्शकों', 'हैरान', 'देता', 'हिस्से', 'फ़िल्म', 'हाइलाइट', 'कहना', 'ग़लत', 'नहीं', 'होगा', 'नहीं', 'स्क्रीनप्ले', 'ख़ामी', 'ना', 'कहानी', 'सहूलियत', 'के', 'हिसाब', 'सीन', 'रच', 'दिए', 'सहज', 'विश्वास', 'मुमकिन', 'नहीं', 'पढ़िए', \"'फटा\", 'पोस्टर', 'निकला', 'हीरो', 'रिव्यू', 'फ़िल्म', 'के', 'आधे', 'घंटे', 'सूर्या', 'अक्षय', 'कुमार', 'के', 'बचपन', 'दिखाने', 'खर्च', 'दिए', 'यानी', 'अक्षय', 'एंट्री', 'फ़िल्म', 'देर', 'फ़िल्म', 'बड़ी', 'कमी', 'अक्षय', 'कुमार', 'फ़िल्म', 'रोमांटिक', 'ट्रैक', 'नहीं', 'शिव', 'पंडित', 'अदिति', 'राव', 'हैदरी', 'जगह', 'थोड़े', 'ज़्यादा', 'लोकप्रिय', 'चेहरों', 'रोल्स', 'के', 'लेना', 'बेहतर', 'फ़रहाद-साजिद', 'के', 'लिखे', 'संवादों', 'दम', 'कहना', 'ग़लत', 'नहीं', 'होगा', 'संवाद', 'फ़िल्म', 'मुख्य', 'ताकत', 'अक्षय', 'कुमार', 'सूर्या', 'उर्फ़', 'बॉस', 'के', 'रोल', 'ज़बरदस्त', 'काम', 'वो', 'हास्य', 'दृश्यों', 'शानदार', 'एक्शन', 'दृश्यों', 'कमाल', 'लगे', 'बेहतरीन', 'डांस', 'भावनात्मक', 'दृश्यों', 'छाप', 'छोड़', 'दी', 'मिथुन', 'चक्रवर्ती', 'किरदार', 'के', 'न्याय', 'बिग', 'बॉस', 'के', 'रोल', 'डैनी', 'डेंग्ज़ोंपा', 'बेहद', 'प्रभावी', 'रिव्यू', 'लंच', 'बॉक्स', 'पुलिस', 'अफ़सर', 'के', 'रोल', 'रोनित', 'रॉय', 'शानदार', 'किरदार', 'देखकर', 'उनसे', 'चिढ़', 'लगती', 'कामयाबी', 'गानों', 'सोनाक्षी', 'सिन्हा', 'मौजूदगी', 'फ़िल्म', 'ग्लैमर', 'प्रदान', 'करती', 'अमिताभ', 'बच्चन', 'कमेंट्री', 'फ़िल्म', 'वैल्यू', 'बढ़ा', 'देती', 'एंथनी', 'डीसूज़ा', 'निर्देशन', 'अच्छा', 'कहानी', 'कहने', 'अंदाज़', 'हर', 'दर्शक', 'छू', 'लेता', 'पार्टी', 'ऑल', 'नाइट', \"'हम\", 'ना', 'तोड़े', 'गाने', 'लोगों', 'पसंद', 'आएंगे', 'मिलाकर', 'बॉस', 'मनोरंजक', 'फ़िल्म', 'दर्शकों', 'पसंद', 'आएगी']\n",
            "--------------------------------------------------------------------------------\n",
            "['sport|मरे', 'फ़ाइनल', 'दुनिया', 'के', 'नंबर', 'खिलाड़ी', 'सर्बिया', 'के', 'नोवाक', 'जोकोविच', 'लगातार', 'सेटों', 'हराकर', 'सेंटर', 'कोर्ट', 'बैठे', 'दर्शकों', 'देश', 'भर', 'के', 'लाखों', 'टेनिस', 'प्रेमियों', 'जश्न', 'मनाने', 'मौक़ा', 'दे', 'साल', 'के', 'मरे', 'ग्रैंड', 'स्लैम', 'इससे', 'उन्होंने', 'पिछले', 'साल', 'यूएस', 'ओपन', 'ख़िताब', 'ओलंपिक', 'स्वर्ण', 'पदक', 'जीता', 'बीबीसी', 'के', 'कमेंटेटर', 'चार', 'बार', 'विंबलडन', 'सेमीफ़ाइनल', 'पहुंचे', 'टिम', 'हेनमैन', 'लॉकर', 'रूम', 'मरे', 'जीत', 'के', 'जश्न', 'शामिल', 'उन्होंने', '“', 'मुझे', 'मैच', 'के', 'तुरंत', 'लॉकर', 'रूम', 'सौभाग्य', 'प्राप्त', 'एंडी', 'जीत', 'विश्वास', 'नहीं', 'मैंने', 'गले', 'लगाया', 'उनसे', 'नहीं', 'जानता', 'आपने', 'जवाब', '‘', 'नहीं', 'जानता', '’', '”', 'हेनमैन', '“', 'अविश्वसनीय', 'उपलब्धि', 'ख़ुमार', 'चढ़ा', 'एंडी', 'टेनिस', 'के', 'छात्र', 'जूनियर', 'स्तर', 'के', 'परिणाम', 'याद', 'मैच', 'शॉट', 'याद', 'फ़ाइनल', 'के', 'अंतिम', 'गेम', 'के', 'बारे', 'याद', 'नहीं', 'गेम', 'यादें', 'धुंधला', '”', 'उन्होंने', '“', 'मैंने', 'लॉकर', 'रूम', 'एंडी', 'टीम', 'के', 'सदस्यों', 'बात', 'वहां', 'शैंपेन', 'उड़ाई', 'जैसे-तैसे', 'बच', 'एंडी', 'पूरी', 'शैंपेन', 'नहा', 'शराब', 'नहीं', 'पीते', 'घूंट', 'पीनी', 'पड़ी', 'शैंपेन', 'हलक', 'उतरी', 'मुंह', 'निकला', '‘', 'ख़राब', '’', '”', 'हेनमैन', 'बताया', '“', 'पिछली', 'बार', 'उन्होंने', 'शैंपेन', 'ली', 'वो', 'यूएस', 'ओपन', 'जीतकर', 'घर', 'वापस', 'आ', 'उन्होंने', 'विमान', 'टूथपेस्ट', 'के', 'बजाय', 'फेस', 'क्रीम', 'इस्तेमाल', 'उन्होंने', 'शैंपेन', 'ली', '”', 'उन्होंने', '“', 'एंडी', 'के', 'शानदार', 'दिन', 'टेनिस', 'टेनिस', 'प्रेमियों', 'ब्रिटेन', 'के', 'खेलों', 'के', 'शानदार', 'दिन', 'साल', 'बीबीसी', 'स्पोर्ट्स', 'पर्सनेलिटी', 'ऑफ़', 'द', 'ईयर', 'अवार्ड', 'मिलना', '”', 'हेनमैन', '“', 'शक', 'नहीं', 'उन्होंने', 'ब्रिटेन', 'जनता', 'दिल', 'जीत', 'इससे', 'चंद', 'लोगों', 'काबिलियत', 'संदेह', 'पिछले', 'महीने', 'लोगों', 'अलग', 'रंग', 'देखा', '”', 'उन्होंने', '“', 'पिछले', 'साल', 'विंबलडन', 'के', 'फ़ाइनल', 'हारना', 'एंडी', 'के', 'बेहद', 'अहम', 'साबित', 'उन्होंने', 'ओलंपिक', 'स्वर्ण', 'जीता', 'बीबीसी', 'डॉक्यूमेंट्री', 'दुनिया', 'समझने', 'मदद', 'मिली', 'कितने', 'महान', 'खिलाड़ी', 'बात', 'महसूस', 'समर्थन', 'लगातार', 'बढ़ता', 'फ़ाइनल', 'माहौल', 'अद्भुत', '”', 'हेनमैन', 'के', 'अनुसार', '“', 'मुझे', 'हमेशा', 'लगता', 'क्षण', 'आएगा', 'प्रतिभा', 'पहचान', 'डेविस', 'कप', 'ऑरेंज', 'ब्वॉय', 'वॉटर', 'ब्वॉय', 'मैंने', 'स्पेन', 'क्ले', 'कोर्ट', 'हाथ', 'आजमाए', 'जहां', 'बतौर', 'जूनियर', 'प्रशिक्षण', 'ले', '”', 'उन्होंने', '“', 'छोटी', 'उम्र', 'काफी', 'बॉल', 'के', 'गुजारते', 'बात', 'खिलाड़ियों', 'अलग', 'करती', '”']\n",
            "--------------------------------------------------------------------------------\n",
            "['entertainment|वरुण', 'भरोसा', 'बॉलीवुड', 'वो', 'दिन', 'नहीं', 'अभिनेत्रियों', 'सोलो', 'फटिल्में', 'बॉक्स', 'ऑफिस', 'करोड़', 'रुपए', 'कारोबार', 'करेंगी', 'कहना', 'परिवार', 'आते', 'वहां', 'पुरुषों', 'संख्या', 'ज़्यादा', 'वो', 'प्रेरणा', 'मां', 'लेते', 'डेविड', 'धवन', 'के', 'बेटे', 'कहना', 'महिलाओं', 'अत्याचारों', 'के', 'ख़िलाफ़', 'आवाज़', 'उठाने', 'समझ', 'उनमें', 'वो', 'महज़', 'साल', 'के', 'फ़िल्म', 'मेकिंग', 'हिट', 'बॉलीवुड', 'मिसफिटवरुण', 'बताते', 'दिन', 'वो', 'घर', 'अकेले', 'पड़ोस', 'ऐसी', 'घटना', 'नंबर', 'डायल', 'पुलिस', 'बुलानी', 'पड़ी', 'दरअसल', 'उन्होंने', 'पड़ोस', 'के', 'घर', 'घरेलू', 'हिंसा', 'जानकारी', 'आवाज़', 'उठाई', 'उन्होंने', 'के', 'घर', 'आती', 'आवाज़', 'सुनते', 'हमें', 'लगता', 'पड़ें', 'जहां', 'रहता', 'बिल्डिंग', 'नाम', 'नहीं', 'बताना', 'चाहता', 'वहां', 'मुझे', 'पड़ोस', 'आवाज़ें', 'सुनाई', 'दीं', 'मेरे', 'घर', 'नही', 'मैंने', 'पुलिस', 'फ़ोन', 'साल', 'राजनीतिक', 'मुद्दों', 'बयान', 'क़ब्र', 'खोदने', \"जैसा'उस\", 'घटना', 'ज़िक्र', 'वरुण', 'पुलिस', 'आई', 'मैंने', 'सब', 'बताया', 'छोटा', 'मुझे', 'लगता', 'मैंने', 'पुलिस', 'ज़्यादा', 'डरा', 'मुझे', 'नहीं', 'लगा', 'मैंने', 'ग़लत', 'पुलिस', 'चली', 'मेरी', 'मां', 'तुमने', 'बिल्कुल', 'सही', 'महिलाओं', 'के', 'दोहरे', 'व्यवहार', 'के', 'वरुण', 'समाज', 'ज़िम्मेदार', 'मानते', 'वो', 'परवरिश', 'पंजाबी', 'परिवार', 'जहां', 'नवरात्र', 'कन्या', 'पूजा', 'महत्व', 'वरुण', 'लक्ष्मी', 'पूजा', 'के', 'मेरी', 'मम्मी', 'मुझसे', 'कन्याओं', 'के', 'पैर', 'धुलवाती', 'भारत', 'जगह', 'कल्चर', 'फ़ौलो', 'लोगों', 'दिमाग़', 'इतना', 'हमारी', 'सोसाइटी', 'ग़लत', 'ग़लत', 'इसको', 'सुधारने', 'ज़िम्मा', 'सिर्फ़', 'सरकार', 'नहीं', 'डाल', 'सबको', 'तरीके', 'होगा', 'वरुण', 'धवन', 'राज्यसभा', 'के', 'वोटिंग', 'माधुरी', 'के', 'बस', 'छैंया', 'छैंया', 'वरुण', 'मां', 'सबसे', 'मज़बूत', 'महिला', 'मानते', 'वो', 'मां', 'पिता', 'के', 'मुक़ाबले', 'संघर्ष', 'मेहनत', 'वो', 'बताते', 'मैंने', 'मम्मी', 'करियर', 'पापा', 'के', 'करियर', 'ज़्यादा', 'क़रीब', 'देखा', 'छोटा', 'पापा', 'के', 'सेट', 'नहीं', 'मेरे', 'पापा', 'बिज़ी', 'मां', 'के', 'संघर्ष', 'जिक्र', 'वरुण', 'मेरे', 'स्कूल', 'के', 'हर', 'फ़ंक्शन', 'आना', 'गाड़ी', 'चलाना', 'बिज़नेस', 'देखना', 'फ़ैमिली', 'देखना', 'उन्होंने', 'मुझे', 'गाड़ी', 'चलाना', 'मेरी', 'मम्मी', 'सिखाया', 'मेरे', 'पापा', 'मेरी', 'मम्मी', 'हमेशा', 'तारीफ़', 'क्योंकि', 'उन्होंने', 'अकेले', 'नहीं', 'पाता', 'कहानी', 'महिला', 'पटकथा', 'लेखिकाओं', 'कीबॉलीवुड', 'के', 'साथ-साथ', 'क्षेत्रों', 'महिलाओं', 'पुरुषों', 'वेतन', 'मिलने', 'बात', 'वरुण', 'खटकती', 'के', 'युवाओं', 'के', 'हीरो', 'कहे', 'वरुण', 'युवाओं', 'अपील', 'महिलाओं', 'सम्मान', 'जाना', 'वो', 'आदमी', 'औरत', 'दबा', 'देता', 'औरत', 'सहन', 'लेती', 'नहीं', 'चार', 'बार', 'सोचती', 'इसको', 'छोड़', 'दूं', 'मेरे', 'बच्चों', 'होगा', 'होगा', 'रहूंगी', 'नही', 'वरुण', 'औरतें', 'मर्द', 'छोड़', 'देती', 'क्योंकि', 'पता', 'वो', 'पैरों', 'खड़ी', 'वरुण', 'राय', 'महिलाओं', 'के', 'इज्ज़त', 'सबसे', 'अहम', 'वो', 'सम्मान', 'देना']\n",
            "--------------------------------------------------------------------------------\n"
          ]
        }
      ]
    },
    {
      "cell_type": "code",
      "source": [
        "# # Create a DataFrame with articles and their tags\n",
        "tags_df = pd.DataFrame({\n",
        "    # 'article': data['Final'],\n",
        "    'article': data['Final'].apply(lambda x: x.split('|', 1)[-1].strip()),\n",
        "    'tag': data['Final'].apply(lambda x: x.split('|')[0].strip())  # Extract the label from the article\n",
        "})\n",
        "# print(tags_df.head())\n",
        "\n",
        "# Print the number of unique tags\n",
        "num_unique_tags = tags_df['tag'].nunique()\n",
        "print(f\"Number of unique tags: {num_unique_tags}\")\n",
        "\n",
        "# Print the names of unique tags\n",
        "unique_tags = tags_df['tag'].unique()\n",
        "print(\"Unique tag names:\")\n",
        "for tag in unique_tags:\n",
        "    print(tag,list(tags_df['tag']).count(tag))\n"
      ],
      "metadata": {
        "colab": {
          "base_uri": "https://localhost:8080/"
        },
        "id": "SsvM1CrXpbtg",
        "outputId": "b24f62e2-cd80-4d18-cf04-8a0f87670ff8"
      },
      "execution_count": null,
      "outputs": [
        {
          "output_type": "stream",
          "name": "stdout",
          "text": [
            "Number of unique tags: 6\n",
            "Unique tag names:\n",
            "entertainment 285\n",
            "india 1385\n",
            "international 904\n",
            "news 230\n",
            "science 192\n",
            "sport 258\n"
          ]
        }
      ]
    },
    {
      "cell_type": "code",
      "source": [
        "print(len(cluster_labels))\n",
        "print(cluster_labels)\n",
        "# for i in range(600):\n",
        "#   if(i>=579 and i<=581):\n",
        "#     print(cluster_labels[i])"
      ],
      "metadata": {
        "colab": {
          "base_uri": "https://localhost:8080/"
        },
        "id": "JRZ9T8CcPfH-",
        "outputId": "874aaaf1-8688-4d77-fad7-128839688caf"
      },
      "execution_count": null,
      "outputs": [
        {
          "output_type": "stream",
          "name": "stdout",
          "text": [
            "3254\n",
            "[9 8 9 ... 5 4 4]\n"
          ]
        }
      ]
    }
  ],
  "metadata": {
    "colab": {
      "provenance": []
    },
    "kernelspec": {
      "display_name": "Python 3",
      "name": "python3"
    },
    "language_info": {
      "name": "python"
    }
  },
  "nbformat": 4,
  "nbformat_minor": 0
}